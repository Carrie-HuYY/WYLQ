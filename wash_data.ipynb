{
 "cells": [
  {
   "cell_type": "code",
   "execution_count": 46,
   "outputs": [],
   "source": [
    "import numpy as np\n",
    "import pandas as pd\n",
    "from scipy.stats import chi2_contingency, pointbiserialr\n",
    "from sklearn.linear_model import LogisticRegression\n",
    "from sklearn.ensemble import RandomForestClassifier\n",
    "from sklearn.ensemble import GradientBoostingClassifier\n",
    "from sklearn.metrics import roc_auc_score\n",
    "from sklearn.svm import NuSVC\n",
    "from sklearn.svm import LinearSVC\n",
    "from sklearn.neural_network import MLPClassifier\n",
    "from sklearn.model_selection import train_test_split\n",
    "from sklearn.preprocessing import StandardScaler\n",
    "from sklearn.svm import SVC\n",
    "from sklearn.metrics import accuracy_score\n",
    "from sklearn.linear_model import LinearRegression\n",
    "from sklearn.model_selection import train_test_split\n",
    "from sklearn.datasets import load_boston"
   ],
   "metadata": {
    "collapsed": false,
    "pycharm": {
     "name": "#%%\n"
    }
   }
  },
  {
   "cell_type": "markdown",
   "source": [
    "# 清洗数据"
   ],
   "metadata": {
    "collapsed": false,
    "pycharm": {
     "name": "#%% md\n"
    }
   }
  },
  {
   "cell_type": "code",
   "execution_count": 144,
   "outputs": [],
   "source": [
    "healthy_patient = pd.read_excel(\"data/washed_data/patient_year_data_washed.xlsx\")\n",
    "sick_patient = pd.read_excel(\"data/washed_data/patient_week_data_washed.xlsx\")"
   ],
   "metadata": {
    "collapsed": false,
    "pycharm": {
     "name": "#%%\n"
    }
   }
  },
  {
   "cell_type": "code",
   "execution_count": 146,
   "outputs": [
    {
     "data": {
      "text/plain": "   编号  发病日期及前一周运气  运气相合 运气同化    岁运    司天    在泉 运气异化  主运  客运  属于几之运    主气  \\\n0   1  2018-04-04  强火寒湿    0  火运太过  太阳寒水  太阴湿土   天刑  太徵  少宫      2  少阴君火   \n1   1  2018-04-03  强火寒湿    0  火运太过  太阳寒水  太阴湿土   天刑  少角  太徵      1  少阴君火   \n2   1  2018-04-02  强火寒湿    0  火运太过  太阳寒水  太阴湿土   天刑  少角  太徵      1  厥阴风木   \n3   1  2018-04-01  强火寒湿    0  火运太过  太阳寒水  太阴湿土   天刑  少角  太徵      1  厥阴风木   \n4   1  2018-03-31  强火寒湿    0  火运太过  太阳寒水  太阴湿土   天刑  少角  太徵      1  厥阴风木   \n5   1  2018-03-30  强火寒湿    0  火运太过  太阳寒水  太阴湿土   天刑  少角  太徵      1  厥阴风木   \n6   1  2018-03-29  强火寒湿    0  火运太过  太阳寒水  太阴湿土   天刑  少角  太徵      1  厥阴风木   \n7   2  2011-01-16  强金火风    0  金运太过  少阳相火  厥阴风木    0  少羽  少宫      5  太阳寒水   \n8   2  2011-01-15  强金火风    0  金运太过  少阳相火  厥阴风木    0  少羽  少宫      5  太阳寒水   \n9   2  2011-01-14  强金火风    0  金运太过  少阳相火  厥阴风木    0  少羽  少宫      5  太阳寒水   \n\n     客气  属于几之气 得/不得  逆/顺  \n0  阳明燥金      2  不相得    逆  \n1  少阳相火      1   相得    逆  \n2  少阳相火      1   相得  NaN  \n3  少阳相火      1   相得  NaN  \n4  少阳相火      1   相得  NaN  \n5  少阳相火      1   相得  NaN  \n6  少阳相火      1   相得  NaN  \n7  厥阴风木      6   相得  NaN  \n8  厥阴风木      6   相得  NaN  \n9  厥阴风木      6   相得  NaN  ",
      "text/html": "<div>\n<style scoped>\n    .dataframe tbody tr th:only-of-type {\n        vertical-align: middle;\n    }\n\n    .dataframe tbody tr th {\n        vertical-align: top;\n    }\n\n    .dataframe thead th {\n        text-align: right;\n    }\n</style>\n<table border=\"1\" class=\"dataframe\">\n  <thead>\n    <tr style=\"text-align: right;\">\n      <th></th>\n      <th>编号</th>\n      <th>发病日期及前一周运气</th>\n      <th>运气相合</th>\n      <th>运气同化</th>\n      <th>岁运</th>\n      <th>司天</th>\n      <th>在泉</th>\n      <th>运气异化</th>\n      <th>主运</th>\n      <th>客运</th>\n      <th>属于几之运</th>\n      <th>主气</th>\n      <th>客气</th>\n      <th>属于几之气</th>\n      <th>得/不得</th>\n      <th>逆/顺</th>\n    </tr>\n  </thead>\n  <tbody>\n    <tr>\n      <th>0</th>\n      <td>1</td>\n      <td>2018-04-04</td>\n      <td>强火寒湿</td>\n      <td>0</td>\n      <td>火运太过</td>\n      <td>太阳寒水</td>\n      <td>太阴湿土</td>\n      <td>天刑</td>\n      <td>太徵</td>\n      <td>少宫</td>\n      <td>2</td>\n      <td>少阴君火</td>\n      <td>阳明燥金</td>\n      <td>2</td>\n      <td>不相得</td>\n      <td>逆</td>\n    </tr>\n    <tr>\n      <th>1</th>\n      <td>1</td>\n      <td>2018-04-03</td>\n      <td>强火寒湿</td>\n      <td>0</td>\n      <td>火运太过</td>\n      <td>太阳寒水</td>\n      <td>太阴湿土</td>\n      <td>天刑</td>\n      <td>少角</td>\n      <td>太徵</td>\n      <td>1</td>\n      <td>少阴君火</td>\n      <td>少阳相火</td>\n      <td>1</td>\n      <td>相得</td>\n      <td>逆</td>\n    </tr>\n    <tr>\n      <th>2</th>\n      <td>1</td>\n      <td>2018-04-02</td>\n      <td>强火寒湿</td>\n      <td>0</td>\n      <td>火运太过</td>\n      <td>太阳寒水</td>\n      <td>太阴湿土</td>\n      <td>天刑</td>\n      <td>少角</td>\n      <td>太徵</td>\n      <td>1</td>\n      <td>厥阴风木</td>\n      <td>少阳相火</td>\n      <td>1</td>\n      <td>相得</td>\n      <td>NaN</td>\n    </tr>\n    <tr>\n      <th>3</th>\n      <td>1</td>\n      <td>2018-04-01</td>\n      <td>强火寒湿</td>\n      <td>0</td>\n      <td>火运太过</td>\n      <td>太阳寒水</td>\n      <td>太阴湿土</td>\n      <td>天刑</td>\n      <td>少角</td>\n      <td>太徵</td>\n      <td>1</td>\n      <td>厥阴风木</td>\n      <td>少阳相火</td>\n      <td>1</td>\n      <td>相得</td>\n      <td>NaN</td>\n    </tr>\n    <tr>\n      <th>4</th>\n      <td>1</td>\n      <td>2018-03-31</td>\n      <td>强火寒湿</td>\n      <td>0</td>\n      <td>火运太过</td>\n      <td>太阳寒水</td>\n      <td>太阴湿土</td>\n      <td>天刑</td>\n      <td>少角</td>\n      <td>太徵</td>\n      <td>1</td>\n      <td>厥阴风木</td>\n      <td>少阳相火</td>\n      <td>1</td>\n      <td>相得</td>\n      <td>NaN</td>\n    </tr>\n    <tr>\n      <th>5</th>\n      <td>1</td>\n      <td>2018-03-30</td>\n      <td>强火寒湿</td>\n      <td>0</td>\n      <td>火运太过</td>\n      <td>太阳寒水</td>\n      <td>太阴湿土</td>\n      <td>天刑</td>\n      <td>少角</td>\n      <td>太徵</td>\n      <td>1</td>\n      <td>厥阴风木</td>\n      <td>少阳相火</td>\n      <td>1</td>\n      <td>相得</td>\n      <td>NaN</td>\n    </tr>\n    <tr>\n      <th>6</th>\n      <td>1</td>\n      <td>2018-03-29</td>\n      <td>强火寒湿</td>\n      <td>0</td>\n      <td>火运太过</td>\n      <td>太阳寒水</td>\n      <td>太阴湿土</td>\n      <td>天刑</td>\n      <td>少角</td>\n      <td>太徵</td>\n      <td>1</td>\n      <td>厥阴风木</td>\n      <td>少阳相火</td>\n      <td>1</td>\n      <td>相得</td>\n      <td>NaN</td>\n    </tr>\n    <tr>\n      <th>7</th>\n      <td>2</td>\n      <td>2011-01-16</td>\n      <td>强金火风</td>\n      <td>0</td>\n      <td>金运太过</td>\n      <td>少阳相火</td>\n      <td>厥阴风木</td>\n      <td>0</td>\n      <td>少羽</td>\n      <td>少宫</td>\n      <td>5</td>\n      <td>太阳寒水</td>\n      <td>厥阴风木</td>\n      <td>6</td>\n      <td>相得</td>\n      <td>NaN</td>\n    </tr>\n    <tr>\n      <th>8</th>\n      <td>2</td>\n      <td>2011-01-15</td>\n      <td>强金火风</td>\n      <td>0</td>\n      <td>金运太过</td>\n      <td>少阳相火</td>\n      <td>厥阴风木</td>\n      <td>0</td>\n      <td>少羽</td>\n      <td>少宫</td>\n      <td>5</td>\n      <td>太阳寒水</td>\n      <td>厥阴风木</td>\n      <td>6</td>\n      <td>相得</td>\n      <td>NaN</td>\n    </tr>\n    <tr>\n      <th>9</th>\n      <td>2</td>\n      <td>2011-01-14</td>\n      <td>强金火风</td>\n      <td>0</td>\n      <td>金运太过</td>\n      <td>少阳相火</td>\n      <td>厥阴风木</td>\n      <td>0</td>\n      <td>少羽</td>\n      <td>少宫</td>\n      <td>5</td>\n      <td>太阳寒水</td>\n      <td>厥阴风木</td>\n      <td>6</td>\n      <td>相得</td>\n      <td>NaN</td>\n    </tr>\n  </tbody>\n</table>\n</div>"
     },
     "execution_count": 146,
     "metadata": {},
     "output_type": "execute_result"
    }
   ],
   "source": [
    "sick_patient.head(10)"
   ],
   "metadata": {
    "collapsed": false,
    "pycharm": {
     "name": "#%%\n"
    }
   }
  },
  {
   "cell_type": "code",
   "execution_count": 147,
   "outputs": [
    {
     "data": {
      "text/plain": "   编号   发病前一年半的运气  运气相合  运气同化    岁运    司天    在泉 运气异化  主运  客运  属于几之运    主气  \\\n0   1  2016-10-06  强水火风     0  水运太过  少阳相火  厥阴风木   不和  太羽  少商      5  阳明燥金   \n1   1  2016-10-05  强水火风     0  水运太过  少阳相火  厥阴风木   不和  太羽  少商      5  阳明燥金   \n2   1  2016-10-04  强水火风     0  水运太过  少阳相火  厥阴风木   不和  太羽  少商      5  阳明燥金   \n3   1  2016-10-03  强水火风     0  水运太过  少阳相火  厥阴风木   不和  太羽  少商      5  阳明燥金   \n4   1  2016-10-02  强水火风     0  水运太过  少阳相火  厥阴风木   不和  太羽  少商      5  阳明燥金   \n5   1  2016-10-01  强水火风     0  水运太过  少阳相火  厥阴风木   不和  太羽  少商      5  阳明燥金   \n6   1  2016-09-30  强水火风     0  水运太过  少阳相火  厥阴风木   不和  少商  少宫      4  太阴湿土   \n7   2  2009-07-20  弱土湿寒  太一天符  土运不及  太阴湿土  太阳寒水    0  少宫  少羽      3  少阳相火   \n8   2  2009-07-19  弱土湿寒  太一天符  土运不及  太阴湿土  太阳寒水    0  少宫  少羽      3  少阳相火   \n9   2  2009-07-18  弱土湿寒  太一天符  土运不及  太阴湿土  太阳寒水    0  少宫  少羽      3  少阳相火   \n\n     客气  属于几之气 得/不得  逆/顺  \n0  太阳寒水      5   相得  NaN  \n1  太阳寒水      5   相得  NaN  \n2  太阳寒水      5   相得  NaN  \n3  太阳寒水      5   相得  NaN  \n4  太阳寒水      5   相得  NaN  \n5  太阳寒水      5   相得  NaN  \n6  阳明燥金      4   相得  NaN  \n7  太阴湿土      3   相得  NaN  \n8  太阴湿土      3   相得  NaN  \n9  太阴湿土      3   相得  NaN  ",
      "text/html": "<div>\n<style scoped>\n    .dataframe tbody tr th:only-of-type {\n        vertical-align: middle;\n    }\n\n    .dataframe tbody tr th {\n        vertical-align: top;\n    }\n\n    .dataframe thead th {\n        text-align: right;\n    }\n</style>\n<table border=\"1\" class=\"dataframe\">\n  <thead>\n    <tr style=\"text-align: right;\">\n      <th></th>\n      <th>编号</th>\n      <th>发病前一年半的运气</th>\n      <th>运气相合</th>\n      <th>运气同化</th>\n      <th>岁运</th>\n      <th>司天</th>\n      <th>在泉</th>\n      <th>运气异化</th>\n      <th>主运</th>\n      <th>客运</th>\n      <th>属于几之运</th>\n      <th>主气</th>\n      <th>客气</th>\n      <th>属于几之气</th>\n      <th>得/不得</th>\n      <th>逆/顺</th>\n    </tr>\n  </thead>\n  <tbody>\n    <tr>\n      <th>0</th>\n      <td>1</td>\n      <td>2016-10-06</td>\n      <td>强水火风</td>\n      <td>0</td>\n      <td>水运太过</td>\n      <td>少阳相火</td>\n      <td>厥阴风木</td>\n      <td>不和</td>\n      <td>太羽</td>\n      <td>少商</td>\n      <td>5</td>\n      <td>阳明燥金</td>\n      <td>太阳寒水</td>\n      <td>5</td>\n      <td>相得</td>\n      <td>NaN</td>\n    </tr>\n    <tr>\n      <th>1</th>\n      <td>1</td>\n      <td>2016-10-05</td>\n      <td>强水火风</td>\n      <td>0</td>\n      <td>水运太过</td>\n      <td>少阳相火</td>\n      <td>厥阴风木</td>\n      <td>不和</td>\n      <td>太羽</td>\n      <td>少商</td>\n      <td>5</td>\n      <td>阳明燥金</td>\n      <td>太阳寒水</td>\n      <td>5</td>\n      <td>相得</td>\n      <td>NaN</td>\n    </tr>\n    <tr>\n      <th>2</th>\n      <td>1</td>\n      <td>2016-10-04</td>\n      <td>强水火风</td>\n      <td>0</td>\n      <td>水运太过</td>\n      <td>少阳相火</td>\n      <td>厥阴风木</td>\n      <td>不和</td>\n      <td>太羽</td>\n      <td>少商</td>\n      <td>5</td>\n      <td>阳明燥金</td>\n      <td>太阳寒水</td>\n      <td>5</td>\n      <td>相得</td>\n      <td>NaN</td>\n    </tr>\n    <tr>\n      <th>3</th>\n      <td>1</td>\n      <td>2016-10-03</td>\n      <td>强水火风</td>\n      <td>0</td>\n      <td>水运太过</td>\n      <td>少阳相火</td>\n      <td>厥阴风木</td>\n      <td>不和</td>\n      <td>太羽</td>\n      <td>少商</td>\n      <td>5</td>\n      <td>阳明燥金</td>\n      <td>太阳寒水</td>\n      <td>5</td>\n      <td>相得</td>\n      <td>NaN</td>\n    </tr>\n    <tr>\n      <th>4</th>\n      <td>1</td>\n      <td>2016-10-02</td>\n      <td>强水火风</td>\n      <td>0</td>\n      <td>水运太过</td>\n      <td>少阳相火</td>\n      <td>厥阴风木</td>\n      <td>不和</td>\n      <td>太羽</td>\n      <td>少商</td>\n      <td>5</td>\n      <td>阳明燥金</td>\n      <td>太阳寒水</td>\n      <td>5</td>\n      <td>相得</td>\n      <td>NaN</td>\n    </tr>\n    <tr>\n      <th>5</th>\n      <td>1</td>\n      <td>2016-10-01</td>\n      <td>强水火风</td>\n      <td>0</td>\n      <td>水运太过</td>\n      <td>少阳相火</td>\n      <td>厥阴风木</td>\n      <td>不和</td>\n      <td>太羽</td>\n      <td>少商</td>\n      <td>5</td>\n      <td>阳明燥金</td>\n      <td>太阳寒水</td>\n      <td>5</td>\n      <td>相得</td>\n      <td>NaN</td>\n    </tr>\n    <tr>\n      <th>6</th>\n      <td>1</td>\n      <td>2016-09-30</td>\n      <td>强水火风</td>\n      <td>0</td>\n      <td>水运太过</td>\n      <td>少阳相火</td>\n      <td>厥阴风木</td>\n      <td>不和</td>\n      <td>少商</td>\n      <td>少宫</td>\n      <td>4</td>\n      <td>太阴湿土</td>\n      <td>阳明燥金</td>\n      <td>4</td>\n      <td>相得</td>\n      <td>NaN</td>\n    </tr>\n    <tr>\n      <th>7</th>\n      <td>2</td>\n      <td>2009-07-20</td>\n      <td>弱土湿寒</td>\n      <td>太一天符</td>\n      <td>土运不及</td>\n      <td>太阴湿土</td>\n      <td>太阳寒水</td>\n      <td>0</td>\n      <td>少宫</td>\n      <td>少羽</td>\n      <td>3</td>\n      <td>少阳相火</td>\n      <td>太阴湿土</td>\n      <td>3</td>\n      <td>相得</td>\n      <td>NaN</td>\n    </tr>\n    <tr>\n      <th>8</th>\n      <td>2</td>\n      <td>2009-07-19</td>\n      <td>弱土湿寒</td>\n      <td>太一天符</td>\n      <td>土运不及</td>\n      <td>太阴湿土</td>\n      <td>太阳寒水</td>\n      <td>0</td>\n      <td>少宫</td>\n      <td>少羽</td>\n      <td>3</td>\n      <td>少阳相火</td>\n      <td>太阴湿土</td>\n      <td>3</td>\n      <td>相得</td>\n      <td>NaN</td>\n    </tr>\n    <tr>\n      <th>9</th>\n      <td>2</td>\n      <td>2009-07-18</td>\n      <td>弱土湿寒</td>\n      <td>太一天符</td>\n      <td>土运不及</td>\n      <td>太阴湿土</td>\n      <td>太阳寒水</td>\n      <td>0</td>\n      <td>少宫</td>\n      <td>少羽</td>\n      <td>3</td>\n      <td>少阳相火</td>\n      <td>太阴湿土</td>\n      <td>3</td>\n      <td>相得</td>\n      <td>NaN</td>\n    </tr>\n  </tbody>\n</table>\n</div>"
     },
     "execution_count": 147,
     "metadata": {},
     "output_type": "execute_result"
    }
   ],
   "source": [
    "healthy_patient.head(10)"
   ],
   "metadata": {
    "collapsed": false,
    "pycharm": {
     "name": "#%%\n"
    }
   }
  },
  {
   "cell_type": "code",
   "execution_count": 148,
   "outputs": [],
   "source": [
    "healthy_patient['flag'] = 0\n",
    "sick_patient['flag'] = 1"
   ],
   "metadata": {
    "collapsed": false,
    "pycharm": {
     "name": "#%%\n"
    }
   }
  },
  {
   "cell_type": "code",
   "execution_count": 149,
   "outputs": [
    {
     "data": {
      "text/plain": "   编号   发病前一年半的运气  运气相合  运气同化    岁运    司天    在泉 运气异化  主运  客运  属于几之运    主气  \\\n0   1  2016-10-06  强水火风     0  水运太过  少阳相火  厥阴风木   不和  太羽  少商      5  阳明燥金   \n1   1  2016-10-05  强水火风     0  水运太过  少阳相火  厥阴风木   不和  太羽  少商      5  阳明燥金   \n2   1  2016-10-04  强水火风     0  水运太过  少阳相火  厥阴风木   不和  太羽  少商      5  阳明燥金   \n3   1  2016-10-03  强水火风     0  水运太过  少阳相火  厥阴风木   不和  太羽  少商      5  阳明燥金   \n4   1  2016-10-02  强水火风     0  水运太过  少阳相火  厥阴风木   不和  太羽  少商      5  阳明燥金   \n5   1  2016-10-01  强水火风     0  水运太过  少阳相火  厥阴风木   不和  太羽  少商      5  阳明燥金   \n6   1  2016-09-30  强水火风     0  水运太过  少阳相火  厥阴风木   不和  少商  少宫      4  太阴湿土   \n7   2  2009-07-20  弱土湿寒  太一天符  土运不及  太阴湿土  太阳寒水    0  少宫  少羽      3  少阳相火   \n8   2  2009-07-19  弱土湿寒  太一天符  土运不及  太阴湿土  太阳寒水    0  少宫  少羽      3  少阳相火   \n9   2  2009-07-18  弱土湿寒  太一天符  土运不及  太阴湿土  太阳寒水    0  少宫  少羽      3  少阳相火   \n\n     客气  属于几之气 得/不得  逆/顺  flag  \n0  太阳寒水      5   相得  NaN     0  \n1  太阳寒水      5   相得  NaN     0  \n2  太阳寒水      5   相得  NaN     0  \n3  太阳寒水      5   相得  NaN     0  \n4  太阳寒水      5   相得  NaN     0  \n5  太阳寒水      5   相得  NaN     0  \n6  阳明燥金      4   相得  NaN     0  \n7  太阴湿土      3   相得  NaN     0  \n8  太阴湿土      3   相得  NaN     0  \n9  太阴湿土      3   相得  NaN     0  ",
      "text/html": "<div>\n<style scoped>\n    .dataframe tbody tr th:only-of-type {\n        vertical-align: middle;\n    }\n\n    .dataframe tbody tr th {\n        vertical-align: top;\n    }\n\n    .dataframe thead th {\n        text-align: right;\n    }\n</style>\n<table border=\"1\" class=\"dataframe\">\n  <thead>\n    <tr style=\"text-align: right;\">\n      <th></th>\n      <th>编号</th>\n      <th>发病前一年半的运气</th>\n      <th>运气相合</th>\n      <th>运气同化</th>\n      <th>岁运</th>\n      <th>司天</th>\n      <th>在泉</th>\n      <th>运气异化</th>\n      <th>主运</th>\n      <th>客运</th>\n      <th>属于几之运</th>\n      <th>主气</th>\n      <th>客气</th>\n      <th>属于几之气</th>\n      <th>得/不得</th>\n      <th>逆/顺</th>\n      <th>flag</th>\n    </tr>\n  </thead>\n  <tbody>\n    <tr>\n      <th>0</th>\n      <td>1</td>\n      <td>2016-10-06</td>\n      <td>强水火风</td>\n      <td>0</td>\n      <td>水运太过</td>\n      <td>少阳相火</td>\n      <td>厥阴风木</td>\n      <td>不和</td>\n      <td>太羽</td>\n      <td>少商</td>\n      <td>5</td>\n      <td>阳明燥金</td>\n      <td>太阳寒水</td>\n      <td>5</td>\n      <td>相得</td>\n      <td>NaN</td>\n      <td>0</td>\n    </tr>\n    <tr>\n      <th>1</th>\n      <td>1</td>\n      <td>2016-10-05</td>\n      <td>强水火风</td>\n      <td>0</td>\n      <td>水运太过</td>\n      <td>少阳相火</td>\n      <td>厥阴风木</td>\n      <td>不和</td>\n      <td>太羽</td>\n      <td>少商</td>\n      <td>5</td>\n      <td>阳明燥金</td>\n      <td>太阳寒水</td>\n      <td>5</td>\n      <td>相得</td>\n      <td>NaN</td>\n      <td>0</td>\n    </tr>\n    <tr>\n      <th>2</th>\n      <td>1</td>\n      <td>2016-10-04</td>\n      <td>强水火风</td>\n      <td>0</td>\n      <td>水运太过</td>\n      <td>少阳相火</td>\n      <td>厥阴风木</td>\n      <td>不和</td>\n      <td>太羽</td>\n      <td>少商</td>\n      <td>5</td>\n      <td>阳明燥金</td>\n      <td>太阳寒水</td>\n      <td>5</td>\n      <td>相得</td>\n      <td>NaN</td>\n      <td>0</td>\n    </tr>\n    <tr>\n      <th>3</th>\n      <td>1</td>\n      <td>2016-10-03</td>\n      <td>强水火风</td>\n      <td>0</td>\n      <td>水运太过</td>\n      <td>少阳相火</td>\n      <td>厥阴风木</td>\n      <td>不和</td>\n      <td>太羽</td>\n      <td>少商</td>\n      <td>5</td>\n      <td>阳明燥金</td>\n      <td>太阳寒水</td>\n      <td>5</td>\n      <td>相得</td>\n      <td>NaN</td>\n      <td>0</td>\n    </tr>\n    <tr>\n      <th>4</th>\n      <td>1</td>\n      <td>2016-10-02</td>\n      <td>强水火风</td>\n      <td>0</td>\n      <td>水运太过</td>\n      <td>少阳相火</td>\n      <td>厥阴风木</td>\n      <td>不和</td>\n      <td>太羽</td>\n      <td>少商</td>\n      <td>5</td>\n      <td>阳明燥金</td>\n      <td>太阳寒水</td>\n      <td>5</td>\n      <td>相得</td>\n      <td>NaN</td>\n      <td>0</td>\n    </tr>\n    <tr>\n      <th>5</th>\n      <td>1</td>\n      <td>2016-10-01</td>\n      <td>强水火风</td>\n      <td>0</td>\n      <td>水运太过</td>\n      <td>少阳相火</td>\n      <td>厥阴风木</td>\n      <td>不和</td>\n      <td>太羽</td>\n      <td>少商</td>\n      <td>5</td>\n      <td>阳明燥金</td>\n      <td>太阳寒水</td>\n      <td>5</td>\n      <td>相得</td>\n      <td>NaN</td>\n      <td>0</td>\n    </tr>\n    <tr>\n      <th>6</th>\n      <td>1</td>\n      <td>2016-09-30</td>\n      <td>强水火风</td>\n      <td>0</td>\n      <td>水运太过</td>\n      <td>少阳相火</td>\n      <td>厥阴风木</td>\n      <td>不和</td>\n      <td>少商</td>\n      <td>少宫</td>\n      <td>4</td>\n      <td>太阴湿土</td>\n      <td>阳明燥金</td>\n      <td>4</td>\n      <td>相得</td>\n      <td>NaN</td>\n      <td>0</td>\n    </tr>\n    <tr>\n      <th>7</th>\n      <td>2</td>\n      <td>2009-07-20</td>\n      <td>弱土湿寒</td>\n      <td>太一天符</td>\n      <td>土运不及</td>\n      <td>太阴湿土</td>\n      <td>太阳寒水</td>\n      <td>0</td>\n      <td>少宫</td>\n      <td>少羽</td>\n      <td>3</td>\n      <td>少阳相火</td>\n      <td>太阴湿土</td>\n      <td>3</td>\n      <td>相得</td>\n      <td>NaN</td>\n      <td>0</td>\n    </tr>\n    <tr>\n      <th>8</th>\n      <td>2</td>\n      <td>2009-07-19</td>\n      <td>弱土湿寒</td>\n      <td>太一天符</td>\n      <td>土运不及</td>\n      <td>太阴湿土</td>\n      <td>太阳寒水</td>\n      <td>0</td>\n      <td>少宫</td>\n      <td>少羽</td>\n      <td>3</td>\n      <td>少阳相火</td>\n      <td>太阴湿土</td>\n      <td>3</td>\n      <td>相得</td>\n      <td>NaN</td>\n      <td>0</td>\n    </tr>\n    <tr>\n      <th>9</th>\n      <td>2</td>\n      <td>2009-07-18</td>\n      <td>弱土湿寒</td>\n      <td>太一天符</td>\n      <td>土运不及</td>\n      <td>太阴湿土</td>\n      <td>太阳寒水</td>\n      <td>0</td>\n      <td>少宫</td>\n      <td>少羽</td>\n      <td>3</td>\n      <td>少阳相火</td>\n      <td>太阴湿土</td>\n      <td>3</td>\n      <td>相得</td>\n      <td>NaN</td>\n      <td>0</td>\n    </tr>\n  </tbody>\n</table>\n</div>"
     },
     "execution_count": 149,
     "metadata": {},
     "output_type": "execute_result"
    }
   ],
   "source": [
    "healthy_patient.head(10)"
   ],
   "metadata": {
    "collapsed": false,
    "pycharm": {
     "name": "#%%\n"
    }
   }
  },
  {
   "cell_type": "code",
   "execution_count": 150,
   "outputs": [
    {
     "data": {
      "text/plain": "   编号  发病日期及前一周运气  运气相合 运气同化    岁运    司天    在泉 运气异化  主运  客运  属于几之运    主气  \\\n0   1  2018-04-04  强火寒湿    0  火运太过  太阳寒水  太阴湿土   天刑  太徵  少宫      2  少阴君火   \n1   1  2018-04-03  强火寒湿    0  火运太过  太阳寒水  太阴湿土   天刑  少角  太徵      1  少阴君火   \n2   1  2018-04-02  强火寒湿    0  火运太过  太阳寒水  太阴湿土   天刑  少角  太徵      1  厥阴风木   \n3   1  2018-04-01  强火寒湿    0  火运太过  太阳寒水  太阴湿土   天刑  少角  太徵      1  厥阴风木   \n4   1  2018-03-31  强火寒湿    0  火运太过  太阳寒水  太阴湿土   天刑  少角  太徵      1  厥阴风木   \n5   1  2018-03-30  强火寒湿    0  火运太过  太阳寒水  太阴湿土   天刑  少角  太徵      1  厥阴风木   \n6   1  2018-03-29  强火寒湿    0  火运太过  太阳寒水  太阴湿土   天刑  少角  太徵      1  厥阴风木   \n7   2  2011-01-16  强金火风    0  金运太过  少阳相火  厥阴风木    0  少羽  少宫      5  太阳寒水   \n8   2  2011-01-15  强金火风    0  金运太过  少阳相火  厥阴风木    0  少羽  少宫      5  太阳寒水   \n9   2  2011-01-14  强金火风    0  金运太过  少阳相火  厥阴风木    0  少羽  少宫      5  太阳寒水   \n\n     客气  属于几之气 得/不得  逆/顺  flag  \n0  阳明燥金      2  不相得    逆     1  \n1  少阳相火      1   相得    逆     1  \n2  少阳相火      1   相得  NaN     1  \n3  少阳相火      1   相得  NaN     1  \n4  少阳相火      1   相得  NaN     1  \n5  少阳相火      1   相得  NaN     1  \n6  少阳相火      1   相得  NaN     1  \n7  厥阴风木      6   相得  NaN     1  \n8  厥阴风木      6   相得  NaN     1  \n9  厥阴风木      6   相得  NaN     1  ",
      "text/html": "<div>\n<style scoped>\n    .dataframe tbody tr th:only-of-type {\n        vertical-align: middle;\n    }\n\n    .dataframe tbody tr th {\n        vertical-align: top;\n    }\n\n    .dataframe thead th {\n        text-align: right;\n    }\n</style>\n<table border=\"1\" class=\"dataframe\">\n  <thead>\n    <tr style=\"text-align: right;\">\n      <th></th>\n      <th>编号</th>\n      <th>发病日期及前一周运气</th>\n      <th>运气相合</th>\n      <th>运气同化</th>\n      <th>岁运</th>\n      <th>司天</th>\n      <th>在泉</th>\n      <th>运气异化</th>\n      <th>主运</th>\n      <th>客运</th>\n      <th>属于几之运</th>\n      <th>主气</th>\n      <th>客气</th>\n      <th>属于几之气</th>\n      <th>得/不得</th>\n      <th>逆/顺</th>\n      <th>flag</th>\n    </tr>\n  </thead>\n  <tbody>\n    <tr>\n      <th>0</th>\n      <td>1</td>\n      <td>2018-04-04</td>\n      <td>强火寒湿</td>\n      <td>0</td>\n      <td>火运太过</td>\n      <td>太阳寒水</td>\n      <td>太阴湿土</td>\n      <td>天刑</td>\n      <td>太徵</td>\n      <td>少宫</td>\n      <td>2</td>\n      <td>少阴君火</td>\n      <td>阳明燥金</td>\n      <td>2</td>\n      <td>不相得</td>\n      <td>逆</td>\n      <td>1</td>\n    </tr>\n    <tr>\n      <th>1</th>\n      <td>1</td>\n      <td>2018-04-03</td>\n      <td>强火寒湿</td>\n      <td>0</td>\n      <td>火运太过</td>\n      <td>太阳寒水</td>\n      <td>太阴湿土</td>\n      <td>天刑</td>\n      <td>少角</td>\n      <td>太徵</td>\n      <td>1</td>\n      <td>少阴君火</td>\n      <td>少阳相火</td>\n      <td>1</td>\n      <td>相得</td>\n      <td>逆</td>\n      <td>1</td>\n    </tr>\n    <tr>\n      <th>2</th>\n      <td>1</td>\n      <td>2018-04-02</td>\n      <td>强火寒湿</td>\n      <td>0</td>\n      <td>火运太过</td>\n      <td>太阳寒水</td>\n      <td>太阴湿土</td>\n      <td>天刑</td>\n      <td>少角</td>\n      <td>太徵</td>\n      <td>1</td>\n      <td>厥阴风木</td>\n      <td>少阳相火</td>\n      <td>1</td>\n      <td>相得</td>\n      <td>NaN</td>\n      <td>1</td>\n    </tr>\n    <tr>\n      <th>3</th>\n      <td>1</td>\n      <td>2018-04-01</td>\n      <td>强火寒湿</td>\n      <td>0</td>\n      <td>火运太过</td>\n      <td>太阳寒水</td>\n      <td>太阴湿土</td>\n      <td>天刑</td>\n      <td>少角</td>\n      <td>太徵</td>\n      <td>1</td>\n      <td>厥阴风木</td>\n      <td>少阳相火</td>\n      <td>1</td>\n      <td>相得</td>\n      <td>NaN</td>\n      <td>1</td>\n    </tr>\n    <tr>\n      <th>4</th>\n      <td>1</td>\n      <td>2018-03-31</td>\n      <td>强火寒湿</td>\n      <td>0</td>\n      <td>火运太过</td>\n      <td>太阳寒水</td>\n      <td>太阴湿土</td>\n      <td>天刑</td>\n      <td>少角</td>\n      <td>太徵</td>\n      <td>1</td>\n      <td>厥阴风木</td>\n      <td>少阳相火</td>\n      <td>1</td>\n      <td>相得</td>\n      <td>NaN</td>\n      <td>1</td>\n    </tr>\n    <tr>\n      <th>5</th>\n      <td>1</td>\n      <td>2018-03-30</td>\n      <td>强火寒湿</td>\n      <td>0</td>\n      <td>火运太过</td>\n      <td>太阳寒水</td>\n      <td>太阴湿土</td>\n      <td>天刑</td>\n      <td>少角</td>\n      <td>太徵</td>\n      <td>1</td>\n      <td>厥阴风木</td>\n      <td>少阳相火</td>\n      <td>1</td>\n      <td>相得</td>\n      <td>NaN</td>\n      <td>1</td>\n    </tr>\n    <tr>\n      <th>6</th>\n      <td>1</td>\n      <td>2018-03-29</td>\n      <td>强火寒湿</td>\n      <td>0</td>\n      <td>火运太过</td>\n      <td>太阳寒水</td>\n      <td>太阴湿土</td>\n      <td>天刑</td>\n      <td>少角</td>\n      <td>太徵</td>\n      <td>1</td>\n      <td>厥阴风木</td>\n      <td>少阳相火</td>\n      <td>1</td>\n      <td>相得</td>\n      <td>NaN</td>\n      <td>1</td>\n    </tr>\n    <tr>\n      <th>7</th>\n      <td>2</td>\n      <td>2011-01-16</td>\n      <td>强金火风</td>\n      <td>0</td>\n      <td>金运太过</td>\n      <td>少阳相火</td>\n      <td>厥阴风木</td>\n      <td>0</td>\n      <td>少羽</td>\n      <td>少宫</td>\n      <td>5</td>\n      <td>太阳寒水</td>\n      <td>厥阴风木</td>\n      <td>6</td>\n      <td>相得</td>\n      <td>NaN</td>\n      <td>1</td>\n    </tr>\n    <tr>\n      <th>8</th>\n      <td>2</td>\n      <td>2011-01-15</td>\n      <td>强金火风</td>\n      <td>0</td>\n      <td>金运太过</td>\n      <td>少阳相火</td>\n      <td>厥阴风木</td>\n      <td>0</td>\n      <td>少羽</td>\n      <td>少宫</td>\n      <td>5</td>\n      <td>太阳寒水</td>\n      <td>厥阴风木</td>\n      <td>6</td>\n      <td>相得</td>\n      <td>NaN</td>\n      <td>1</td>\n    </tr>\n    <tr>\n      <th>9</th>\n      <td>2</td>\n      <td>2011-01-14</td>\n      <td>强金火风</td>\n      <td>0</td>\n      <td>金运太过</td>\n      <td>少阳相火</td>\n      <td>厥阴风木</td>\n      <td>0</td>\n      <td>少羽</td>\n      <td>少宫</td>\n      <td>5</td>\n      <td>太阳寒水</td>\n      <td>厥阴风木</td>\n      <td>6</td>\n      <td>相得</td>\n      <td>NaN</td>\n      <td>1</td>\n    </tr>\n  </tbody>\n</table>\n</div>"
     },
     "execution_count": 150,
     "metadata": {},
     "output_type": "execute_result"
    }
   ],
   "source": [
    "sick_patient.head(10)"
   ],
   "metadata": {
    "collapsed": false,
    "pycharm": {
     "name": "#%%\n"
    }
   }
  },
  {
   "cell_type": "code",
   "execution_count": 151,
   "outputs": [
    {
     "data": {
      "text/plain": "           编号   发病前一年半的运气  运气相合 运气同化    岁运    司天    在泉 运气异化  主运  客运  属于几之运  \\\n0           1  2016-10-06  强水火风    0  水运太过  少阳相火  厥阴风木   不和  太羽  少商      5   \n1           1  2016-10-05  强水火风    0  水运太过  少阳相火  厥阴风木   不和  太羽  少商      5   \n2           1  2016-10-04  强水火风    0  水运太过  少阳相火  厥阴风木   不和  太羽  少商      5   \n3           1  2016-10-03  强水火风    0  水运太过  少阳相火  厥阴风木   不和  太羽  少商      5   \n4           1  2016-10-02  强水火风    0  水运太过  少阳相火  厥阴风木   不和  太羽  少商      5   \n...       ...         ...   ...  ...   ...   ...   ...  ...  ..  ..    ...   \n109300  15615         NaN  弱土风火    0  土运不及  厥阴风木  少阳相火   天刑  少羽  太徵      5   \n109301  15615         NaN  弱土风火    0  土运不及  厥阴风木  少阳相火   天刑  少羽  太徵      5   \n109302  15615         NaN  弱土风火    0  土运不及  厥阴风木  少阳相火   天刑  少羽  太徵      5   \n109303  15615         NaN  弱土风火    0  土运不及  厥阴风木  少阳相火   天刑  少羽  太徵      5   \n109304  15615         NaN  弱土风火    0  土运不及  厥阴风木  少阳相火   天刑  少羽  太徵      5   \n\n          主气    客气  属于几之气 得/不得  逆/顺  flag  发病日期及前一周运气  \n0       阳明燥金  太阳寒水      5   相得  NaN     0         NaN  \n1       阳明燥金  太阳寒水      5   相得  NaN     0         NaN  \n2       阳明燥金  太阳寒水      5   相得  NaN     0         NaN  \n3       阳明燥金  太阳寒水      5   相得  NaN     0         NaN  \n4       阳明燥金  太阳寒水      5   相得  NaN     0         NaN  \n...      ...   ...    ...  ...  ...   ...         ...  \n109300  太阳寒水  少阳相火      6  不相得    逆     1  2020-01-03  \n109301  太阳寒水  少阳相火      6  不相得    逆     1  2020-01-02  \n109302  太阳寒水  少阳相火      6  不相得    逆     1  2020-01-01  \n109303  太阳寒水  少阳相火      6  不相得    逆     1  2019-12-31  \n109304  太阳寒水  少阳相火      6  不相得    逆     1  2019-12-30  \n\n[218610 rows x 18 columns]",
      "text/html": "<div>\n<style scoped>\n    .dataframe tbody tr th:only-of-type {\n        vertical-align: middle;\n    }\n\n    .dataframe tbody tr th {\n        vertical-align: top;\n    }\n\n    .dataframe thead th {\n        text-align: right;\n    }\n</style>\n<table border=\"1\" class=\"dataframe\">\n  <thead>\n    <tr style=\"text-align: right;\">\n      <th></th>\n      <th>编号</th>\n      <th>发病前一年半的运气</th>\n      <th>运气相合</th>\n      <th>运气同化</th>\n      <th>岁运</th>\n      <th>司天</th>\n      <th>在泉</th>\n      <th>运气异化</th>\n      <th>主运</th>\n      <th>客运</th>\n      <th>属于几之运</th>\n      <th>主气</th>\n      <th>客气</th>\n      <th>属于几之气</th>\n      <th>得/不得</th>\n      <th>逆/顺</th>\n      <th>flag</th>\n      <th>发病日期及前一周运气</th>\n    </tr>\n  </thead>\n  <tbody>\n    <tr>\n      <th>0</th>\n      <td>1</td>\n      <td>2016-10-06</td>\n      <td>强水火风</td>\n      <td>0</td>\n      <td>水运太过</td>\n      <td>少阳相火</td>\n      <td>厥阴风木</td>\n      <td>不和</td>\n      <td>太羽</td>\n      <td>少商</td>\n      <td>5</td>\n      <td>阳明燥金</td>\n      <td>太阳寒水</td>\n      <td>5</td>\n      <td>相得</td>\n      <td>NaN</td>\n      <td>0</td>\n      <td>NaN</td>\n    </tr>\n    <tr>\n      <th>1</th>\n      <td>1</td>\n      <td>2016-10-05</td>\n      <td>强水火风</td>\n      <td>0</td>\n      <td>水运太过</td>\n      <td>少阳相火</td>\n      <td>厥阴风木</td>\n      <td>不和</td>\n      <td>太羽</td>\n      <td>少商</td>\n      <td>5</td>\n      <td>阳明燥金</td>\n      <td>太阳寒水</td>\n      <td>5</td>\n      <td>相得</td>\n      <td>NaN</td>\n      <td>0</td>\n      <td>NaN</td>\n    </tr>\n    <tr>\n      <th>2</th>\n      <td>1</td>\n      <td>2016-10-04</td>\n      <td>强水火风</td>\n      <td>0</td>\n      <td>水运太过</td>\n      <td>少阳相火</td>\n      <td>厥阴风木</td>\n      <td>不和</td>\n      <td>太羽</td>\n      <td>少商</td>\n      <td>5</td>\n      <td>阳明燥金</td>\n      <td>太阳寒水</td>\n      <td>5</td>\n      <td>相得</td>\n      <td>NaN</td>\n      <td>0</td>\n      <td>NaN</td>\n    </tr>\n    <tr>\n      <th>3</th>\n      <td>1</td>\n      <td>2016-10-03</td>\n      <td>强水火风</td>\n      <td>0</td>\n      <td>水运太过</td>\n      <td>少阳相火</td>\n      <td>厥阴风木</td>\n      <td>不和</td>\n      <td>太羽</td>\n      <td>少商</td>\n      <td>5</td>\n      <td>阳明燥金</td>\n      <td>太阳寒水</td>\n      <td>5</td>\n      <td>相得</td>\n      <td>NaN</td>\n      <td>0</td>\n      <td>NaN</td>\n    </tr>\n    <tr>\n      <th>4</th>\n      <td>1</td>\n      <td>2016-10-02</td>\n      <td>强水火风</td>\n      <td>0</td>\n      <td>水运太过</td>\n      <td>少阳相火</td>\n      <td>厥阴风木</td>\n      <td>不和</td>\n      <td>太羽</td>\n      <td>少商</td>\n      <td>5</td>\n      <td>阳明燥金</td>\n      <td>太阳寒水</td>\n      <td>5</td>\n      <td>相得</td>\n      <td>NaN</td>\n      <td>0</td>\n      <td>NaN</td>\n    </tr>\n    <tr>\n      <th>...</th>\n      <td>...</td>\n      <td>...</td>\n      <td>...</td>\n      <td>...</td>\n      <td>...</td>\n      <td>...</td>\n      <td>...</td>\n      <td>...</td>\n      <td>...</td>\n      <td>...</td>\n      <td>...</td>\n      <td>...</td>\n      <td>...</td>\n      <td>...</td>\n      <td>...</td>\n      <td>...</td>\n      <td>...</td>\n      <td>...</td>\n    </tr>\n    <tr>\n      <th>109300</th>\n      <td>15615</td>\n      <td>NaN</td>\n      <td>弱土风火</td>\n      <td>0</td>\n      <td>土运不及</td>\n      <td>厥阴风木</td>\n      <td>少阳相火</td>\n      <td>天刑</td>\n      <td>少羽</td>\n      <td>太徵</td>\n      <td>5</td>\n      <td>太阳寒水</td>\n      <td>少阳相火</td>\n      <td>6</td>\n      <td>不相得</td>\n      <td>逆</td>\n      <td>1</td>\n      <td>2020-01-03</td>\n    </tr>\n    <tr>\n      <th>109301</th>\n      <td>15615</td>\n      <td>NaN</td>\n      <td>弱土风火</td>\n      <td>0</td>\n      <td>土运不及</td>\n      <td>厥阴风木</td>\n      <td>少阳相火</td>\n      <td>天刑</td>\n      <td>少羽</td>\n      <td>太徵</td>\n      <td>5</td>\n      <td>太阳寒水</td>\n      <td>少阳相火</td>\n      <td>6</td>\n      <td>不相得</td>\n      <td>逆</td>\n      <td>1</td>\n      <td>2020-01-02</td>\n    </tr>\n    <tr>\n      <th>109302</th>\n      <td>15615</td>\n      <td>NaN</td>\n      <td>弱土风火</td>\n      <td>0</td>\n      <td>土运不及</td>\n      <td>厥阴风木</td>\n      <td>少阳相火</td>\n      <td>天刑</td>\n      <td>少羽</td>\n      <td>太徵</td>\n      <td>5</td>\n      <td>太阳寒水</td>\n      <td>少阳相火</td>\n      <td>6</td>\n      <td>不相得</td>\n      <td>逆</td>\n      <td>1</td>\n      <td>2020-01-01</td>\n    </tr>\n    <tr>\n      <th>109303</th>\n      <td>15615</td>\n      <td>NaN</td>\n      <td>弱土风火</td>\n      <td>0</td>\n      <td>土运不及</td>\n      <td>厥阴风木</td>\n      <td>少阳相火</td>\n      <td>天刑</td>\n      <td>少羽</td>\n      <td>太徵</td>\n      <td>5</td>\n      <td>太阳寒水</td>\n      <td>少阳相火</td>\n      <td>6</td>\n      <td>不相得</td>\n      <td>逆</td>\n      <td>1</td>\n      <td>2019-12-31</td>\n    </tr>\n    <tr>\n      <th>109304</th>\n      <td>15615</td>\n      <td>NaN</td>\n      <td>弱土风火</td>\n      <td>0</td>\n      <td>土运不及</td>\n      <td>厥阴风木</td>\n      <td>少阳相火</td>\n      <td>天刑</td>\n      <td>少羽</td>\n      <td>太徵</td>\n      <td>5</td>\n      <td>太阳寒水</td>\n      <td>少阳相火</td>\n      <td>6</td>\n      <td>不相得</td>\n      <td>逆</td>\n      <td>1</td>\n      <td>2019-12-30</td>\n    </tr>\n  </tbody>\n</table>\n<p>218610 rows × 18 columns</p>\n</div>"
     },
     "execution_count": 151,
     "metadata": {},
     "output_type": "execute_result"
    }
   ],
   "source": [
    "patient_data = pd.concat([healthy_patient, sick_patient], axis=0)\n",
    "patient_data"
   ],
   "metadata": {
    "collapsed": false,
    "pycharm": {
     "name": "#%%\n"
    }
   }
  },
  {
   "cell_type": "code",
   "execution_count": 152,
   "outputs": [],
   "source": [
    "patient_data = patient_data.reset_index()"
   ],
   "metadata": {
    "collapsed": false,
    "pycharm": {
     "name": "#%%\n"
    }
   }
  },
  {
   "cell_type": "code",
   "execution_count": 153,
   "outputs": [
    {
     "data": {
      "text/plain": "Index(['index', '编号', '发病前一年半的运气', '运气相合', '运气同化', '岁运', '司天', '在泉', '运气异化',\n       '主运', '客运', '属于几之运', '主气', '客气', '属于几之气', '得/不得', '逆/顺', 'flag',\n       '发病日期及前一周运气'],\n      dtype='object')"
     },
     "execution_count": 153,
     "metadata": {},
     "output_type": "execute_result"
    }
   ],
   "source": [
    "patient_data.columns"
   ],
   "metadata": {
    "collapsed": false,
    "pycharm": {
     "name": "#%%\n"
    }
   }
  },
  {
   "cell_type": "code",
   "execution_count": 154,
   "outputs": [],
   "source": [
    "patient_data = patient_data.copy()"
   ],
   "metadata": {
    "collapsed": false,
    "pycharm": {
     "name": "#%%\n"
    }
   }
  },
  {
   "cell_type": "code",
   "execution_count": 155,
   "outputs": [
    {
     "data": {
      "text/plain": "<bound method DataFrame.reset_index of         运气相合 运气同化    岁运    司天    在泉 运气异化  主运  客运  属于几之运    主气    客气  属于几之气  \\\n0       强水火风    0  水运太过  少阳相火  厥阴风木   不和  太羽  少商      5  阳明燥金  太阳寒水      5   \n1       强水火风    0  水运太过  少阳相火  厥阴风木   不和  太羽  少商      5  阳明燥金  太阳寒水      5   \n2       强水火风    0  水运太过  少阳相火  厥阴风木   不和  太羽  少商      5  阳明燥金  太阳寒水      5   \n3       强水火风    0  水运太过  少阳相火  厥阴风木   不和  太羽  少商      5  阳明燥金  太阳寒水      5   \n4       强水火风    0  水运太过  少阳相火  厥阴风木   不和  太羽  少商      5  阳明燥金  太阳寒水      5   \n...      ...  ...   ...   ...   ...  ...  ..  ..    ...   ...   ...    ...   \n218605  弱土风火    0  土运不及  厥阴风木  少阳相火   天刑  少羽  太徵      5  太阳寒水  少阳相火      6   \n218606  弱土风火    0  土运不及  厥阴风木  少阳相火   天刑  少羽  太徵      5  太阳寒水  少阳相火      6   \n218607  弱土风火    0  土运不及  厥阴风木  少阳相火   天刑  少羽  太徵      5  太阳寒水  少阳相火      6   \n218608  弱土风火    0  土运不及  厥阴风木  少阳相火   天刑  少羽  太徵      5  太阳寒水  少阳相火      6   \n218609  弱土风火    0  土运不及  厥阴风木  少阳相火   天刑  少羽  太徵      5  太阳寒水  少阳相火      6   \n\n       得/不得  逆/顺  flag  \n0        相得  NaN     0  \n1        相得  NaN     0  \n2        相得  NaN     0  \n3        相得  NaN     0  \n4        相得  NaN     0  \n...     ...  ...   ...  \n218605  不相得    逆     1  \n218606  不相得    逆     1  \n218607  不相得    逆     1  \n218608  不相得    逆     1  \n218609  不相得    逆     1  \n\n[218610 rows x 15 columns]>"
     },
     "execution_count": 155,
     "metadata": {},
     "output_type": "execute_result"
    }
   ],
   "source": [
    "patient_data_washed = patient_data[['运气相合', '运气同化', '岁运', '司天', '在泉', '运气异化', '主运', '客运','属于几之运', '主气', '客气', '属于几之气', '得/不得', '逆/顺', 'flag']]\n",
    "patient_data_washed.reset_index"
   ],
   "metadata": {
    "collapsed": false,
    "pycharm": {
     "name": "#%%\n"
    }
   }
  },
  {
   "cell_type": "code",
   "execution_count": 156,
   "outputs": [
    {
     "data": {
      "text/plain": "        运气相合 运气同化    岁运    司天    在泉 运气异化  主运  客运  属于几之运    主气    客气  属于几之气  \\\n0       强水火风    0  水运太过  少阳相火  厥阴风木   不和  太羽  少商      5  阳明燥金  太阳寒水      5   \n1       强水火风    0  水运太过  少阳相火  厥阴风木   不和  太羽  少商      5  阳明燥金  太阳寒水      5   \n2       强水火风    0  水运太过  少阳相火  厥阴风木   不和  太羽  少商      5  阳明燥金  太阳寒水      5   \n3       强水火风    0  水运太过  少阳相火  厥阴风木   不和  太羽  少商      5  阳明燥金  太阳寒水      5   \n4       强水火风    0  水运太过  少阳相火  厥阴风木   不和  太羽  少商      5  阳明燥金  太阳寒水      5   \n...      ...  ...   ...   ...   ...  ...  ..  ..    ...   ...   ...    ...   \n218605  弱土风火    0  土运不及  厥阴风木  少阳相火   天刑  少羽  太徵      5  太阳寒水  少阳相火      6   \n218606  弱土风火    0  土运不及  厥阴风木  少阳相火   天刑  少羽  太徵      5  太阳寒水  少阳相火      6   \n218607  弱土风火    0  土运不及  厥阴风木  少阳相火   天刑  少羽  太徵      5  太阳寒水  少阳相火      6   \n218608  弱土风火    0  土运不及  厥阴风木  少阳相火   天刑  少羽  太徵      5  太阳寒水  少阳相火      6   \n218609  弱土风火    0  土运不及  厥阴风木  少阳相火   天刑  少羽  太徵      5  太阳寒水  少阳相火      6   \n\n       得/不得  逆/顺  flag  \n0        相得  NaN     0  \n1        相得  NaN     0  \n2        相得  NaN     0  \n3        相得  NaN     0  \n4        相得  NaN     0  \n...     ...  ...   ...  \n218605  不相得    逆     1  \n218606  不相得    逆     1  \n218607  不相得    逆     1  \n218608  不相得    逆     1  \n218609  不相得    逆     1  \n\n[218610 rows x 15 columns]",
      "text/html": "<div>\n<style scoped>\n    .dataframe tbody tr th:only-of-type {\n        vertical-align: middle;\n    }\n\n    .dataframe tbody tr th {\n        vertical-align: top;\n    }\n\n    .dataframe thead th {\n        text-align: right;\n    }\n</style>\n<table border=\"1\" class=\"dataframe\">\n  <thead>\n    <tr style=\"text-align: right;\">\n      <th></th>\n      <th>运气相合</th>\n      <th>运气同化</th>\n      <th>岁运</th>\n      <th>司天</th>\n      <th>在泉</th>\n      <th>运气异化</th>\n      <th>主运</th>\n      <th>客运</th>\n      <th>属于几之运</th>\n      <th>主气</th>\n      <th>客气</th>\n      <th>属于几之气</th>\n      <th>得/不得</th>\n      <th>逆/顺</th>\n      <th>flag</th>\n    </tr>\n  </thead>\n  <tbody>\n    <tr>\n      <th>0</th>\n      <td>强水火风</td>\n      <td>0</td>\n      <td>水运太过</td>\n      <td>少阳相火</td>\n      <td>厥阴风木</td>\n      <td>不和</td>\n      <td>太羽</td>\n      <td>少商</td>\n      <td>5</td>\n      <td>阳明燥金</td>\n      <td>太阳寒水</td>\n      <td>5</td>\n      <td>相得</td>\n      <td>NaN</td>\n      <td>0</td>\n    </tr>\n    <tr>\n      <th>1</th>\n      <td>强水火风</td>\n      <td>0</td>\n      <td>水运太过</td>\n      <td>少阳相火</td>\n      <td>厥阴风木</td>\n      <td>不和</td>\n      <td>太羽</td>\n      <td>少商</td>\n      <td>5</td>\n      <td>阳明燥金</td>\n      <td>太阳寒水</td>\n      <td>5</td>\n      <td>相得</td>\n      <td>NaN</td>\n      <td>0</td>\n    </tr>\n    <tr>\n      <th>2</th>\n      <td>强水火风</td>\n      <td>0</td>\n      <td>水运太过</td>\n      <td>少阳相火</td>\n      <td>厥阴风木</td>\n      <td>不和</td>\n      <td>太羽</td>\n      <td>少商</td>\n      <td>5</td>\n      <td>阳明燥金</td>\n      <td>太阳寒水</td>\n      <td>5</td>\n      <td>相得</td>\n      <td>NaN</td>\n      <td>0</td>\n    </tr>\n    <tr>\n      <th>3</th>\n      <td>强水火风</td>\n      <td>0</td>\n      <td>水运太过</td>\n      <td>少阳相火</td>\n      <td>厥阴风木</td>\n      <td>不和</td>\n      <td>太羽</td>\n      <td>少商</td>\n      <td>5</td>\n      <td>阳明燥金</td>\n      <td>太阳寒水</td>\n      <td>5</td>\n      <td>相得</td>\n      <td>NaN</td>\n      <td>0</td>\n    </tr>\n    <tr>\n      <th>4</th>\n      <td>强水火风</td>\n      <td>0</td>\n      <td>水运太过</td>\n      <td>少阳相火</td>\n      <td>厥阴风木</td>\n      <td>不和</td>\n      <td>太羽</td>\n      <td>少商</td>\n      <td>5</td>\n      <td>阳明燥金</td>\n      <td>太阳寒水</td>\n      <td>5</td>\n      <td>相得</td>\n      <td>NaN</td>\n      <td>0</td>\n    </tr>\n    <tr>\n      <th>...</th>\n      <td>...</td>\n      <td>...</td>\n      <td>...</td>\n      <td>...</td>\n      <td>...</td>\n      <td>...</td>\n      <td>...</td>\n      <td>...</td>\n      <td>...</td>\n      <td>...</td>\n      <td>...</td>\n      <td>...</td>\n      <td>...</td>\n      <td>...</td>\n      <td>...</td>\n    </tr>\n    <tr>\n      <th>218605</th>\n      <td>弱土风火</td>\n      <td>0</td>\n      <td>土运不及</td>\n      <td>厥阴风木</td>\n      <td>少阳相火</td>\n      <td>天刑</td>\n      <td>少羽</td>\n      <td>太徵</td>\n      <td>5</td>\n      <td>太阳寒水</td>\n      <td>少阳相火</td>\n      <td>6</td>\n      <td>不相得</td>\n      <td>逆</td>\n      <td>1</td>\n    </tr>\n    <tr>\n      <th>218606</th>\n      <td>弱土风火</td>\n      <td>0</td>\n      <td>土运不及</td>\n      <td>厥阴风木</td>\n      <td>少阳相火</td>\n      <td>天刑</td>\n      <td>少羽</td>\n      <td>太徵</td>\n      <td>5</td>\n      <td>太阳寒水</td>\n      <td>少阳相火</td>\n      <td>6</td>\n      <td>不相得</td>\n      <td>逆</td>\n      <td>1</td>\n    </tr>\n    <tr>\n      <th>218607</th>\n      <td>弱土风火</td>\n      <td>0</td>\n      <td>土运不及</td>\n      <td>厥阴风木</td>\n      <td>少阳相火</td>\n      <td>天刑</td>\n      <td>少羽</td>\n      <td>太徵</td>\n      <td>5</td>\n      <td>太阳寒水</td>\n      <td>少阳相火</td>\n      <td>6</td>\n      <td>不相得</td>\n      <td>逆</td>\n      <td>1</td>\n    </tr>\n    <tr>\n      <th>218608</th>\n      <td>弱土风火</td>\n      <td>0</td>\n      <td>土运不及</td>\n      <td>厥阴风木</td>\n      <td>少阳相火</td>\n      <td>天刑</td>\n      <td>少羽</td>\n      <td>太徵</td>\n      <td>5</td>\n      <td>太阳寒水</td>\n      <td>少阳相火</td>\n      <td>6</td>\n      <td>不相得</td>\n      <td>逆</td>\n      <td>1</td>\n    </tr>\n    <tr>\n      <th>218609</th>\n      <td>弱土风火</td>\n      <td>0</td>\n      <td>土运不及</td>\n      <td>厥阴风木</td>\n      <td>少阳相火</td>\n      <td>天刑</td>\n      <td>少羽</td>\n      <td>太徵</td>\n      <td>5</td>\n      <td>太阳寒水</td>\n      <td>少阳相火</td>\n      <td>6</td>\n      <td>不相得</td>\n      <td>逆</td>\n      <td>1</td>\n    </tr>\n  </tbody>\n</table>\n<p>218610 rows × 15 columns</p>\n</div>"
     },
     "execution_count": 156,
     "metadata": {},
     "output_type": "execute_result"
    }
   ],
   "source": [
    "patient_data_washed"
   ],
   "metadata": {
    "collapsed": false,
    "pycharm": {
     "name": "#%%\n"
    }
   }
  },
  {
   "cell_type": "code",
   "execution_count": 157,
   "outputs": [],
   "source": [
    "patient_data_washed = patient_data_washed.copy()"
   ],
   "metadata": {
    "collapsed": false,
    "pycharm": {
     "name": "#%%\n"
    }
   }
  },
  {
   "cell_type": "code",
   "execution_count": 158,
   "outputs": [
    {
     "data": {
      "text/plain": "        运气相合 运气同化    岁运    司天    在泉 运气异化  主运  客运  属于几之运    主气    客气  属于几之气  \\\n0       强水火风    0  水运太过  少阳相火  厥阴风木   不和  太羽  少商      5  阳明燥金  太阳寒水      5   \n1       强水火风    0  水运太过  少阳相火  厥阴风木   不和  太羽  少商      5  阳明燥金  太阳寒水      5   \n2       强水火风    0  水运太过  少阳相火  厥阴风木   不和  太羽  少商      5  阳明燥金  太阳寒水      5   \n3       强水火风    0  水运太过  少阳相火  厥阴风木   不和  太羽  少商      5  阳明燥金  太阳寒水      5   \n4       强水火风    0  水运太过  少阳相火  厥阴风木   不和  太羽  少商      5  阳明燥金  太阳寒水      5   \n...      ...  ...   ...   ...   ...  ...  ..  ..    ...   ...   ...    ...   \n218605  弱土风火    0  土运不及  厥阴风木  少阳相火   天刑  少羽  太徵      5  太阳寒水  少阳相火      6   \n218606  弱土风火    0  土运不及  厥阴风木  少阳相火   天刑  少羽  太徵      5  太阳寒水  少阳相火      6   \n218607  弱土风火    0  土运不及  厥阴风木  少阳相火   天刑  少羽  太徵      5  太阳寒水  少阳相火      6   \n218608  弱土风火    0  土运不及  厥阴风木  少阳相火   天刑  少羽  太徵      5  太阳寒水  少阳相火      6   \n218609  弱土风火    0  土运不及  厥阴风木  少阳相火   天刑  少羽  太徵      5  太阳寒水  少阳相火      6   \n\n       得/不得  逆/顺  flag  \n0        相得  NaN     0  \n1        相得  NaN     0  \n2        相得  NaN     0  \n3        相得  NaN     0  \n4        相得  NaN     0  \n...     ...  ...   ...  \n218605  不相得    逆     1  \n218606  不相得    逆     1  \n218607  不相得    逆     1  \n218608  不相得    逆     1  \n218609  不相得    逆     1  \n\n[218610 rows x 15 columns]",
      "text/html": "<div>\n<style scoped>\n    .dataframe tbody tr th:only-of-type {\n        vertical-align: middle;\n    }\n\n    .dataframe tbody tr th {\n        vertical-align: top;\n    }\n\n    .dataframe thead th {\n        text-align: right;\n    }\n</style>\n<table border=\"1\" class=\"dataframe\">\n  <thead>\n    <tr style=\"text-align: right;\">\n      <th></th>\n      <th>运气相合</th>\n      <th>运气同化</th>\n      <th>岁运</th>\n      <th>司天</th>\n      <th>在泉</th>\n      <th>运气异化</th>\n      <th>主运</th>\n      <th>客运</th>\n      <th>属于几之运</th>\n      <th>主气</th>\n      <th>客气</th>\n      <th>属于几之气</th>\n      <th>得/不得</th>\n      <th>逆/顺</th>\n      <th>flag</th>\n    </tr>\n  </thead>\n  <tbody>\n    <tr>\n      <th>0</th>\n      <td>强水火风</td>\n      <td>0</td>\n      <td>水运太过</td>\n      <td>少阳相火</td>\n      <td>厥阴风木</td>\n      <td>不和</td>\n      <td>太羽</td>\n      <td>少商</td>\n      <td>5</td>\n      <td>阳明燥金</td>\n      <td>太阳寒水</td>\n      <td>5</td>\n      <td>相得</td>\n      <td>NaN</td>\n      <td>0</td>\n    </tr>\n    <tr>\n      <th>1</th>\n      <td>强水火风</td>\n      <td>0</td>\n      <td>水运太过</td>\n      <td>少阳相火</td>\n      <td>厥阴风木</td>\n      <td>不和</td>\n      <td>太羽</td>\n      <td>少商</td>\n      <td>5</td>\n      <td>阳明燥金</td>\n      <td>太阳寒水</td>\n      <td>5</td>\n      <td>相得</td>\n      <td>NaN</td>\n      <td>0</td>\n    </tr>\n    <tr>\n      <th>2</th>\n      <td>强水火风</td>\n      <td>0</td>\n      <td>水运太过</td>\n      <td>少阳相火</td>\n      <td>厥阴风木</td>\n      <td>不和</td>\n      <td>太羽</td>\n      <td>少商</td>\n      <td>5</td>\n      <td>阳明燥金</td>\n      <td>太阳寒水</td>\n      <td>5</td>\n      <td>相得</td>\n      <td>NaN</td>\n      <td>0</td>\n    </tr>\n    <tr>\n      <th>3</th>\n      <td>强水火风</td>\n      <td>0</td>\n      <td>水运太过</td>\n      <td>少阳相火</td>\n      <td>厥阴风木</td>\n      <td>不和</td>\n      <td>太羽</td>\n      <td>少商</td>\n      <td>5</td>\n      <td>阳明燥金</td>\n      <td>太阳寒水</td>\n      <td>5</td>\n      <td>相得</td>\n      <td>NaN</td>\n      <td>0</td>\n    </tr>\n    <tr>\n      <th>4</th>\n      <td>强水火风</td>\n      <td>0</td>\n      <td>水运太过</td>\n      <td>少阳相火</td>\n      <td>厥阴风木</td>\n      <td>不和</td>\n      <td>太羽</td>\n      <td>少商</td>\n      <td>5</td>\n      <td>阳明燥金</td>\n      <td>太阳寒水</td>\n      <td>5</td>\n      <td>相得</td>\n      <td>NaN</td>\n      <td>0</td>\n    </tr>\n    <tr>\n      <th>...</th>\n      <td>...</td>\n      <td>...</td>\n      <td>...</td>\n      <td>...</td>\n      <td>...</td>\n      <td>...</td>\n      <td>...</td>\n      <td>...</td>\n      <td>...</td>\n      <td>...</td>\n      <td>...</td>\n      <td>...</td>\n      <td>...</td>\n      <td>...</td>\n      <td>...</td>\n    </tr>\n    <tr>\n      <th>218605</th>\n      <td>弱土风火</td>\n      <td>0</td>\n      <td>土运不及</td>\n      <td>厥阴风木</td>\n      <td>少阳相火</td>\n      <td>天刑</td>\n      <td>少羽</td>\n      <td>太徵</td>\n      <td>5</td>\n      <td>太阳寒水</td>\n      <td>少阳相火</td>\n      <td>6</td>\n      <td>不相得</td>\n      <td>逆</td>\n      <td>1</td>\n    </tr>\n    <tr>\n      <th>218606</th>\n      <td>弱土风火</td>\n      <td>0</td>\n      <td>土运不及</td>\n      <td>厥阴风木</td>\n      <td>少阳相火</td>\n      <td>天刑</td>\n      <td>少羽</td>\n      <td>太徵</td>\n      <td>5</td>\n      <td>太阳寒水</td>\n      <td>少阳相火</td>\n      <td>6</td>\n      <td>不相得</td>\n      <td>逆</td>\n      <td>1</td>\n    </tr>\n    <tr>\n      <th>218607</th>\n      <td>弱土风火</td>\n      <td>0</td>\n      <td>土运不及</td>\n      <td>厥阴风木</td>\n      <td>少阳相火</td>\n      <td>天刑</td>\n      <td>少羽</td>\n      <td>太徵</td>\n      <td>5</td>\n      <td>太阳寒水</td>\n      <td>少阳相火</td>\n      <td>6</td>\n      <td>不相得</td>\n      <td>逆</td>\n      <td>1</td>\n    </tr>\n    <tr>\n      <th>218608</th>\n      <td>弱土风火</td>\n      <td>0</td>\n      <td>土运不及</td>\n      <td>厥阴风木</td>\n      <td>少阳相火</td>\n      <td>天刑</td>\n      <td>少羽</td>\n      <td>太徵</td>\n      <td>5</td>\n      <td>太阳寒水</td>\n      <td>少阳相火</td>\n      <td>6</td>\n      <td>不相得</td>\n      <td>逆</td>\n      <td>1</td>\n    </tr>\n    <tr>\n      <th>218609</th>\n      <td>弱土风火</td>\n      <td>0</td>\n      <td>土运不及</td>\n      <td>厥阴风木</td>\n      <td>少阳相火</td>\n      <td>天刑</td>\n      <td>少羽</td>\n      <td>太徵</td>\n      <td>5</td>\n      <td>太阳寒水</td>\n      <td>少阳相火</td>\n      <td>6</td>\n      <td>不相得</td>\n      <td>逆</td>\n      <td>1</td>\n    </tr>\n  </tbody>\n</table>\n<p>218610 rows × 15 columns</p>\n</div>"
     },
     "execution_count": 158,
     "metadata": {},
     "output_type": "execute_result"
    }
   ],
   "source": [
    "patient_data_washed"
   ],
   "metadata": {
    "collapsed": false,
    "pycharm": {
     "name": "#%%\n"
    }
   }
  },
  {
   "cell_type": "code",
   "execution_count": 159,
   "outputs": [
    {
     "data": {
      "text/plain": "        运气相合   运气同化    岁运    司天    在泉 运气异化  主运  客运 属于几之运    主气    客气 属于几之气  \\\n0       强水火风  无运气同化  水运太过  少阳相火  厥阴风木   不和  太羽  少商   终之运  阳明燥金  太阳寒水   五之气   \n1       强水火风  无运气同化  水运太过  少阳相火  厥阴风木   不和  太羽  少商   终之运  阳明燥金  太阳寒水   五之气   \n2       强水火风  无运气同化  水运太过  少阳相火  厥阴风木   不和  太羽  少商   终之运  阳明燥金  太阳寒水   五之气   \n3       强水火风  无运气同化  水运太过  少阳相火  厥阴风木   不和  太羽  少商   终之运  阳明燥金  太阳寒水   五之气   \n4       强水火风  无运气同化  水运太过  少阳相火  厥阴风木   不和  太羽  少商   终之运  阳明燥金  太阳寒水   五之气   \n...      ...    ...   ...   ...   ...  ...  ..  ..   ...   ...   ...   ...   \n218605  弱土风火  无运气同化  土运不及  厥阴风木  少阳相火   天刑  少羽  太徵   终之运  太阳寒水  少阳相火   终之气   \n218606  弱土风火  无运气同化  土运不及  厥阴风木  少阳相火   天刑  少羽  太徵   终之运  太阳寒水  少阳相火   终之气   \n218607  弱土风火  无运气同化  土运不及  厥阴风木  少阳相火   天刑  少羽  太徵   终之运  太阳寒水  少阳相火   终之气   \n218608  弱土风火  无运气同化  土运不及  厥阴风木  少阳相火   天刑  少羽  太徵   终之运  太阳寒水  少阳相火   终之气   \n218609  弱土风火  无运气同化  土运不及  厥阴风木  少阳相火   天刑  少羽  太徵   终之运  太阳寒水  少阳相火   终之气   \n\n       得/不得 逆/顺  flag  \n0        相得   无     0  \n1        相得   无     0  \n2        相得   无     0  \n3        相得   无     0  \n4        相得   无     0  \n...     ...  ..   ...  \n218605  不相得   逆     1  \n218606  不相得   逆     1  \n218607  不相得   逆     1  \n218608  不相得   逆     1  \n218609  不相得   逆     1  \n\n[218610 rows x 15 columns]",
      "text/html": "<div>\n<style scoped>\n    .dataframe tbody tr th:only-of-type {\n        vertical-align: middle;\n    }\n\n    .dataframe tbody tr th {\n        vertical-align: top;\n    }\n\n    .dataframe thead th {\n        text-align: right;\n    }\n</style>\n<table border=\"1\" class=\"dataframe\">\n  <thead>\n    <tr style=\"text-align: right;\">\n      <th></th>\n      <th>运气相合</th>\n      <th>运气同化</th>\n      <th>岁运</th>\n      <th>司天</th>\n      <th>在泉</th>\n      <th>运气异化</th>\n      <th>主运</th>\n      <th>客运</th>\n      <th>属于几之运</th>\n      <th>主气</th>\n      <th>客气</th>\n      <th>属于几之气</th>\n      <th>得/不得</th>\n      <th>逆/顺</th>\n      <th>flag</th>\n    </tr>\n  </thead>\n  <tbody>\n    <tr>\n      <th>0</th>\n      <td>强水火风</td>\n      <td>无运气同化</td>\n      <td>水运太过</td>\n      <td>少阳相火</td>\n      <td>厥阴风木</td>\n      <td>不和</td>\n      <td>太羽</td>\n      <td>少商</td>\n      <td>终之运</td>\n      <td>阳明燥金</td>\n      <td>太阳寒水</td>\n      <td>五之气</td>\n      <td>相得</td>\n      <td>无</td>\n      <td>0</td>\n    </tr>\n    <tr>\n      <th>1</th>\n      <td>强水火风</td>\n      <td>无运气同化</td>\n      <td>水运太过</td>\n      <td>少阳相火</td>\n      <td>厥阴风木</td>\n      <td>不和</td>\n      <td>太羽</td>\n      <td>少商</td>\n      <td>终之运</td>\n      <td>阳明燥金</td>\n      <td>太阳寒水</td>\n      <td>五之气</td>\n      <td>相得</td>\n      <td>无</td>\n      <td>0</td>\n    </tr>\n    <tr>\n      <th>2</th>\n      <td>强水火风</td>\n      <td>无运气同化</td>\n      <td>水运太过</td>\n      <td>少阳相火</td>\n      <td>厥阴风木</td>\n      <td>不和</td>\n      <td>太羽</td>\n      <td>少商</td>\n      <td>终之运</td>\n      <td>阳明燥金</td>\n      <td>太阳寒水</td>\n      <td>五之气</td>\n      <td>相得</td>\n      <td>无</td>\n      <td>0</td>\n    </tr>\n    <tr>\n      <th>3</th>\n      <td>强水火风</td>\n      <td>无运气同化</td>\n      <td>水运太过</td>\n      <td>少阳相火</td>\n      <td>厥阴风木</td>\n      <td>不和</td>\n      <td>太羽</td>\n      <td>少商</td>\n      <td>终之运</td>\n      <td>阳明燥金</td>\n      <td>太阳寒水</td>\n      <td>五之气</td>\n      <td>相得</td>\n      <td>无</td>\n      <td>0</td>\n    </tr>\n    <tr>\n      <th>4</th>\n      <td>强水火风</td>\n      <td>无运气同化</td>\n      <td>水运太过</td>\n      <td>少阳相火</td>\n      <td>厥阴风木</td>\n      <td>不和</td>\n      <td>太羽</td>\n      <td>少商</td>\n      <td>终之运</td>\n      <td>阳明燥金</td>\n      <td>太阳寒水</td>\n      <td>五之气</td>\n      <td>相得</td>\n      <td>无</td>\n      <td>0</td>\n    </tr>\n    <tr>\n      <th>...</th>\n      <td>...</td>\n      <td>...</td>\n      <td>...</td>\n      <td>...</td>\n      <td>...</td>\n      <td>...</td>\n      <td>...</td>\n      <td>...</td>\n      <td>...</td>\n      <td>...</td>\n      <td>...</td>\n      <td>...</td>\n      <td>...</td>\n      <td>...</td>\n      <td>...</td>\n    </tr>\n    <tr>\n      <th>218605</th>\n      <td>弱土风火</td>\n      <td>无运气同化</td>\n      <td>土运不及</td>\n      <td>厥阴风木</td>\n      <td>少阳相火</td>\n      <td>天刑</td>\n      <td>少羽</td>\n      <td>太徵</td>\n      <td>终之运</td>\n      <td>太阳寒水</td>\n      <td>少阳相火</td>\n      <td>终之气</td>\n      <td>不相得</td>\n      <td>逆</td>\n      <td>1</td>\n    </tr>\n    <tr>\n      <th>218606</th>\n      <td>弱土风火</td>\n      <td>无运气同化</td>\n      <td>土运不及</td>\n      <td>厥阴风木</td>\n      <td>少阳相火</td>\n      <td>天刑</td>\n      <td>少羽</td>\n      <td>太徵</td>\n      <td>终之运</td>\n      <td>太阳寒水</td>\n      <td>少阳相火</td>\n      <td>终之气</td>\n      <td>不相得</td>\n      <td>逆</td>\n      <td>1</td>\n    </tr>\n    <tr>\n      <th>218607</th>\n      <td>弱土风火</td>\n      <td>无运气同化</td>\n      <td>土运不及</td>\n      <td>厥阴风木</td>\n      <td>少阳相火</td>\n      <td>天刑</td>\n      <td>少羽</td>\n      <td>太徵</td>\n      <td>终之运</td>\n      <td>太阳寒水</td>\n      <td>少阳相火</td>\n      <td>终之气</td>\n      <td>不相得</td>\n      <td>逆</td>\n      <td>1</td>\n    </tr>\n    <tr>\n      <th>218608</th>\n      <td>弱土风火</td>\n      <td>无运气同化</td>\n      <td>土运不及</td>\n      <td>厥阴风木</td>\n      <td>少阳相火</td>\n      <td>天刑</td>\n      <td>少羽</td>\n      <td>太徵</td>\n      <td>终之运</td>\n      <td>太阳寒水</td>\n      <td>少阳相火</td>\n      <td>终之气</td>\n      <td>不相得</td>\n      <td>逆</td>\n      <td>1</td>\n    </tr>\n    <tr>\n      <th>218609</th>\n      <td>弱土风火</td>\n      <td>无运气同化</td>\n      <td>土运不及</td>\n      <td>厥阴风木</td>\n      <td>少阳相火</td>\n      <td>天刑</td>\n      <td>少羽</td>\n      <td>太徵</td>\n      <td>终之运</td>\n      <td>太阳寒水</td>\n      <td>少阳相火</td>\n      <td>终之气</td>\n      <td>不相得</td>\n      <td>逆</td>\n      <td>1</td>\n    </tr>\n  </tbody>\n</table>\n<p>218610 rows × 15 columns</p>\n</div>"
     },
     "execution_count": 159,
     "metadata": {},
     "output_type": "execute_result"
    }
   ],
   "source": [
    "patient_data_washed.loc[:, '运气同化'] = patient_data_washed['运气同化'].replace('0', '无运气同化')\n",
    "patient_data_washed.loc[:, '运气异化'] = patient_data_washed['运气异化'].replace('0', '无运气异化')\n",
    "\n",
    "patient_data_washed.loc[:, '属于几之运'] = patient_data_washed['属于几之运'].replace(1, '初之运')\n",
    "patient_data_washed.loc[:, '属于几之运'] = patient_data_washed['属于几之运'].replace(2, '二之运')\n",
    "patient_data_washed.loc[:, '属于几之运'] = patient_data_washed['属于几之运'].replace(3, '三之运')\n",
    "patient_data_washed.loc[:, '属于几之运'] = patient_data_washed['属于几之运'].replace(4, '四之运')\n",
    "patient_data_washed.loc[:, '属于几之运'] = patient_data_washed['属于几之运'].replace(5, '终之运')\n",
    "\n",
    "patient_data_washed.loc[:, '属于几之气'] = patient_data_washed['属于几之气'].replace(1, '初之气')\n",
    "patient_data_washed.loc[:, '属于几之气'] = patient_data_washed['属于几之气'].replace(2, '二之气')\n",
    "patient_data_washed.loc[:, '属于几之气'] = patient_data_washed['属于几之气'].replace(3, '三之气')\n",
    "patient_data_washed.loc[:, '属于几之气'] = patient_data_washed['属于几之气'].replace(4, '四之气')\n",
    "patient_data_washed.loc[:, '属于几之气'] = patient_data_washed['属于几之气'].replace(5, '五之气')\n",
    "patient_data_washed.loc[:, '属于几之气'] = patient_data_washed['属于几之气'].replace(6, '终之气')\n",
    "\n",
    "patient_data_washed.loc[:, '逆/顺'] = patient_data_washed['逆/顺'].replace(np.NaN, '无')\n",
    "patient_data_washed"
   ],
   "metadata": {
    "collapsed": false,
    "pycharm": {
     "name": "#%%\n"
    }
   }
  },
  {
   "cell_type": "code",
   "execution_count": 160,
   "outputs": [
    {
     "data": {
      "text/plain": "{'三之气',\n '三之运',\n '不和',\n '不相得',\n '二之气',\n '二之运',\n '五之气',\n '初之气',\n '初之运',\n '厥阴风木',\n '四之气',\n '四之运',\n '土运不及',\n '土运太过',\n '天刑',\n '天符',\n '太一天符',\n '太商',\n '太宫',\n '太徵',\n '太羽',\n '太角',\n '太阳寒水',\n '太阴湿土',\n '少商',\n '少宫',\n '少徵',\n '少羽',\n '少角',\n '少阳相火',\n '少阴君火',\n '弱土湿寒',\n '弱土风火',\n '弱木燥火',\n '弱木风火',\n '弱水燥火',\n '弱火风火',\n '弱金湿寒',\n '强土火燥',\n '强木寒湿',\n '强水寒湿',\n '强水火风',\n '强火寒湿',\n '强火火燥',\n '强金火风',\n '无',\n '无运气同化',\n '无运气异化',\n '木运不及',\n '木运太过',\n '水运不及',\n '水运太过',\n '火运不及',\n '火运太过',\n '相得',\n '终之气',\n '终之运',\n '逆',\n '金运不及',\n '金运太过',\n '阳明燥金',\n '顺',\n '顺化'}"
     },
     "execution_count": 160,
     "metadata": {},
     "output_type": "execute_result"
    }
   ],
   "source": [
    "all_types = set(patient_data_washed['运气相合'])\n",
    "\n",
    "for col in patient_data_washed.columns[:-1]:\n",
    "    all_types.update(patient_data_washed[col].dropna().unique())\n",
    "\n",
    "all_types"
   ],
   "metadata": {
    "collapsed": false,
    "pycharm": {
     "name": "#%%\n"
    }
   }
  },
  {
   "cell_type": "code",
   "execution_count": 162,
   "outputs": [
    {
     "data": {
      "text/plain": "        四之气  二之气  弱土风火  初之运  终之气  逆  木运太过  少羽  弱土湿寒  太阴湿土  ...  三之气  不相得  \\\n0         0    0     0    0    0  0     0   0     0     0  ...    0    0   \n1         0    0     0    0    0  0     0   0     0     0  ...    0    0   \n2         0    0     0    0    0  0     0   0     0     0  ...    0    0   \n3         0    0     0    0    0  0     0   0     0     0  ...    0    0   \n4         0    0     0    0    0  0     0   0     0     0  ...    0    0   \n...     ...  ...   ...  ...  ... ..   ...  ..   ...   ...  ...  ...  ...   \n218605    0    0     0    0    0  0     0   0     0     0  ...    0    0   \n218606    0    0     0    0    0  0     0   0     0     0  ...    0    0   \n218607    0    0     0    0    0  0     0   0     0     0  ...    0    0   \n218608    0    0     0    0    0  0     0   0     0     0  ...    0    0   \n218609    0    0     0    0    0  0     0   0     0     0  ...    0    0   \n\n        少阴君火  顺  金运不及  太阳寒水  五之气  终之运  木运不及  type  \n0          0  0     0     0    0    0     0     0  \n1          0  0     0     0    0    0     0     0  \n2          0  0     0     0    0    0     0     0  \n3          0  0     0     0    0    0     0     0  \n4          0  0     0     0    0    0     0     0  \n...      ... ..   ...   ...  ...  ...   ...   ...  \n218605     0  0     0     0    0    0     0     0  \n218606     0  0     0     0    0    0     0     0  \n218607     0  0     0     0    0    0     0     0  \n218608     0  0     0     0    0    0     0     0  \n218609     0  0     0     0    0    0     0     0  \n\n[218610 rows x 64 columns]",
      "text/html": "<div>\n<style scoped>\n    .dataframe tbody tr th:only-of-type {\n        vertical-align: middle;\n    }\n\n    .dataframe tbody tr th {\n        vertical-align: top;\n    }\n\n    .dataframe thead th {\n        text-align: right;\n    }\n</style>\n<table border=\"1\" class=\"dataframe\">\n  <thead>\n    <tr style=\"text-align: right;\">\n      <th></th>\n      <th>四之气</th>\n      <th>二之气</th>\n      <th>弱土风火</th>\n      <th>初之运</th>\n      <th>终之气</th>\n      <th>逆</th>\n      <th>木运太过</th>\n      <th>少羽</th>\n      <th>弱土湿寒</th>\n      <th>太阴湿土</th>\n      <th>...</th>\n      <th>三之气</th>\n      <th>不相得</th>\n      <th>少阴君火</th>\n      <th>顺</th>\n      <th>金运不及</th>\n      <th>太阳寒水</th>\n      <th>五之气</th>\n      <th>终之运</th>\n      <th>木运不及</th>\n      <th>type</th>\n    </tr>\n  </thead>\n  <tbody>\n    <tr>\n      <th>0</th>\n      <td>0</td>\n      <td>0</td>\n      <td>0</td>\n      <td>0</td>\n      <td>0</td>\n      <td>0</td>\n      <td>0</td>\n      <td>0</td>\n      <td>0</td>\n      <td>0</td>\n      <td>...</td>\n      <td>0</td>\n      <td>0</td>\n      <td>0</td>\n      <td>0</td>\n      <td>0</td>\n      <td>0</td>\n      <td>0</td>\n      <td>0</td>\n      <td>0</td>\n      <td>0</td>\n    </tr>\n    <tr>\n      <th>1</th>\n      <td>0</td>\n      <td>0</td>\n      <td>0</td>\n      <td>0</td>\n      <td>0</td>\n      <td>0</td>\n      <td>0</td>\n      <td>0</td>\n      <td>0</td>\n      <td>0</td>\n      <td>...</td>\n      <td>0</td>\n      <td>0</td>\n      <td>0</td>\n      <td>0</td>\n      <td>0</td>\n      <td>0</td>\n      <td>0</td>\n      <td>0</td>\n      <td>0</td>\n      <td>0</td>\n    </tr>\n    <tr>\n      <th>2</th>\n      <td>0</td>\n      <td>0</td>\n      <td>0</td>\n      <td>0</td>\n      <td>0</td>\n      <td>0</td>\n      <td>0</td>\n      <td>0</td>\n      <td>0</td>\n      <td>0</td>\n      <td>...</td>\n      <td>0</td>\n      <td>0</td>\n      <td>0</td>\n      <td>0</td>\n      <td>0</td>\n      <td>0</td>\n      <td>0</td>\n      <td>0</td>\n      <td>0</td>\n      <td>0</td>\n    </tr>\n    <tr>\n      <th>3</th>\n      <td>0</td>\n      <td>0</td>\n      <td>0</td>\n      <td>0</td>\n      <td>0</td>\n      <td>0</td>\n      <td>0</td>\n      <td>0</td>\n      <td>0</td>\n      <td>0</td>\n      <td>...</td>\n      <td>0</td>\n      <td>0</td>\n      <td>0</td>\n      <td>0</td>\n      <td>0</td>\n      <td>0</td>\n      <td>0</td>\n      <td>0</td>\n      <td>0</td>\n      <td>0</td>\n    </tr>\n    <tr>\n      <th>4</th>\n      <td>0</td>\n      <td>0</td>\n      <td>0</td>\n      <td>0</td>\n      <td>0</td>\n      <td>0</td>\n      <td>0</td>\n      <td>0</td>\n      <td>0</td>\n      <td>0</td>\n      <td>...</td>\n      <td>0</td>\n      <td>0</td>\n      <td>0</td>\n      <td>0</td>\n      <td>0</td>\n      <td>0</td>\n      <td>0</td>\n      <td>0</td>\n      <td>0</td>\n      <td>0</td>\n    </tr>\n    <tr>\n      <th>...</th>\n      <td>...</td>\n      <td>...</td>\n      <td>...</td>\n      <td>...</td>\n      <td>...</td>\n      <td>...</td>\n      <td>...</td>\n      <td>...</td>\n      <td>...</td>\n      <td>...</td>\n      <td>...</td>\n      <td>...</td>\n      <td>...</td>\n      <td>...</td>\n      <td>...</td>\n      <td>...</td>\n      <td>...</td>\n      <td>...</td>\n      <td>...</td>\n      <td>...</td>\n      <td>...</td>\n    </tr>\n    <tr>\n      <th>218605</th>\n      <td>0</td>\n      <td>0</td>\n      <td>0</td>\n      <td>0</td>\n      <td>0</td>\n      <td>0</td>\n      <td>0</td>\n      <td>0</td>\n      <td>0</td>\n      <td>0</td>\n      <td>...</td>\n      <td>0</td>\n      <td>0</td>\n      <td>0</td>\n      <td>0</td>\n      <td>0</td>\n      <td>0</td>\n      <td>0</td>\n      <td>0</td>\n      <td>0</td>\n      <td>0</td>\n    </tr>\n    <tr>\n      <th>218606</th>\n      <td>0</td>\n      <td>0</td>\n      <td>0</td>\n      <td>0</td>\n      <td>0</td>\n      <td>0</td>\n      <td>0</td>\n      <td>0</td>\n      <td>0</td>\n      <td>0</td>\n      <td>...</td>\n      <td>0</td>\n      <td>0</td>\n      <td>0</td>\n      <td>0</td>\n      <td>0</td>\n      <td>0</td>\n      <td>0</td>\n      <td>0</td>\n      <td>0</td>\n      <td>0</td>\n    </tr>\n    <tr>\n      <th>218607</th>\n      <td>0</td>\n      <td>0</td>\n      <td>0</td>\n      <td>0</td>\n      <td>0</td>\n      <td>0</td>\n      <td>0</td>\n      <td>0</td>\n      <td>0</td>\n      <td>0</td>\n      <td>...</td>\n      <td>0</td>\n      <td>0</td>\n      <td>0</td>\n      <td>0</td>\n      <td>0</td>\n      <td>0</td>\n      <td>0</td>\n      <td>0</td>\n      <td>0</td>\n      <td>0</td>\n    </tr>\n    <tr>\n      <th>218608</th>\n      <td>0</td>\n      <td>0</td>\n      <td>0</td>\n      <td>0</td>\n      <td>0</td>\n      <td>0</td>\n      <td>0</td>\n      <td>0</td>\n      <td>0</td>\n      <td>0</td>\n      <td>...</td>\n      <td>0</td>\n      <td>0</td>\n      <td>0</td>\n      <td>0</td>\n      <td>0</td>\n      <td>0</td>\n      <td>0</td>\n      <td>0</td>\n      <td>0</td>\n      <td>0</td>\n    </tr>\n    <tr>\n      <th>218609</th>\n      <td>0</td>\n      <td>0</td>\n      <td>0</td>\n      <td>0</td>\n      <td>0</td>\n      <td>0</td>\n      <td>0</td>\n      <td>0</td>\n      <td>0</td>\n      <td>0</td>\n      <td>...</td>\n      <td>0</td>\n      <td>0</td>\n      <td>0</td>\n      <td>0</td>\n      <td>0</td>\n      <td>0</td>\n      <td>0</td>\n      <td>0</td>\n      <td>0</td>\n      <td>0</td>\n    </tr>\n  </tbody>\n</table>\n<p>218610 rows × 64 columns</p>\n</div>"
     },
     "execution_count": 162,
     "metadata": {},
     "output_type": "execute_result"
    }
   ],
   "source": [
    "transformed_data = pd.DataFrame(0, index=patient_data_washed.index, columns=all_types)\n",
    "\n",
    "for temp_type in all_types:\n",
    "    transformed_data['type'] = 0\n",
    "\n",
    "transformed_data"
   ],
   "metadata": {
    "collapsed": false,
    "pycharm": {
     "name": "#%%\n"
    }
   }
  },
  {
   "cell_type": "code",
   "execution_count": 163,
   "outputs": [
    {
     "data": {
      "text/plain": "         index  四之气  二之气  弱土风火  初之运  终之气  逆  木运太过  少羽  弱土湿寒  ...  三之气  不相得  \\\n0            0    0    0     0    0    0  0     0   0     0  ...    0    0   \n1            1    0    0     0    0    0  0     0   0     0  ...    0    0   \n2            2    0    0     0    0    0  0     0   0     0  ...    0    0   \n3            3    0    0     0    0    0  0     0   0     0  ...    0    0   \n4            4    0    0     0    0    0  0     0   0     0  ...    0    0   \n...        ...  ...  ...   ...  ...  ... ..   ...  ..   ...  ...  ...  ...   \n218605  218605    0    0     0    0    0  0     0   0     0  ...    0    0   \n218606  218606    0    0     0    0    0  0     0   0     0  ...    0    0   \n218607  218607    0    0     0    0    0  0     0   0     0  ...    0    0   \n218608  218608    0    0     0    0    0  0     0   0     0  ...    0    0   \n218609  218609    0    0     0    0    0  0     0   0     0  ...    0    0   \n\n        少阴君火  顺  金运不及  太阳寒水  五之气  终之运  木运不及  type  \n0          0  0     0     0    0    0     0     0  \n1          0  0     0     0    0    0     0     0  \n2          0  0     0     0    0    0     0     0  \n3          0  0     0     0    0    0     0     0  \n4          0  0     0     0    0    0     0     0  \n...      ... ..   ...   ...  ...  ...   ...   ...  \n218605     0  0     0     0    0    0     0     0  \n218606     0  0     0     0    0    0     0     0  \n218607     0  0     0     0    0    0     0     0  \n218608     0  0     0     0    0    0     0     0  \n218609     0  0     0     0    0    0     0     0  \n\n[218610 rows x 65 columns]",
      "text/html": "<div>\n<style scoped>\n    .dataframe tbody tr th:only-of-type {\n        vertical-align: middle;\n    }\n\n    .dataframe tbody tr th {\n        vertical-align: top;\n    }\n\n    .dataframe thead th {\n        text-align: right;\n    }\n</style>\n<table border=\"1\" class=\"dataframe\">\n  <thead>\n    <tr style=\"text-align: right;\">\n      <th></th>\n      <th>index</th>\n      <th>四之气</th>\n      <th>二之气</th>\n      <th>弱土风火</th>\n      <th>初之运</th>\n      <th>终之气</th>\n      <th>逆</th>\n      <th>木运太过</th>\n      <th>少羽</th>\n      <th>弱土湿寒</th>\n      <th>...</th>\n      <th>三之气</th>\n      <th>不相得</th>\n      <th>少阴君火</th>\n      <th>顺</th>\n      <th>金运不及</th>\n      <th>太阳寒水</th>\n      <th>五之气</th>\n      <th>终之运</th>\n      <th>木运不及</th>\n      <th>type</th>\n    </tr>\n  </thead>\n  <tbody>\n    <tr>\n      <th>0</th>\n      <td>0</td>\n      <td>0</td>\n      <td>0</td>\n      <td>0</td>\n      <td>0</td>\n      <td>0</td>\n      <td>0</td>\n      <td>0</td>\n      <td>0</td>\n      <td>0</td>\n      <td>...</td>\n      <td>0</td>\n      <td>0</td>\n      <td>0</td>\n      <td>0</td>\n      <td>0</td>\n      <td>0</td>\n      <td>0</td>\n      <td>0</td>\n      <td>0</td>\n      <td>0</td>\n    </tr>\n    <tr>\n      <th>1</th>\n      <td>1</td>\n      <td>0</td>\n      <td>0</td>\n      <td>0</td>\n      <td>0</td>\n      <td>0</td>\n      <td>0</td>\n      <td>0</td>\n      <td>0</td>\n      <td>0</td>\n      <td>...</td>\n      <td>0</td>\n      <td>0</td>\n      <td>0</td>\n      <td>0</td>\n      <td>0</td>\n      <td>0</td>\n      <td>0</td>\n      <td>0</td>\n      <td>0</td>\n      <td>0</td>\n    </tr>\n    <tr>\n      <th>2</th>\n      <td>2</td>\n      <td>0</td>\n      <td>0</td>\n      <td>0</td>\n      <td>0</td>\n      <td>0</td>\n      <td>0</td>\n      <td>0</td>\n      <td>0</td>\n      <td>0</td>\n      <td>...</td>\n      <td>0</td>\n      <td>0</td>\n      <td>0</td>\n      <td>0</td>\n      <td>0</td>\n      <td>0</td>\n      <td>0</td>\n      <td>0</td>\n      <td>0</td>\n      <td>0</td>\n    </tr>\n    <tr>\n      <th>3</th>\n      <td>3</td>\n      <td>0</td>\n      <td>0</td>\n      <td>0</td>\n      <td>0</td>\n      <td>0</td>\n      <td>0</td>\n      <td>0</td>\n      <td>0</td>\n      <td>0</td>\n      <td>...</td>\n      <td>0</td>\n      <td>0</td>\n      <td>0</td>\n      <td>0</td>\n      <td>0</td>\n      <td>0</td>\n      <td>0</td>\n      <td>0</td>\n      <td>0</td>\n      <td>0</td>\n    </tr>\n    <tr>\n      <th>4</th>\n      <td>4</td>\n      <td>0</td>\n      <td>0</td>\n      <td>0</td>\n      <td>0</td>\n      <td>0</td>\n      <td>0</td>\n      <td>0</td>\n      <td>0</td>\n      <td>0</td>\n      <td>...</td>\n      <td>0</td>\n      <td>0</td>\n      <td>0</td>\n      <td>0</td>\n      <td>0</td>\n      <td>0</td>\n      <td>0</td>\n      <td>0</td>\n      <td>0</td>\n      <td>0</td>\n    </tr>\n    <tr>\n      <th>...</th>\n      <td>...</td>\n      <td>...</td>\n      <td>...</td>\n      <td>...</td>\n      <td>...</td>\n      <td>...</td>\n      <td>...</td>\n      <td>...</td>\n      <td>...</td>\n      <td>...</td>\n      <td>...</td>\n      <td>...</td>\n      <td>...</td>\n      <td>...</td>\n      <td>...</td>\n      <td>...</td>\n      <td>...</td>\n      <td>...</td>\n      <td>...</td>\n      <td>...</td>\n      <td>...</td>\n    </tr>\n    <tr>\n      <th>218605</th>\n      <td>218605</td>\n      <td>0</td>\n      <td>0</td>\n      <td>0</td>\n      <td>0</td>\n      <td>0</td>\n      <td>0</td>\n      <td>0</td>\n      <td>0</td>\n      <td>0</td>\n      <td>...</td>\n      <td>0</td>\n      <td>0</td>\n      <td>0</td>\n      <td>0</td>\n      <td>0</td>\n      <td>0</td>\n      <td>0</td>\n      <td>0</td>\n      <td>0</td>\n      <td>0</td>\n    </tr>\n    <tr>\n      <th>218606</th>\n      <td>218606</td>\n      <td>0</td>\n      <td>0</td>\n      <td>0</td>\n      <td>0</td>\n      <td>0</td>\n      <td>0</td>\n      <td>0</td>\n      <td>0</td>\n      <td>0</td>\n      <td>...</td>\n      <td>0</td>\n      <td>0</td>\n      <td>0</td>\n      <td>0</td>\n      <td>0</td>\n      <td>0</td>\n      <td>0</td>\n      <td>0</td>\n      <td>0</td>\n      <td>0</td>\n    </tr>\n    <tr>\n      <th>218607</th>\n      <td>218607</td>\n      <td>0</td>\n      <td>0</td>\n      <td>0</td>\n      <td>0</td>\n      <td>0</td>\n      <td>0</td>\n      <td>0</td>\n      <td>0</td>\n      <td>0</td>\n      <td>...</td>\n      <td>0</td>\n      <td>0</td>\n      <td>0</td>\n      <td>0</td>\n      <td>0</td>\n      <td>0</td>\n      <td>0</td>\n      <td>0</td>\n      <td>0</td>\n      <td>0</td>\n    </tr>\n    <tr>\n      <th>218608</th>\n      <td>218608</td>\n      <td>0</td>\n      <td>0</td>\n      <td>0</td>\n      <td>0</td>\n      <td>0</td>\n      <td>0</td>\n      <td>0</td>\n      <td>0</td>\n      <td>0</td>\n      <td>...</td>\n      <td>0</td>\n      <td>0</td>\n      <td>0</td>\n      <td>0</td>\n      <td>0</td>\n      <td>0</td>\n      <td>0</td>\n      <td>0</td>\n      <td>0</td>\n      <td>0</td>\n    </tr>\n    <tr>\n      <th>218609</th>\n      <td>218609</td>\n      <td>0</td>\n      <td>0</td>\n      <td>0</td>\n      <td>0</td>\n      <td>0</td>\n      <td>0</td>\n      <td>0</td>\n      <td>0</td>\n      <td>0</td>\n      <td>...</td>\n      <td>0</td>\n      <td>0</td>\n      <td>0</td>\n      <td>0</td>\n      <td>0</td>\n      <td>0</td>\n      <td>0</td>\n      <td>0</td>\n      <td>0</td>\n      <td>0</td>\n    </tr>\n  </tbody>\n</table>\n<p>218610 rows × 65 columns</p>\n</div>"
     },
     "execution_count": 163,
     "metadata": {},
     "output_type": "execute_result"
    }
   ],
   "source": [
    "transformed_data.reset_index()"
   ],
   "metadata": {
    "collapsed": false,
    "pycharm": {
     "name": "#%%\n"
    }
   }
  },
  {
   "cell_type": "code",
   "execution_count": 164,
   "outputs": [
    {
     "data": {
      "text/plain": "        四之气  二之气  弱土风火  初之运  终之气  逆  木运太过  少羽  弱土湿寒  太阴湿土  ...  三之气  不相得  \\\n0         0    0     0    0    0  0     0   0     0     0  ...    0    0   \n1         0    0     0    0    0  0     0   0     0     0  ...    0    0   \n2         0    0     0    0    0  0     0   0     0     0  ...    0    0   \n3         0    0     0    0    0  0     0   0     0     0  ...    0    0   \n4         0    0     0    0    0  0     0   0     0     0  ...    0    0   \n...     ...  ...   ...  ...  ... ..   ...  ..   ...   ...  ...  ...  ...   \n218605    0    0     0    0    0  0     0   0     0     0  ...    0    0   \n218606    0    0     0    0    0  0     0   0     0     0  ...    0    0   \n218607    0    0     0    0    0  0     0   0     0     0  ...    0    0   \n218608    0    0     0    0    0  0     0   0     0     0  ...    0    0   \n218609    0    0     0    0    0  0     0   0     0     0  ...    0    0   \n\n        少阴君火  顺  金运不及  太阳寒水  五之气  终之运  木运不及  type  \n0          0  0     0     0    0    0     0     0  \n1          0  0     0     0    0    0     0     0  \n2          0  0     0     0    0    0     0     0  \n3          0  0     0     0    0    0     0     0  \n4          0  0     0     0    0    0     0     0  \n...      ... ..   ...   ...  ...  ...   ...   ...  \n218605     0  0     0     0    0    0     0     0  \n218606     0  0     0     0    0    0     0     0  \n218607     0  0     0     0    0    0     0     0  \n218608     0  0     0     0    0    0     0     0  \n218609     0  0     0     0    0    0     0     0  \n\n[218610 rows x 64 columns]",
      "text/html": "<div>\n<style scoped>\n    .dataframe tbody tr th:only-of-type {\n        vertical-align: middle;\n    }\n\n    .dataframe tbody tr th {\n        vertical-align: top;\n    }\n\n    .dataframe thead th {\n        text-align: right;\n    }\n</style>\n<table border=\"1\" class=\"dataframe\">\n  <thead>\n    <tr style=\"text-align: right;\">\n      <th></th>\n      <th>四之气</th>\n      <th>二之气</th>\n      <th>弱土风火</th>\n      <th>初之运</th>\n      <th>终之气</th>\n      <th>逆</th>\n      <th>木运太过</th>\n      <th>少羽</th>\n      <th>弱土湿寒</th>\n      <th>太阴湿土</th>\n      <th>...</th>\n      <th>三之气</th>\n      <th>不相得</th>\n      <th>少阴君火</th>\n      <th>顺</th>\n      <th>金运不及</th>\n      <th>太阳寒水</th>\n      <th>五之气</th>\n      <th>终之运</th>\n      <th>木运不及</th>\n      <th>type</th>\n    </tr>\n  </thead>\n  <tbody>\n    <tr>\n      <th>0</th>\n      <td>0</td>\n      <td>0</td>\n      <td>0</td>\n      <td>0</td>\n      <td>0</td>\n      <td>0</td>\n      <td>0</td>\n      <td>0</td>\n      <td>0</td>\n      <td>0</td>\n      <td>...</td>\n      <td>0</td>\n      <td>0</td>\n      <td>0</td>\n      <td>0</td>\n      <td>0</td>\n      <td>0</td>\n      <td>0</td>\n      <td>0</td>\n      <td>0</td>\n      <td>0</td>\n    </tr>\n    <tr>\n      <th>1</th>\n      <td>0</td>\n      <td>0</td>\n      <td>0</td>\n      <td>0</td>\n      <td>0</td>\n      <td>0</td>\n      <td>0</td>\n      <td>0</td>\n      <td>0</td>\n      <td>0</td>\n      <td>...</td>\n      <td>0</td>\n      <td>0</td>\n      <td>0</td>\n      <td>0</td>\n      <td>0</td>\n      <td>0</td>\n      <td>0</td>\n      <td>0</td>\n      <td>0</td>\n      <td>0</td>\n    </tr>\n    <tr>\n      <th>2</th>\n      <td>0</td>\n      <td>0</td>\n      <td>0</td>\n      <td>0</td>\n      <td>0</td>\n      <td>0</td>\n      <td>0</td>\n      <td>0</td>\n      <td>0</td>\n      <td>0</td>\n      <td>...</td>\n      <td>0</td>\n      <td>0</td>\n      <td>0</td>\n      <td>0</td>\n      <td>0</td>\n      <td>0</td>\n      <td>0</td>\n      <td>0</td>\n      <td>0</td>\n      <td>0</td>\n    </tr>\n    <tr>\n      <th>3</th>\n      <td>0</td>\n      <td>0</td>\n      <td>0</td>\n      <td>0</td>\n      <td>0</td>\n      <td>0</td>\n      <td>0</td>\n      <td>0</td>\n      <td>0</td>\n      <td>0</td>\n      <td>...</td>\n      <td>0</td>\n      <td>0</td>\n      <td>0</td>\n      <td>0</td>\n      <td>0</td>\n      <td>0</td>\n      <td>0</td>\n      <td>0</td>\n      <td>0</td>\n      <td>0</td>\n    </tr>\n    <tr>\n      <th>4</th>\n      <td>0</td>\n      <td>0</td>\n      <td>0</td>\n      <td>0</td>\n      <td>0</td>\n      <td>0</td>\n      <td>0</td>\n      <td>0</td>\n      <td>0</td>\n      <td>0</td>\n      <td>...</td>\n      <td>0</td>\n      <td>0</td>\n      <td>0</td>\n      <td>0</td>\n      <td>0</td>\n      <td>0</td>\n      <td>0</td>\n      <td>0</td>\n      <td>0</td>\n      <td>0</td>\n    </tr>\n    <tr>\n      <th>...</th>\n      <td>...</td>\n      <td>...</td>\n      <td>...</td>\n      <td>...</td>\n      <td>...</td>\n      <td>...</td>\n      <td>...</td>\n      <td>...</td>\n      <td>...</td>\n      <td>...</td>\n      <td>...</td>\n      <td>...</td>\n      <td>...</td>\n      <td>...</td>\n      <td>...</td>\n      <td>...</td>\n      <td>...</td>\n      <td>...</td>\n      <td>...</td>\n      <td>...</td>\n      <td>...</td>\n    </tr>\n    <tr>\n      <th>218605</th>\n      <td>0</td>\n      <td>0</td>\n      <td>0</td>\n      <td>0</td>\n      <td>0</td>\n      <td>0</td>\n      <td>0</td>\n      <td>0</td>\n      <td>0</td>\n      <td>0</td>\n      <td>...</td>\n      <td>0</td>\n      <td>0</td>\n      <td>0</td>\n      <td>0</td>\n      <td>0</td>\n      <td>0</td>\n      <td>0</td>\n      <td>0</td>\n      <td>0</td>\n      <td>0</td>\n    </tr>\n    <tr>\n      <th>218606</th>\n      <td>0</td>\n      <td>0</td>\n      <td>0</td>\n      <td>0</td>\n      <td>0</td>\n      <td>0</td>\n      <td>0</td>\n      <td>0</td>\n      <td>0</td>\n      <td>0</td>\n      <td>...</td>\n      <td>0</td>\n      <td>0</td>\n      <td>0</td>\n      <td>0</td>\n      <td>0</td>\n      <td>0</td>\n      <td>0</td>\n      <td>0</td>\n      <td>0</td>\n      <td>0</td>\n    </tr>\n    <tr>\n      <th>218607</th>\n      <td>0</td>\n      <td>0</td>\n      <td>0</td>\n      <td>0</td>\n      <td>0</td>\n      <td>0</td>\n      <td>0</td>\n      <td>0</td>\n      <td>0</td>\n      <td>0</td>\n      <td>...</td>\n      <td>0</td>\n      <td>0</td>\n      <td>0</td>\n      <td>0</td>\n      <td>0</td>\n      <td>0</td>\n      <td>0</td>\n      <td>0</td>\n      <td>0</td>\n      <td>0</td>\n    </tr>\n    <tr>\n      <th>218608</th>\n      <td>0</td>\n      <td>0</td>\n      <td>0</td>\n      <td>0</td>\n      <td>0</td>\n      <td>0</td>\n      <td>0</td>\n      <td>0</td>\n      <td>0</td>\n      <td>0</td>\n      <td>...</td>\n      <td>0</td>\n      <td>0</td>\n      <td>0</td>\n      <td>0</td>\n      <td>0</td>\n      <td>0</td>\n      <td>0</td>\n      <td>0</td>\n      <td>0</td>\n      <td>0</td>\n    </tr>\n    <tr>\n      <th>218609</th>\n      <td>0</td>\n      <td>0</td>\n      <td>0</td>\n      <td>0</td>\n      <td>0</td>\n      <td>0</td>\n      <td>0</td>\n      <td>0</td>\n      <td>0</td>\n      <td>0</td>\n      <td>...</td>\n      <td>0</td>\n      <td>0</td>\n      <td>0</td>\n      <td>0</td>\n      <td>0</td>\n      <td>0</td>\n      <td>0</td>\n      <td>0</td>\n      <td>0</td>\n      <td>0</td>\n    </tr>\n  </tbody>\n</table>\n<p>218610 rows × 64 columns</p>\n</div>"
     },
     "execution_count": 164,
     "metadata": {},
     "output_type": "execute_result"
    }
   ],
   "source": [
    "transformed_data"
   ],
   "metadata": {
    "collapsed": false,
    "pycharm": {
     "name": "#%%\n"
    }
   }
  },
  {
   "cell_type": "code",
   "execution_count": 165,
   "outputs": [
    {
     "data": {
      "text/plain": "        运气相合   运气同化    岁运    司天    在泉 运气异化  主运  客运 属于几之运    主气    客气 属于几之气  \\\n0       强水火风  无运气同化  水运太过  少阳相火  厥阴风木   不和  太羽  少商   终之运  阳明燥金  太阳寒水   五之气   \n1       强水火风  无运气同化  水运太过  少阳相火  厥阴风木   不和  太羽  少商   终之运  阳明燥金  太阳寒水   五之气   \n2       强水火风  无运气同化  水运太过  少阳相火  厥阴风木   不和  太羽  少商   终之运  阳明燥金  太阳寒水   五之气   \n3       强水火风  无运气同化  水运太过  少阳相火  厥阴风木   不和  太羽  少商   终之运  阳明燥金  太阳寒水   五之气   \n4       强水火风  无运气同化  水运太过  少阳相火  厥阴风木   不和  太羽  少商   终之运  阳明燥金  太阳寒水   五之气   \n...      ...    ...   ...   ...   ...  ...  ..  ..   ...   ...   ...   ...   \n218605  弱土风火  无运气同化  土运不及  厥阴风木  少阳相火   天刑  少羽  太徵   终之运  太阳寒水  少阳相火   终之气   \n218606  弱土风火  无运气同化  土运不及  厥阴风木  少阳相火   天刑  少羽  太徵   终之运  太阳寒水  少阳相火   终之气   \n218607  弱土风火  无运气同化  土运不及  厥阴风木  少阳相火   天刑  少羽  太徵   终之运  太阳寒水  少阳相火   终之气   \n218608  弱土风火  无运气同化  土运不及  厥阴风木  少阳相火   天刑  少羽  太徵   终之运  太阳寒水  少阳相火   终之气   \n218609  弱土风火  无运气同化  土运不及  厥阴风木  少阳相火   天刑  少羽  太徵   终之运  太阳寒水  少阳相火   终之气   \n\n       得/不得 逆/顺  flag  \n0        相得   无     0  \n1        相得   无     0  \n2        相得   无     0  \n3        相得   无     0  \n4        相得   无     0  \n...     ...  ..   ...  \n218605  不相得   逆     1  \n218606  不相得   逆     1  \n218607  不相得   逆     1  \n218608  不相得   逆     1  \n218609  不相得   逆     1  \n\n[218610 rows x 15 columns]",
      "text/html": "<div>\n<style scoped>\n    .dataframe tbody tr th:only-of-type {\n        vertical-align: middle;\n    }\n\n    .dataframe tbody tr th {\n        vertical-align: top;\n    }\n\n    .dataframe thead th {\n        text-align: right;\n    }\n</style>\n<table border=\"1\" class=\"dataframe\">\n  <thead>\n    <tr style=\"text-align: right;\">\n      <th></th>\n      <th>运气相合</th>\n      <th>运气同化</th>\n      <th>岁运</th>\n      <th>司天</th>\n      <th>在泉</th>\n      <th>运气异化</th>\n      <th>主运</th>\n      <th>客运</th>\n      <th>属于几之运</th>\n      <th>主气</th>\n      <th>客气</th>\n      <th>属于几之气</th>\n      <th>得/不得</th>\n      <th>逆/顺</th>\n      <th>flag</th>\n    </tr>\n  </thead>\n  <tbody>\n    <tr>\n      <th>0</th>\n      <td>强水火风</td>\n      <td>无运气同化</td>\n      <td>水运太过</td>\n      <td>少阳相火</td>\n      <td>厥阴风木</td>\n      <td>不和</td>\n      <td>太羽</td>\n      <td>少商</td>\n      <td>终之运</td>\n      <td>阳明燥金</td>\n      <td>太阳寒水</td>\n      <td>五之气</td>\n      <td>相得</td>\n      <td>无</td>\n      <td>0</td>\n    </tr>\n    <tr>\n      <th>1</th>\n      <td>强水火风</td>\n      <td>无运气同化</td>\n      <td>水运太过</td>\n      <td>少阳相火</td>\n      <td>厥阴风木</td>\n      <td>不和</td>\n      <td>太羽</td>\n      <td>少商</td>\n      <td>终之运</td>\n      <td>阳明燥金</td>\n      <td>太阳寒水</td>\n      <td>五之气</td>\n      <td>相得</td>\n      <td>无</td>\n      <td>0</td>\n    </tr>\n    <tr>\n      <th>2</th>\n      <td>强水火风</td>\n      <td>无运气同化</td>\n      <td>水运太过</td>\n      <td>少阳相火</td>\n      <td>厥阴风木</td>\n      <td>不和</td>\n      <td>太羽</td>\n      <td>少商</td>\n      <td>终之运</td>\n      <td>阳明燥金</td>\n      <td>太阳寒水</td>\n      <td>五之气</td>\n      <td>相得</td>\n      <td>无</td>\n      <td>0</td>\n    </tr>\n    <tr>\n      <th>3</th>\n      <td>强水火风</td>\n      <td>无运气同化</td>\n      <td>水运太过</td>\n      <td>少阳相火</td>\n      <td>厥阴风木</td>\n      <td>不和</td>\n      <td>太羽</td>\n      <td>少商</td>\n      <td>终之运</td>\n      <td>阳明燥金</td>\n      <td>太阳寒水</td>\n      <td>五之气</td>\n      <td>相得</td>\n      <td>无</td>\n      <td>0</td>\n    </tr>\n    <tr>\n      <th>4</th>\n      <td>强水火风</td>\n      <td>无运气同化</td>\n      <td>水运太过</td>\n      <td>少阳相火</td>\n      <td>厥阴风木</td>\n      <td>不和</td>\n      <td>太羽</td>\n      <td>少商</td>\n      <td>终之运</td>\n      <td>阳明燥金</td>\n      <td>太阳寒水</td>\n      <td>五之气</td>\n      <td>相得</td>\n      <td>无</td>\n      <td>0</td>\n    </tr>\n    <tr>\n      <th>...</th>\n      <td>...</td>\n      <td>...</td>\n      <td>...</td>\n      <td>...</td>\n      <td>...</td>\n      <td>...</td>\n      <td>...</td>\n      <td>...</td>\n      <td>...</td>\n      <td>...</td>\n      <td>...</td>\n      <td>...</td>\n      <td>...</td>\n      <td>...</td>\n      <td>...</td>\n    </tr>\n    <tr>\n      <th>218605</th>\n      <td>弱土风火</td>\n      <td>无运气同化</td>\n      <td>土运不及</td>\n      <td>厥阴风木</td>\n      <td>少阳相火</td>\n      <td>天刑</td>\n      <td>少羽</td>\n      <td>太徵</td>\n      <td>终之运</td>\n      <td>太阳寒水</td>\n      <td>少阳相火</td>\n      <td>终之气</td>\n      <td>不相得</td>\n      <td>逆</td>\n      <td>1</td>\n    </tr>\n    <tr>\n      <th>218606</th>\n      <td>弱土风火</td>\n      <td>无运气同化</td>\n      <td>土运不及</td>\n      <td>厥阴风木</td>\n      <td>少阳相火</td>\n      <td>天刑</td>\n      <td>少羽</td>\n      <td>太徵</td>\n      <td>终之运</td>\n      <td>太阳寒水</td>\n      <td>少阳相火</td>\n      <td>终之气</td>\n      <td>不相得</td>\n      <td>逆</td>\n      <td>1</td>\n    </tr>\n    <tr>\n      <th>218607</th>\n      <td>弱土风火</td>\n      <td>无运气同化</td>\n      <td>土运不及</td>\n      <td>厥阴风木</td>\n      <td>少阳相火</td>\n      <td>天刑</td>\n      <td>少羽</td>\n      <td>太徵</td>\n      <td>终之运</td>\n      <td>太阳寒水</td>\n      <td>少阳相火</td>\n      <td>终之气</td>\n      <td>不相得</td>\n      <td>逆</td>\n      <td>1</td>\n    </tr>\n    <tr>\n      <th>218608</th>\n      <td>弱土风火</td>\n      <td>无运气同化</td>\n      <td>土运不及</td>\n      <td>厥阴风木</td>\n      <td>少阳相火</td>\n      <td>天刑</td>\n      <td>少羽</td>\n      <td>太徵</td>\n      <td>终之运</td>\n      <td>太阳寒水</td>\n      <td>少阳相火</td>\n      <td>终之气</td>\n      <td>不相得</td>\n      <td>逆</td>\n      <td>1</td>\n    </tr>\n    <tr>\n      <th>218609</th>\n      <td>弱土风火</td>\n      <td>无运气同化</td>\n      <td>土运不及</td>\n      <td>厥阴风木</td>\n      <td>少阳相火</td>\n      <td>天刑</td>\n      <td>少羽</td>\n      <td>太徵</td>\n      <td>终之运</td>\n      <td>太阳寒水</td>\n      <td>少阳相火</td>\n      <td>终之气</td>\n      <td>不相得</td>\n      <td>逆</td>\n      <td>1</td>\n    </tr>\n  </tbody>\n</table>\n<p>218610 rows × 15 columns</p>\n</div>"
     },
     "execution_count": 165,
     "metadata": {},
     "output_type": "execute_result"
    }
   ],
   "source": [
    "patient_data_washed"
   ],
   "metadata": {
    "collapsed": false,
    "pycharm": {
     "name": "#%%\n"
    }
   }
  },
  {
   "cell_type": "code",
   "execution_count": 166,
   "outputs": [],
   "source": [
    "for temp_type in all_types:\n",
    "    transformed_data[temp_type] = patient_data_washed.isin([temp_type]).any(axis=1).astype(int)"
   ],
   "metadata": {
    "collapsed": false,
    "pycharm": {
     "name": "#%%\n"
    }
   }
  },
  {
   "cell_type": "code",
   "execution_count": 167,
   "outputs": [
    {
     "data": {
      "text/plain": "   四之气  二之气  弱土风火  初之运  终之气  逆  木运太过  少羽  弱土湿寒  太阴湿土  ...  三之气  不相得  少阴君火  顺  \\\n0    0    0     0    0    0  0     0   0     0     0  ...    0    0     0  0   \n1    0    0     0    0    0  0     0   0     0     0  ...    0    0     0  0   \n2    0    0     0    0    0  0     0   0     0     0  ...    0    0     0  0   \n3    0    0     0    0    0  0     0   0     0     0  ...    0    0     0  0   \n4    0    0     0    0    0  0     0   0     0     0  ...    0    0     0  0   \n5    0    0     0    0    0  0     0   0     0     0  ...    0    0     0  0   \n6    1    0     0    0    0  0     0   0     0     1  ...    0    0     0  0   \n7    0    0     0    0    0  0     0   1     1     1  ...    1    0     0  0   \n8    0    0     0    0    0  0     0   1     1     1  ...    1    0     0  0   \n9    0    0     0    0    0  0     0   1     1     1  ...    1    0     0  0   \n\n   金运不及  太阳寒水  五之气  终之运  木运不及  type  \n0     0     1    1    1     0     0  \n1     0     1    1    1     0     0  \n2     0     1    1    1     0     0  \n3     0     1    1    1     0     0  \n4     0     1    1    1     0     0  \n5     0     1    1    1     0     0  \n6     0     0    0    0     0     0  \n7     0     1    0    0     0     0  \n8     0     1    0    0     0     0  \n9     0     1    0    0     0     0  \n\n[10 rows x 64 columns]",
      "text/html": "<div>\n<style scoped>\n    .dataframe tbody tr th:only-of-type {\n        vertical-align: middle;\n    }\n\n    .dataframe tbody tr th {\n        vertical-align: top;\n    }\n\n    .dataframe thead th {\n        text-align: right;\n    }\n</style>\n<table border=\"1\" class=\"dataframe\">\n  <thead>\n    <tr style=\"text-align: right;\">\n      <th></th>\n      <th>四之气</th>\n      <th>二之气</th>\n      <th>弱土风火</th>\n      <th>初之运</th>\n      <th>终之气</th>\n      <th>逆</th>\n      <th>木运太过</th>\n      <th>少羽</th>\n      <th>弱土湿寒</th>\n      <th>太阴湿土</th>\n      <th>...</th>\n      <th>三之气</th>\n      <th>不相得</th>\n      <th>少阴君火</th>\n      <th>顺</th>\n      <th>金运不及</th>\n      <th>太阳寒水</th>\n      <th>五之气</th>\n      <th>终之运</th>\n      <th>木运不及</th>\n      <th>type</th>\n    </tr>\n  </thead>\n  <tbody>\n    <tr>\n      <th>0</th>\n      <td>0</td>\n      <td>0</td>\n      <td>0</td>\n      <td>0</td>\n      <td>0</td>\n      <td>0</td>\n      <td>0</td>\n      <td>0</td>\n      <td>0</td>\n      <td>0</td>\n      <td>...</td>\n      <td>0</td>\n      <td>0</td>\n      <td>0</td>\n      <td>0</td>\n      <td>0</td>\n      <td>1</td>\n      <td>1</td>\n      <td>1</td>\n      <td>0</td>\n      <td>0</td>\n    </tr>\n    <tr>\n      <th>1</th>\n      <td>0</td>\n      <td>0</td>\n      <td>0</td>\n      <td>0</td>\n      <td>0</td>\n      <td>0</td>\n      <td>0</td>\n      <td>0</td>\n      <td>0</td>\n      <td>0</td>\n      <td>...</td>\n      <td>0</td>\n      <td>0</td>\n      <td>0</td>\n      <td>0</td>\n      <td>0</td>\n      <td>1</td>\n      <td>1</td>\n      <td>1</td>\n      <td>0</td>\n      <td>0</td>\n    </tr>\n    <tr>\n      <th>2</th>\n      <td>0</td>\n      <td>0</td>\n      <td>0</td>\n      <td>0</td>\n      <td>0</td>\n      <td>0</td>\n      <td>0</td>\n      <td>0</td>\n      <td>0</td>\n      <td>0</td>\n      <td>...</td>\n      <td>0</td>\n      <td>0</td>\n      <td>0</td>\n      <td>0</td>\n      <td>0</td>\n      <td>1</td>\n      <td>1</td>\n      <td>1</td>\n      <td>0</td>\n      <td>0</td>\n    </tr>\n    <tr>\n      <th>3</th>\n      <td>0</td>\n      <td>0</td>\n      <td>0</td>\n      <td>0</td>\n      <td>0</td>\n      <td>0</td>\n      <td>0</td>\n      <td>0</td>\n      <td>0</td>\n      <td>0</td>\n      <td>...</td>\n      <td>0</td>\n      <td>0</td>\n      <td>0</td>\n      <td>0</td>\n      <td>0</td>\n      <td>1</td>\n      <td>1</td>\n      <td>1</td>\n      <td>0</td>\n      <td>0</td>\n    </tr>\n    <tr>\n      <th>4</th>\n      <td>0</td>\n      <td>0</td>\n      <td>0</td>\n      <td>0</td>\n      <td>0</td>\n      <td>0</td>\n      <td>0</td>\n      <td>0</td>\n      <td>0</td>\n      <td>0</td>\n      <td>...</td>\n      <td>0</td>\n      <td>0</td>\n      <td>0</td>\n      <td>0</td>\n      <td>0</td>\n      <td>1</td>\n      <td>1</td>\n      <td>1</td>\n      <td>0</td>\n      <td>0</td>\n    </tr>\n    <tr>\n      <th>5</th>\n      <td>0</td>\n      <td>0</td>\n      <td>0</td>\n      <td>0</td>\n      <td>0</td>\n      <td>0</td>\n      <td>0</td>\n      <td>0</td>\n      <td>0</td>\n      <td>0</td>\n      <td>...</td>\n      <td>0</td>\n      <td>0</td>\n      <td>0</td>\n      <td>0</td>\n      <td>0</td>\n      <td>1</td>\n      <td>1</td>\n      <td>1</td>\n      <td>0</td>\n      <td>0</td>\n    </tr>\n    <tr>\n      <th>6</th>\n      <td>1</td>\n      <td>0</td>\n      <td>0</td>\n      <td>0</td>\n      <td>0</td>\n      <td>0</td>\n      <td>0</td>\n      <td>0</td>\n      <td>0</td>\n      <td>1</td>\n      <td>...</td>\n      <td>0</td>\n      <td>0</td>\n      <td>0</td>\n      <td>0</td>\n      <td>0</td>\n      <td>0</td>\n      <td>0</td>\n      <td>0</td>\n      <td>0</td>\n      <td>0</td>\n    </tr>\n    <tr>\n      <th>7</th>\n      <td>0</td>\n      <td>0</td>\n      <td>0</td>\n      <td>0</td>\n      <td>0</td>\n      <td>0</td>\n      <td>0</td>\n      <td>1</td>\n      <td>1</td>\n      <td>1</td>\n      <td>...</td>\n      <td>1</td>\n      <td>0</td>\n      <td>0</td>\n      <td>0</td>\n      <td>0</td>\n      <td>1</td>\n      <td>0</td>\n      <td>0</td>\n      <td>0</td>\n      <td>0</td>\n    </tr>\n    <tr>\n      <th>8</th>\n      <td>0</td>\n      <td>0</td>\n      <td>0</td>\n      <td>0</td>\n      <td>0</td>\n      <td>0</td>\n      <td>0</td>\n      <td>1</td>\n      <td>1</td>\n      <td>1</td>\n      <td>...</td>\n      <td>1</td>\n      <td>0</td>\n      <td>0</td>\n      <td>0</td>\n      <td>0</td>\n      <td>1</td>\n      <td>0</td>\n      <td>0</td>\n      <td>0</td>\n      <td>0</td>\n    </tr>\n    <tr>\n      <th>9</th>\n      <td>0</td>\n      <td>0</td>\n      <td>0</td>\n      <td>0</td>\n      <td>0</td>\n      <td>0</td>\n      <td>0</td>\n      <td>1</td>\n      <td>1</td>\n      <td>1</td>\n      <td>...</td>\n      <td>1</td>\n      <td>0</td>\n      <td>0</td>\n      <td>0</td>\n      <td>0</td>\n      <td>1</td>\n      <td>0</td>\n      <td>0</td>\n      <td>0</td>\n      <td>0</td>\n    </tr>\n  </tbody>\n</table>\n<p>10 rows × 64 columns</p>\n</div>"
     },
     "execution_count": 167,
     "metadata": {},
     "output_type": "execute_result"
    }
   ],
   "source": [
    "transformed_data.head(10)"
   ],
   "metadata": {
    "collapsed": false,
    "pycharm": {
     "name": "#%%\n"
    }
   }
  },
  {
   "cell_type": "code",
   "execution_count": 168,
   "outputs": [
    {
     "data": {
      "text/plain": "Index(['四之气', '二之气', '弱土风火', '初之运', '终之气', '逆', '木运太过', '少羽', '弱土湿寒', '太阴湿土',\n       '弱水燥火', '厥阴风木', '天刑', '初之气', '太商', '火运太过', '少阳相火', '水运不及', '三之运', '太宫',\n       '强土火燥', '二之运', '火运不及', '太徵', '无', '无运气异化', '强火寒湿', '强水寒湿', '阳明燥金', '天符',\n       '相得', '水运太过', '无运气同化', '顺化', '太一天符', '四之运', '强金火风', '弱火风火', '少徵', '少宫',\n       '少角', '弱金湿寒', '不和', '太角', '强火火燥', '金运太过', '少商', '强水火风', '强木寒湿', '弱木风火',\n       '土运太过', '土运不及', '太羽', '弱木燥火', '三之气', '不相得', '少阴君火', '顺', '金运不及', '太阳寒水',\n       '五之气', '终之运', '木运不及', 'type'],\n      dtype='object')"
     },
     "execution_count": 168,
     "metadata": {},
     "output_type": "execute_result"
    }
   ],
   "source": [
    "transformed_data.columns"
   ],
   "metadata": {
    "collapsed": false,
    "pycharm": {
     "name": "#%%\n"
    }
   }
  },
  {
   "cell_type": "code",
   "execution_count": 169,
   "outputs": [
    {
     "data": {
      "text/plain": "0         0\n1         0\n2         0\n3         0\n4         0\n         ..\n218605    1\n218606    1\n218607    1\n218608    1\n218609    1\nName: type, Length: 218610, dtype: int64"
     },
     "execution_count": 169,
     "metadata": {},
     "output_type": "execute_result"
    }
   ],
   "source": [
    "transformed_data['type'] = patient_data_washed['flag']\n",
    "transformed_data['type']"
   ],
   "metadata": {
    "collapsed": false,
    "pycharm": {
     "name": "#%%\n"
    }
   }
  },
  {
   "cell_type": "code",
   "execution_count": 170,
   "outputs": [],
   "source": [
    "transformed_data.rename(columns={'type' : 'flag'}, inplace=True)"
   ],
   "metadata": {
    "collapsed": false,
    "pycharm": {
     "name": "#%%\n"
    }
   }
  },
  {
   "cell_type": "code",
   "execution_count": 171,
   "outputs": [
    {
     "data": {
      "text/plain": "        四之气  二之气  弱土风火  初之运  终之气  逆  木运太过  少羽  弱土湿寒  太阴湿土  ...  三之气  不相得  \\\n0         0    0     0    0    0  0     0   0     0     0  ...    0    0   \n1         0    0     0    0    0  0     0   0     0     0  ...    0    0   \n2         0    0     0    0    0  0     0   0     0     0  ...    0    0   \n3         0    0     0    0    0  0     0   0     0     0  ...    0    0   \n4         0    0     0    0    0  0     0   0     0     0  ...    0    0   \n...     ...  ...   ...  ...  ... ..   ...  ..   ...   ...  ...  ...  ...   \n218605    0    0     1    0    1  1     0   1     0     0  ...    0    1   \n218606    0    0     1    0    1  1     0   1     0     0  ...    0    1   \n218607    0    0     1    0    1  1     0   1     0     0  ...    0    1   \n218608    0    0     1    0    1  1     0   1     0     0  ...    0    1   \n218609    0    0     1    0    1  1     0   1     0     0  ...    0    1   \n\n        少阴君火  顺  金运不及  太阳寒水  五之气  终之运  木运不及  flag  \n0          0  0     0     1    1    1     0     0  \n1          0  0     0     1    1    1     0     0  \n2          0  0     0     1    1    1     0     0  \n3          0  0     0     1    1    1     0     0  \n4          0  0     0     1    1    1     0     0  \n...      ... ..   ...   ...  ...  ...   ...   ...  \n218605     0  0     0     1    0    1     0     1  \n218606     0  0     0     1    0    1     0     1  \n218607     0  0     0     1    0    1     0     1  \n218608     0  0     0     1    0    1     0     1  \n218609     0  0     0     1    0    1     0     1  \n\n[218610 rows x 64 columns]",
      "text/html": "<div>\n<style scoped>\n    .dataframe tbody tr th:only-of-type {\n        vertical-align: middle;\n    }\n\n    .dataframe tbody tr th {\n        vertical-align: top;\n    }\n\n    .dataframe thead th {\n        text-align: right;\n    }\n</style>\n<table border=\"1\" class=\"dataframe\">\n  <thead>\n    <tr style=\"text-align: right;\">\n      <th></th>\n      <th>四之气</th>\n      <th>二之气</th>\n      <th>弱土风火</th>\n      <th>初之运</th>\n      <th>终之气</th>\n      <th>逆</th>\n      <th>木运太过</th>\n      <th>少羽</th>\n      <th>弱土湿寒</th>\n      <th>太阴湿土</th>\n      <th>...</th>\n      <th>三之气</th>\n      <th>不相得</th>\n      <th>少阴君火</th>\n      <th>顺</th>\n      <th>金运不及</th>\n      <th>太阳寒水</th>\n      <th>五之气</th>\n      <th>终之运</th>\n      <th>木运不及</th>\n      <th>flag</th>\n    </tr>\n  </thead>\n  <tbody>\n    <tr>\n      <th>0</th>\n      <td>0</td>\n      <td>0</td>\n      <td>0</td>\n      <td>0</td>\n      <td>0</td>\n      <td>0</td>\n      <td>0</td>\n      <td>0</td>\n      <td>0</td>\n      <td>0</td>\n      <td>...</td>\n      <td>0</td>\n      <td>0</td>\n      <td>0</td>\n      <td>0</td>\n      <td>0</td>\n      <td>1</td>\n      <td>1</td>\n      <td>1</td>\n      <td>0</td>\n      <td>0</td>\n    </tr>\n    <tr>\n      <th>1</th>\n      <td>0</td>\n      <td>0</td>\n      <td>0</td>\n      <td>0</td>\n      <td>0</td>\n      <td>0</td>\n      <td>0</td>\n      <td>0</td>\n      <td>0</td>\n      <td>0</td>\n      <td>...</td>\n      <td>0</td>\n      <td>0</td>\n      <td>0</td>\n      <td>0</td>\n      <td>0</td>\n      <td>1</td>\n      <td>1</td>\n      <td>1</td>\n      <td>0</td>\n      <td>0</td>\n    </tr>\n    <tr>\n      <th>2</th>\n      <td>0</td>\n      <td>0</td>\n      <td>0</td>\n      <td>0</td>\n      <td>0</td>\n      <td>0</td>\n      <td>0</td>\n      <td>0</td>\n      <td>0</td>\n      <td>0</td>\n      <td>...</td>\n      <td>0</td>\n      <td>0</td>\n      <td>0</td>\n      <td>0</td>\n      <td>0</td>\n      <td>1</td>\n      <td>1</td>\n      <td>1</td>\n      <td>0</td>\n      <td>0</td>\n    </tr>\n    <tr>\n      <th>3</th>\n      <td>0</td>\n      <td>0</td>\n      <td>0</td>\n      <td>0</td>\n      <td>0</td>\n      <td>0</td>\n      <td>0</td>\n      <td>0</td>\n      <td>0</td>\n      <td>0</td>\n      <td>...</td>\n      <td>0</td>\n      <td>0</td>\n      <td>0</td>\n      <td>0</td>\n      <td>0</td>\n      <td>1</td>\n      <td>1</td>\n      <td>1</td>\n      <td>0</td>\n      <td>0</td>\n    </tr>\n    <tr>\n      <th>4</th>\n      <td>0</td>\n      <td>0</td>\n      <td>0</td>\n      <td>0</td>\n      <td>0</td>\n      <td>0</td>\n      <td>0</td>\n      <td>0</td>\n      <td>0</td>\n      <td>0</td>\n      <td>...</td>\n      <td>0</td>\n      <td>0</td>\n      <td>0</td>\n      <td>0</td>\n      <td>0</td>\n      <td>1</td>\n      <td>1</td>\n      <td>1</td>\n      <td>0</td>\n      <td>0</td>\n    </tr>\n    <tr>\n      <th>...</th>\n      <td>...</td>\n      <td>...</td>\n      <td>...</td>\n      <td>...</td>\n      <td>...</td>\n      <td>...</td>\n      <td>...</td>\n      <td>...</td>\n      <td>...</td>\n      <td>...</td>\n      <td>...</td>\n      <td>...</td>\n      <td>...</td>\n      <td>...</td>\n      <td>...</td>\n      <td>...</td>\n      <td>...</td>\n      <td>...</td>\n      <td>...</td>\n      <td>...</td>\n      <td>...</td>\n    </tr>\n    <tr>\n      <th>218605</th>\n      <td>0</td>\n      <td>0</td>\n      <td>1</td>\n      <td>0</td>\n      <td>1</td>\n      <td>1</td>\n      <td>0</td>\n      <td>1</td>\n      <td>0</td>\n      <td>0</td>\n      <td>...</td>\n      <td>0</td>\n      <td>1</td>\n      <td>0</td>\n      <td>0</td>\n      <td>0</td>\n      <td>1</td>\n      <td>0</td>\n      <td>1</td>\n      <td>0</td>\n      <td>1</td>\n    </tr>\n    <tr>\n      <th>218606</th>\n      <td>0</td>\n      <td>0</td>\n      <td>1</td>\n      <td>0</td>\n      <td>1</td>\n      <td>1</td>\n      <td>0</td>\n      <td>1</td>\n      <td>0</td>\n      <td>0</td>\n      <td>...</td>\n      <td>0</td>\n      <td>1</td>\n      <td>0</td>\n      <td>0</td>\n      <td>0</td>\n      <td>1</td>\n      <td>0</td>\n      <td>1</td>\n      <td>0</td>\n      <td>1</td>\n    </tr>\n    <tr>\n      <th>218607</th>\n      <td>0</td>\n      <td>0</td>\n      <td>1</td>\n      <td>0</td>\n      <td>1</td>\n      <td>1</td>\n      <td>0</td>\n      <td>1</td>\n      <td>0</td>\n      <td>0</td>\n      <td>...</td>\n      <td>0</td>\n      <td>1</td>\n      <td>0</td>\n      <td>0</td>\n      <td>0</td>\n      <td>1</td>\n      <td>0</td>\n      <td>1</td>\n      <td>0</td>\n      <td>1</td>\n    </tr>\n    <tr>\n      <th>218608</th>\n      <td>0</td>\n      <td>0</td>\n      <td>1</td>\n      <td>0</td>\n      <td>1</td>\n      <td>1</td>\n      <td>0</td>\n      <td>1</td>\n      <td>0</td>\n      <td>0</td>\n      <td>...</td>\n      <td>0</td>\n      <td>1</td>\n      <td>0</td>\n      <td>0</td>\n      <td>0</td>\n      <td>1</td>\n      <td>0</td>\n      <td>1</td>\n      <td>0</td>\n      <td>1</td>\n    </tr>\n    <tr>\n      <th>218609</th>\n      <td>0</td>\n      <td>0</td>\n      <td>1</td>\n      <td>0</td>\n      <td>1</td>\n      <td>1</td>\n      <td>0</td>\n      <td>1</td>\n      <td>0</td>\n      <td>0</td>\n      <td>...</td>\n      <td>0</td>\n      <td>1</td>\n      <td>0</td>\n      <td>0</td>\n      <td>0</td>\n      <td>1</td>\n      <td>0</td>\n      <td>1</td>\n      <td>0</td>\n      <td>1</td>\n    </tr>\n  </tbody>\n</table>\n<p>218610 rows × 64 columns</p>\n</div>"
     },
     "execution_count": 171,
     "metadata": {},
     "output_type": "execute_result"
    }
   ],
   "source": [
    "transformed_data"
   ],
   "metadata": {
    "collapsed": false,
    "pycharm": {
     "name": "#%%\n"
    }
   }
  },
  {
   "cell_type": "code",
   "execution_count": 181,
   "outputs": [],
   "source": [
    "transformed_data.to_excel(\"data/washed_data/transformed_data.xlsx\", index=False)"
   ],
   "metadata": {
    "collapsed": false,
    "pycharm": {
     "name": "#%%\n"
    }
   }
  },
  {
   "cell_type": "code",
   "execution_count": 23,
   "outputs": [],
   "source": [
    "features = ['四之气', '二之气', '初之运', '终之气', '逆', '木运太过', '少羽', '弱土湿寒', '太阴湿土', '弱水燥火',\n",
    "       '厥阴风木', '天刑', '初之气', '太商', '火运太过', '少阳相火', '水运不及', '三之运', '太宫', '强土火燥',\n",
    "       '二之运', '火运不及', '太徵', '无', '无运气异化', '强火寒湿', '强水寒湿', '阳明燥金', '天符', '相得',\n",
    "       '水运太过', '无运气同化', '顺化', '太一天符', '四之运', '强金火风', '弱火风火', '少徵', '少宫', '少角',\n",
    "       '弱金湿寒', '不和', '太角', '强火火燥', '金运太过', '少商', '强水火风', '强木寒湿', '弱木风火',\n",
    "       '土运太过', '土运不及', '太羽', '弱木燥火', '三之气', '不相得', '少阴君火', '顺', '金运不及', '太阳寒水',\n",
    "       '五之气', '终之运', '木运不及']"
   ],
   "metadata": {
    "collapsed": false,
    "pycharm": {
     "name": "#%%\n"
    }
   }
  },
  {
   "cell_type": "code",
   "execution_count": 2,
   "outputs": [],
   "source": [
    "transformed_data = pd.read_excel(\"data/washed_data/transformed_data.xlsx\")"
   ],
   "metadata": {
    "collapsed": false,
    "pycharm": {
     "name": "#%%\n"
    }
   }
  },
  {
   "cell_type": "code",
   "execution_count": 3,
   "outputs": [
    {
     "data": {
      "text/plain": "        四之气  二之气  弱土风火  初之运  终之气  逆  木运太过  少羽  弱土湿寒  太阴湿土  ...  三之气  不相得  \\\n0         0    0     0    0    0  0     0   0     0     0  ...    0    0   \n1         0    0     0    0    0  0     0   0     0     0  ...    0    0   \n2         0    0     0    0    0  0     0   0     0     0  ...    0    0   \n3         0    0     0    0    0  0     0   0     0     0  ...    0    0   \n4         0    0     0    0    0  0     0   0     0     0  ...    0    0   \n...     ...  ...   ...  ...  ... ..   ...  ..   ...   ...  ...  ...  ...   \n218605    0    0     1    0    1  1     0   1     0     0  ...    0    1   \n218606    0    0     1    0    1  1     0   1     0     0  ...    0    1   \n218607    0    0     1    0    1  1     0   1     0     0  ...    0    1   \n218608    0    0     1    0    1  1     0   1     0     0  ...    0    1   \n218609    0    0     1    0    1  1     0   1     0     0  ...    0    1   \n\n        少阴君火  顺  金运不及  太阳寒水  五之气  终之运  木运不及  flag  \n0          0  0     0     1    1    1     0     0  \n1          0  0     0     1    1    1     0     0  \n2          0  0     0     1    1    1     0     0  \n3          0  0     0     1    1    1     0     0  \n4          0  0     0     1    1    1     0     0  \n...      ... ..   ...   ...  ...  ...   ...   ...  \n218605     0  0     0     1    0    1     0     1  \n218606     0  0     0     1    0    1     0     1  \n218607     0  0     0     1    0    1     0     1  \n218608     0  0     0     1    0    1     0     1  \n218609     0  0     0     1    0    1     0     1  \n\n[218610 rows x 64 columns]",
      "text/html": "<div>\n<style scoped>\n    .dataframe tbody tr th:only-of-type {\n        vertical-align: middle;\n    }\n\n    .dataframe tbody tr th {\n        vertical-align: top;\n    }\n\n    .dataframe thead th {\n        text-align: right;\n    }\n</style>\n<table border=\"1\" class=\"dataframe\">\n  <thead>\n    <tr style=\"text-align: right;\">\n      <th></th>\n      <th>四之气</th>\n      <th>二之气</th>\n      <th>弱土风火</th>\n      <th>初之运</th>\n      <th>终之气</th>\n      <th>逆</th>\n      <th>木运太过</th>\n      <th>少羽</th>\n      <th>弱土湿寒</th>\n      <th>太阴湿土</th>\n      <th>...</th>\n      <th>三之气</th>\n      <th>不相得</th>\n      <th>少阴君火</th>\n      <th>顺</th>\n      <th>金运不及</th>\n      <th>太阳寒水</th>\n      <th>五之气</th>\n      <th>终之运</th>\n      <th>木运不及</th>\n      <th>flag</th>\n    </tr>\n  </thead>\n  <tbody>\n    <tr>\n      <th>0</th>\n      <td>0</td>\n      <td>0</td>\n      <td>0</td>\n      <td>0</td>\n      <td>0</td>\n      <td>0</td>\n      <td>0</td>\n      <td>0</td>\n      <td>0</td>\n      <td>0</td>\n      <td>...</td>\n      <td>0</td>\n      <td>0</td>\n      <td>0</td>\n      <td>0</td>\n      <td>0</td>\n      <td>1</td>\n      <td>1</td>\n      <td>1</td>\n      <td>0</td>\n      <td>0</td>\n    </tr>\n    <tr>\n      <th>1</th>\n      <td>0</td>\n      <td>0</td>\n      <td>0</td>\n      <td>0</td>\n      <td>0</td>\n      <td>0</td>\n      <td>0</td>\n      <td>0</td>\n      <td>0</td>\n      <td>0</td>\n      <td>...</td>\n      <td>0</td>\n      <td>0</td>\n      <td>0</td>\n      <td>0</td>\n      <td>0</td>\n      <td>1</td>\n      <td>1</td>\n      <td>1</td>\n      <td>0</td>\n      <td>0</td>\n    </tr>\n    <tr>\n      <th>2</th>\n      <td>0</td>\n      <td>0</td>\n      <td>0</td>\n      <td>0</td>\n      <td>0</td>\n      <td>0</td>\n      <td>0</td>\n      <td>0</td>\n      <td>0</td>\n      <td>0</td>\n      <td>...</td>\n      <td>0</td>\n      <td>0</td>\n      <td>0</td>\n      <td>0</td>\n      <td>0</td>\n      <td>1</td>\n      <td>1</td>\n      <td>1</td>\n      <td>0</td>\n      <td>0</td>\n    </tr>\n    <tr>\n      <th>3</th>\n      <td>0</td>\n      <td>0</td>\n      <td>0</td>\n      <td>0</td>\n      <td>0</td>\n      <td>0</td>\n      <td>0</td>\n      <td>0</td>\n      <td>0</td>\n      <td>0</td>\n      <td>...</td>\n      <td>0</td>\n      <td>0</td>\n      <td>0</td>\n      <td>0</td>\n      <td>0</td>\n      <td>1</td>\n      <td>1</td>\n      <td>1</td>\n      <td>0</td>\n      <td>0</td>\n    </tr>\n    <tr>\n      <th>4</th>\n      <td>0</td>\n      <td>0</td>\n      <td>0</td>\n      <td>0</td>\n      <td>0</td>\n      <td>0</td>\n      <td>0</td>\n      <td>0</td>\n      <td>0</td>\n      <td>0</td>\n      <td>...</td>\n      <td>0</td>\n      <td>0</td>\n      <td>0</td>\n      <td>0</td>\n      <td>0</td>\n      <td>1</td>\n      <td>1</td>\n      <td>1</td>\n      <td>0</td>\n      <td>0</td>\n    </tr>\n    <tr>\n      <th>...</th>\n      <td>...</td>\n      <td>...</td>\n      <td>...</td>\n      <td>...</td>\n      <td>...</td>\n      <td>...</td>\n      <td>...</td>\n      <td>...</td>\n      <td>...</td>\n      <td>...</td>\n      <td>...</td>\n      <td>...</td>\n      <td>...</td>\n      <td>...</td>\n      <td>...</td>\n      <td>...</td>\n      <td>...</td>\n      <td>...</td>\n      <td>...</td>\n      <td>...</td>\n      <td>...</td>\n    </tr>\n    <tr>\n      <th>218605</th>\n      <td>0</td>\n      <td>0</td>\n      <td>1</td>\n      <td>0</td>\n      <td>1</td>\n      <td>1</td>\n      <td>0</td>\n      <td>1</td>\n      <td>0</td>\n      <td>0</td>\n      <td>...</td>\n      <td>0</td>\n      <td>1</td>\n      <td>0</td>\n      <td>0</td>\n      <td>0</td>\n      <td>1</td>\n      <td>0</td>\n      <td>1</td>\n      <td>0</td>\n      <td>1</td>\n    </tr>\n    <tr>\n      <th>218606</th>\n      <td>0</td>\n      <td>0</td>\n      <td>1</td>\n      <td>0</td>\n      <td>1</td>\n      <td>1</td>\n      <td>0</td>\n      <td>1</td>\n      <td>0</td>\n      <td>0</td>\n      <td>...</td>\n      <td>0</td>\n      <td>1</td>\n      <td>0</td>\n      <td>0</td>\n      <td>0</td>\n      <td>1</td>\n      <td>0</td>\n      <td>1</td>\n      <td>0</td>\n      <td>1</td>\n    </tr>\n    <tr>\n      <th>218607</th>\n      <td>0</td>\n      <td>0</td>\n      <td>1</td>\n      <td>0</td>\n      <td>1</td>\n      <td>1</td>\n      <td>0</td>\n      <td>1</td>\n      <td>0</td>\n      <td>0</td>\n      <td>...</td>\n      <td>0</td>\n      <td>1</td>\n      <td>0</td>\n      <td>0</td>\n      <td>0</td>\n      <td>1</td>\n      <td>0</td>\n      <td>1</td>\n      <td>0</td>\n      <td>1</td>\n    </tr>\n    <tr>\n      <th>218608</th>\n      <td>0</td>\n      <td>0</td>\n      <td>1</td>\n      <td>0</td>\n      <td>1</td>\n      <td>1</td>\n      <td>0</td>\n      <td>1</td>\n      <td>0</td>\n      <td>0</td>\n      <td>...</td>\n      <td>0</td>\n      <td>1</td>\n      <td>0</td>\n      <td>0</td>\n      <td>0</td>\n      <td>1</td>\n      <td>0</td>\n      <td>1</td>\n      <td>0</td>\n      <td>1</td>\n    </tr>\n    <tr>\n      <th>218609</th>\n      <td>0</td>\n      <td>0</td>\n      <td>1</td>\n      <td>0</td>\n      <td>1</td>\n      <td>1</td>\n      <td>0</td>\n      <td>1</td>\n      <td>0</td>\n      <td>0</td>\n      <td>...</td>\n      <td>0</td>\n      <td>1</td>\n      <td>0</td>\n      <td>0</td>\n      <td>0</td>\n      <td>1</td>\n      <td>0</td>\n      <td>1</td>\n      <td>0</td>\n      <td>1</td>\n    </tr>\n  </tbody>\n</table>\n<p>218610 rows × 64 columns</p>\n</div>"
     },
     "execution_count": 3,
     "metadata": {},
     "output_type": "execute_result"
    }
   ],
   "source": [
    "transformed_data"
   ],
   "metadata": {
    "collapsed": false,
    "pycharm": {
     "name": "#%%\n"
    }
   }
  },
  {
   "cell_type": "markdown",
   "source": [
    "# 卡方检验"
   ],
   "metadata": {
    "collapsed": false,
    "pycharm": {
     "name": "#%% md\n"
    }
   }
  },
  {
   "cell_type": "code",
   "execution_count": 118,
   "outputs": [
    {
     "name": "stdout",
     "output_type": "stream",
     "text": [
      "      特征  卡方检验P值\n",
      "0    四之气     0.0\n",
      "1    二之气     0.0\n",
      "2    初之运     0.0\n",
      "3    终之气     0.0\n",
      "4      逆     0.0\n",
      "..   ...     ...\n",
      "57  金运不及     0.0\n",
      "58  太阳寒水     0.0\n",
      "59   五之气     0.0\n",
      "60   终之运     0.0\n",
      "61  木运不及     0.0\n",
      "\n",
      "[62 rows x 2 columns]\n"
     ]
    }
   ],
   "source": [
    "results = []\n",
    "\n",
    "for feature in features:\n",
    "    contingency_table = pd.crosstab(transformed_data[feature], transformed_data['flag'])\n",
    "    chi2, p, dof, expected = chi2_contingency(contingency_table)\n",
    "    results.append({'特征': feature, '卡方检验P值': p})\n",
    "\n",
    "results_df = pd.DataFrame(results)\n",
    "print(results_df)"
   ],
   "metadata": {
    "collapsed": false,
    "pycharm": {
     "name": "#%%\n"
    }
   }
  },
  {
   "cell_type": "code",
   "execution_count": 184,
   "outputs": [],
   "source": [
    "chi_square_results = pd.DataFrame(results_df)\n",
    "chi_square_results.to_excel(\"data/figures_data/chi_square_results.xlsx\")"
   ],
   "metadata": {
    "collapsed": false,
    "pycharm": {
     "name": "#%%\n"
    }
   }
  },
  {
   "cell_type": "markdown",
   "source": [
    "# 相关系数"
   ],
   "metadata": {
    "collapsed": false,
    "pycharm": {
     "name": "#%% md\n"
    }
   }
  },
  {
   "cell_type": "code",
   "execution_count": 195,
   "outputs": [
    {
     "data": {
      "text/plain": "      特征      相关系数   P值\n0    四之气 -0.271090  0.0\n1    二之气  0.110449  0.0\n2    初之运  0.256814  0.0\n3    终之气  0.735201  0.0\n4      逆 -0.100035  0.0\n..   ...       ...  ...\n57  金运不及 -0.116429  0.0\n58  太阳寒水  0.467461  0.0\n59   五之气 -0.132063  0.0\n60   终之运  0.651400  0.0\n61  木运不及 -0.333477  0.0\n\n[62 rows x 3 columns]",
      "text/html": "<div>\n<style scoped>\n    .dataframe tbody tr th:only-of-type {\n        vertical-align: middle;\n    }\n\n    .dataframe tbody tr th {\n        vertical-align: top;\n    }\n\n    .dataframe thead th {\n        text-align: right;\n    }\n</style>\n<table border=\"1\" class=\"dataframe\">\n  <thead>\n    <tr style=\"text-align: right;\">\n      <th></th>\n      <th>特征</th>\n      <th>相关系数</th>\n      <th>P值</th>\n    </tr>\n  </thead>\n  <tbody>\n    <tr>\n      <th>0</th>\n      <td>四之气</td>\n      <td>-0.271090</td>\n      <td>0.0</td>\n    </tr>\n    <tr>\n      <th>1</th>\n      <td>二之气</td>\n      <td>0.110449</td>\n      <td>0.0</td>\n    </tr>\n    <tr>\n      <th>2</th>\n      <td>初之运</td>\n      <td>0.256814</td>\n      <td>0.0</td>\n    </tr>\n    <tr>\n      <th>3</th>\n      <td>终之气</td>\n      <td>0.735201</td>\n      <td>0.0</td>\n    </tr>\n    <tr>\n      <th>4</th>\n      <td>逆</td>\n      <td>-0.100035</td>\n      <td>0.0</td>\n    </tr>\n    <tr>\n      <th>...</th>\n      <td>...</td>\n      <td>...</td>\n      <td>...</td>\n    </tr>\n    <tr>\n      <th>57</th>\n      <td>金运不及</td>\n      <td>-0.116429</td>\n      <td>0.0</td>\n    </tr>\n    <tr>\n      <th>58</th>\n      <td>太阳寒水</td>\n      <td>0.467461</td>\n      <td>0.0</td>\n    </tr>\n    <tr>\n      <th>59</th>\n      <td>五之气</td>\n      <td>-0.132063</td>\n      <td>0.0</td>\n    </tr>\n    <tr>\n      <th>60</th>\n      <td>终之运</td>\n      <td>0.651400</td>\n      <td>0.0</td>\n    </tr>\n    <tr>\n      <th>61</th>\n      <td>木运不及</td>\n      <td>-0.333477</td>\n      <td>0.0</td>\n    </tr>\n  </tbody>\n</table>\n<p>62 rows × 3 columns</p>\n</div>"
     },
     "execution_count": 195,
     "metadata": {},
     "output_type": "execute_result"
    }
   ],
   "source": [
    "results = []\n",
    "\n",
    "for feature in features:\n",
    "    correlation, p_value = pointbiserialr(transformed_data[feature], transformed_data['flag'])\n",
    "    results.append({'特征': feature, '相关系数': correlation, 'P值': p})\n",
    "\n",
    "results = pd.DataFrame(results)\n",
    "results"
   ],
   "metadata": {
    "collapsed": false,
    "pycharm": {
     "name": "#%%\n"
    }
   }
  },
  {
   "cell_type": "code",
   "execution_count": 199,
   "outputs": [],
   "source": [
    "results.to_excel(\"data/figures_data/pointbiserialr_results.xlsx\", index=False)"
   ],
   "metadata": {
    "collapsed": false,
    "pycharm": {
     "name": "#%%\n"
    }
   }
  },
  {
   "cell_type": "markdown",
   "source": [
    "# 分成训练集和预测集"
   ],
   "metadata": {
    "collapsed": false,
    "pycharm": {
     "name": "#%% md\n"
    }
   }
  },
  {
   "cell_type": "code",
   "execution_count": 28,
   "outputs": [],
   "source": [
    "X = transformed_data[features]\n",
    "y = transformed_data['flag']\n",
    "\n",
    "X_train, X_test, y_train, y_test = train_test_split(X, y, test_size=0.2, random_state=42)"
   ],
   "metadata": {
    "collapsed": false,
    "pycharm": {
     "name": "#%%\n"
    }
   }
  },
  {
   "cell_type": "markdown",
   "source": [
    "# 逻辑回归 (Logistic Regression)"
   ],
   "metadata": {
    "collapsed": false,
    "pycharm": {
     "name": "#%% md\n"
    }
   }
  },
  {
   "cell_type": "code",
   "execution_count": 176,
   "outputs": [
    {
     "name": "stderr",
     "output_type": "stream",
     "text": [
      "D:\\anaconda\\lib\\site-packages\\sklearn\\linear_model\\_logistic.py:814: ConvergenceWarning: lbfgs failed to converge (status=1):\n",
      "STOP: TOTAL NO. of ITERATIONS REACHED LIMIT.\n",
      "\n",
      "Increase the number of iterations (max_iter) or scale the data as shown in:\n",
      "    https://scikit-learn.org/stable/modules/preprocessing.html\n",
      "Please also refer to the documentation for alternative solver options:\n",
      "    https://scikit-learn.org/stable/modules/linear_model.html#logistic-regression\n",
      "  n_iter_i = _check_optimize_result(\n"
     ]
    },
    {
     "data": {
      "text/plain": "0.9715932482503088"
     },
     "execution_count": 176,
     "metadata": {},
     "output_type": "execute_result"
    }
   ],
   "source": [
    "model = LogisticRegression()\n",
    "model.fit(X_train, y_train)\n",
    "probabilities = model.predict_proba(X_test)\n",
    "\n",
    "y_pred = model.predict(X_test)\n",
    "accuracy = accuracy_score(y_test, y_pred)\n",
    "\n",
    "accuracy"
   ],
   "metadata": {
    "collapsed": false,
    "pycharm": {
     "name": "#%%\n"
    }
   }
  },
  {
   "cell_type": "markdown",
   "source": [
    "# 随机森林 (Random Forest)"
   ],
   "metadata": {
    "collapsed": false,
    "pycharm": {
     "name": "#%% md\n"
    }
   }
  },
  {
   "cell_type": "code",
   "execution_count": 205,
   "outputs": [
    {
     "name": "stdout",
     "output_type": "stream",
     "text": [
      "0.9714445816751293\n",
      "0.9715932482503088\n"
     ]
    }
   ],
   "source": [
    "rf = RandomForestClassifier()\n",
    "rf.fit(X_train, y_train)\n",
    "probabilities = rf.predict_proba(X_test)\n",
    "\n",
    "r_squared = model.score(X_train, y_train)\n",
    "print(r_squared)\n",
    "\n",
    "y_pred = model.predict(X_test)\n",
    "accuracy = accuracy_score(y_test, y_pred)\n",
    "print(accuracy)"
   ],
   "metadata": {
    "collapsed": false,
    "pycharm": {
     "name": "#%%\n"
    }
   }
  },
  {
   "cell_type": "markdown",
   "source": [
    "# 梯度提升树 (Gradient Boosting Machines)"
   ],
   "metadata": {
    "collapsed": false,
    "pycharm": {
     "name": "#%% md\n"
    }
   }
  },
  {
   "cell_type": "code",
   "execution_count": 178,
   "outputs": [
    {
     "name": "stdout",
     "output_type": "stream",
     "text": [
      "[[0.99390509 0.00609491]\n",
      " [0.06547281 0.93452719]\n",
      " [0.99390509 0.00609491]\n",
      " ...\n",
      " [0.00418287 0.99581713]\n",
      " [0.97829333 0.02170667]\n",
      " [0.94179852 0.05820148]]\n",
      "0.9715932482503088\n",
      "0.9932007012250973\n"
     ]
    }
   ],
   "source": [
    "gbc = GradientBoostingClassifier()\n",
    "gbc.fit(X_train, y_train)\n",
    "probabilities = gbc.predict_proba(X_test)\n",
    "print(probabilities)\n",
    "\n",
    "y_pred = model.predict(X_test)\n",
    "accuracy = accuracy_score(y_test, y_pred)\n",
    "print(accuracy)\n",
    "\n",
    "y_prob = model.predict_proba(X_test)[:, 1]  # 选择发病的概率\n",
    "auc_score = roc_auc_score(y_test, y_prob)\n",
    "print(auc_score)"
   ],
   "metadata": {
    "collapsed": false,
    "pycharm": {
     "name": "#%%\n"
    }
   }
  },
  {
   "cell_type": "code",
   "execution_count": 142,
   "outputs": [
    {
     "data": {
      "text/plain": "           四之气       二之气       初之运       终之气         逆      木运太过        少羽  \\\n四之气   1.000000 -0.077825 -0.050192 -0.043615  0.018382  0.021891 -0.122202   \n二之气  -0.077825  1.000000 -0.019419 -0.016875 -0.005820 -0.003550 -0.052480   \n初之运  -0.050192 -0.019419  1.000000 -0.010883 -0.075311 -0.011741 -0.029365   \n终之气  -0.043615 -0.016875 -0.010883  1.000000  0.016363 -0.003796  0.154635   \n逆     0.018382 -0.005820 -0.075311  0.016363  1.000000 -0.093032  0.309803   \n...        ...       ...       ...       ...       ...       ...       ...   \n金运不及  0.068097  0.045721 -0.027758  0.028964 -0.237434 -0.026673 -0.076889   \n太阳寒水  0.213467  0.093696 -0.006173  0.122372 -0.349932  0.132020 -0.190449   \n五之气  -0.143270 -0.055430 -0.035749 -0.031065  0.233722 -0.000969  0.863500   \n终之运  -0.151125 -0.058470 -0.037709  0.288603  0.229094 -0.002137  0.876386   \n木运不及  0.033146 -0.096542 -0.076733  0.007408  0.966968 -0.096846  0.311928   \n\n          弱土湿寒      太阴湿土      弱水燥火  ...      弱木燥火       三之气       不相得  \\\n四之气   0.002929  0.497594 -0.017126  ...  0.033204 -0.667520 -0.164512   \n二之气  -0.003106  0.036550 -0.007881  ... -0.096521 -0.258260 -0.058299   \n初之运  -0.002003 -0.015259  0.022312  ... -0.076719 -0.166560 -0.108167   \n终之气  -0.001740 -0.058709  0.024918  ...  0.006087 -0.144735 -0.026363   \n逆    -0.016714 -0.454200  0.047821  ...  0.966841 -0.144482  0.614587   \n...        ...       ...       ...  ...       ...       ...       ...   \n金运不及 -0.004550  0.287856 -0.011547  ... -0.234655 -0.077383 -0.371197   \n太阳寒水  0.022521  0.804303 -0.027804  ... -0.371314 -0.123092  0.213551   \n五之气  -0.005717 -0.226215 -0.009633  ...  0.237932 -0.475435  0.133153   \n终之运  -0.006031 -0.235384 -0.001295  ...  0.229856 -0.501502  0.119155   \n木运不及 -0.016521 -0.467600 -0.041925  ...  0.999871 -0.123784  0.584242   \n\n          少阴君火         顺      金运不及      太阳寒水       五之气       终之运      木运不及  \n四之气   0.126213 -0.217432  0.068097  0.213467 -0.143270 -0.151125  0.033146  \n二之气   0.148010  0.010982  0.045721  0.093696 -0.055430 -0.058470 -0.096542  \n初之运   0.027667 -0.033565 -0.027758 -0.006173 -0.035749 -0.037709 -0.076733  \n终之气  -0.004240 -0.051526  0.028964  0.122372 -0.031065  0.288603  0.007408  \n逆     0.867001 -0.510010 -0.237434 -0.349932  0.233722  0.229094  0.966968  \n...        ...       ...       ...       ...       ...       ...       ...  \n金运不及 -0.241452 -0.135375  1.000000  0.319920  0.010249  0.019039 -0.234685  \n太阳寒水 -0.403517  0.627848  0.319920  1.000000 -0.171170 -0.125007 -0.371149  \n五之气   0.220467 -0.139556  0.010249 -0.171170  1.000000  0.948021  0.237889  \n终之运   0.209838 -0.150086  0.019039 -0.125007  0.948021  1.000000  0.230234  \n木运不及  0.862991 -0.504105 -0.234685 -0.371149  0.237889  0.230234  1.000000  \n\n[62 rows x 62 columns]",
      "text/html": "<div>\n<style scoped>\n    .dataframe tbody tr th:only-of-type {\n        vertical-align: middle;\n    }\n\n    .dataframe tbody tr th {\n        vertical-align: top;\n    }\n\n    .dataframe thead th {\n        text-align: right;\n    }\n</style>\n<table border=\"1\" class=\"dataframe\">\n  <thead>\n    <tr style=\"text-align: right;\">\n      <th></th>\n      <th>四之气</th>\n      <th>二之气</th>\n      <th>初之运</th>\n      <th>终之气</th>\n      <th>逆</th>\n      <th>木运太过</th>\n      <th>少羽</th>\n      <th>弱土湿寒</th>\n      <th>太阴湿土</th>\n      <th>弱水燥火</th>\n      <th>...</th>\n      <th>弱木燥火</th>\n      <th>三之气</th>\n      <th>不相得</th>\n      <th>少阴君火</th>\n      <th>顺</th>\n      <th>金运不及</th>\n      <th>太阳寒水</th>\n      <th>五之气</th>\n      <th>终之运</th>\n      <th>木运不及</th>\n    </tr>\n  </thead>\n  <tbody>\n    <tr>\n      <th>四之气</th>\n      <td>1.000000</td>\n      <td>-0.077825</td>\n      <td>-0.050192</td>\n      <td>-0.043615</td>\n      <td>0.018382</td>\n      <td>0.021891</td>\n      <td>-0.122202</td>\n      <td>0.002929</td>\n      <td>0.497594</td>\n      <td>-0.017126</td>\n      <td>...</td>\n      <td>0.033204</td>\n      <td>-0.667520</td>\n      <td>-0.164512</td>\n      <td>0.126213</td>\n      <td>-0.217432</td>\n      <td>0.068097</td>\n      <td>0.213467</td>\n      <td>-0.143270</td>\n      <td>-0.151125</td>\n      <td>0.033146</td>\n    </tr>\n    <tr>\n      <th>二之气</th>\n      <td>-0.077825</td>\n      <td>1.000000</td>\n      <td>-0.019419</td>\n      <td>-0.016875</td>\n      <td>-0.005820</td>\n      <td>-0.003550</td>\n      <td>-0.052480</td>\n      <td>-0.003106</td>\n      <td>0.036550</td>\n      <td>-0.007881</td>\n      <td>...</td>\n      <td>-0.096521</td>\n      <td>-0.258260</td>\n      <td>-0.058299</td>\n      <td>0.148010</td>\n      <td>0.010982</td>\n      <td>0.045721</td>\n      <td>0.093696</td>\n      <td>-0.055430</td>\n      <td>-0.058470</td>\n      <td>-0.096542</td>\n    </tr>\n    <tr>\n      <th>初之运</th>\n      <td>-0.050192</td>\n      <td>-0.019419</td>\n      <td>1.000000</td>\n      <td>-0.010883</td>\n      <td>-0.075311</td>\n      <td>-0.011741</td>\n      <td>-0.029365</td>\n      <td>-0.002003</td>\n      <td>-0.015259</td>\n      <td>0.022312</td>\n      <td>...</td>\n      <td>-0.076719</td>\n      <td>-0.166560</td>\n      <td>-0.108167</td>\n      <td>0.027667</td>\n      <td>-0.033565</td>\n      <td>-0.027758</td>\n      <td>-0.006173</td>\n      <td>-0.035749</td>\n      <td>-0.037709</td>\n      <td>-0.076733</td>\n    </tr>\n    <tr>\n      <th>终之气</th>\n      <td>-0.043615</td>\n      <td>-0.016875</td>\n      <td>-0.010883</td>\n      <td>1.000000</td>\n      <td>0.016363</td>\n      <td>-0.003796</td>\n      <td>0.154635</td>\n      <td>-0.001740</td>\n      <td>-0.058709</td>\n      <td>0.024918</td>\n      <td>...</td>\n      <td>0.006087</td>\n      <td>-0.144735</td>\n      <td>-0.026363</td>\n      <td>-0.004240</td>\n      <td>-0.051526</td>\n      <td>0.028964</td>\n      <td>0.122372</td>\n      <td>-0.031065</td>\n      <td>0.288603</td>\n      <td>0.007408</td>\n    </tr>\n    <tr>\n      <th>逆</th>\n      <td>0.018382</td>\n      <td>-0.005820</td>\n      <td>-0.075311</td>\n      <td>0.016363</td>\n      <td>1.000000</td>\n      <td>-0.093032</td>\n      <td>0.309803</td>\n      <td>-0.016714</td>\n      <td>-0.454200</td>\n      <td>0.047821</td>\n      <td>...</td>\n      <td>0.966841</td>\n      <td>-0.144482</td>\n      <td>0.614587</td>\n      <td>0.867001</td>\n      <td>-0.510010</td>\n      <td>-0.237434</td>\n      <td>-0.349932</td>\n      <td>0.233722</td>\n      <td>0.229094</td>\n      <td>0.966968</td>\n    </tr>\n    <tr>\n      <th>...</th>\n      <td>...</td>\n      <td>...</td>\n      <td>...</td>\n      <td>...</td>\n      <td>...</td>\n      <td>...</td>\n      <td>...</td>\n      <td>...</td>\n      <td>...</td>\n      <td>...</td>\n      <td>...</td>\n      <td>...</td>\n      <td>...</td>\n      <td>...</td>\n      <td>...</td>\n      <td>...</td>\n      <td>...</td>\n      <td>...</td>\n      <td>...</td>\n      <td>...</td>\n      <td>...</td>\n    </tr>\n    <tr>\n      <th>金运不及</th>\n      <td>0.068097</td>\n      <td>0.045721</td>\n      <td>-0.027758</td>\n      <td>0.028964</td>\n      <td>-0.237434</td>\n      <td>-0.026673</td>\n      <td>-0.076889</td>\n      <td>-0.004550</td>\n      <td>0.287856</td>\n      <td>-0.011547</td>\n      <td>...</td>\n      <td>-0.234655</td>\n      <td>-0.077383</td>\n      <td>-0.371197</td>\n      <td>-0.241452</td>\n      <td>-0.135375</td>\n      <td>1.000000</td>\n      <td>0.319920</td>\n      <td>0.010249</td>\n      <td>0.019039</td>\n      <td>-0.234685</td>\n    </tr>\n    <tr>\n      <th>太阳寒水</th>\n      <td>0.213467</td>\n      <td>0.093696</td>\n      <td>-0.006173</td>\n      <td>0.122372</td>\n      <td>-0.349932</td>\n      <td>0.132020</td>\n      <td>-0.190449</td>\n      <td>0.022521</td>\n      <td>0.804303</td>\n      <td>-0.027804</td>\n      <td>...</td>\n      <td>-0.371314</td>\n      <td>-0.123092</td>\n      <td>0.213551</td>\n      <td>-0.403517</td>\n      <td>0.627848</td>\n      <td>0.319920</td>\n      <td>1.000000</td>\n      <td>-0.171170</td>\n      <td>-0.125007</td>\n      <td>-0.371149</td>\n    </tr>\n    <tr>\n      <th>五之气</th>\n      <td>-0.143270</td>\n      <td>-0.055430</td>\n      <td>-0.035749</td>\n      <td>-0.031065</td>\n      <td>0.233722</td>\n      <td>-0.000969</td>\n      <td>0.863500</td>\n      <td>-0.005717</td>\n      <td>-0.226215</td>\n      <td>-0.009633</td>\n      <td>...</td>\n      <td>0.237932</td>\n      <td>-0.475435</td>\n      <td>0.133153</td>\n      <td>0.220467</td>\n      <td>-0.139556</td>\n      <td>0.010249</td>\n      <td>-0.171170</td>\n      <td>1.000000</td>\n      <td>0.948021</td>\n      <td>0.237889</td>\n    </tr>\n    <tr>\n      <th>终之运</th>\n      <td>-0.151125</td>\n      <td>-0.058470</td>\n      <td>-0.037709</td>\n      <td>0.288603</td>\n      <td>0.229094</td>\n      <td>-0.002137</td>\n      <td>0.876386</td>\n      <td>-0.006031</td>\n      <td>-0.235384</td>\n      <td>-0.001295</td>\n      <td>...</td>\n      <td>0.229856</td>\n      <td>-0.501502</td>\n      <td>0.119155</td>\n      <td>0.209838</td>\n      <td>-0.150086</td>\n      <td>0.019039</td>\n      <td>-0.125007</td>\n      <td>0.948021</td>\n      <td>1.000000</td>\n      <td>0.230234</td>\n    </tr>\n    <tr>\n      <th>木运不及</th>\n      <td>0.033146</td>\n      <td>-0.096542</td>\n      <td>-0.076733</td>\n      <td>0.007408</td>\n      <td>0.966968</td>\n      <td>-0.096846</td>\n      <td>0.311928</td>\n      <td>-0.016521</td>\n      <td>-0.467600</td>\n      <td>-0.041925</td>\n      <td>...</td>\n      <td>0.999871</td>\n      <td>-0.123784</td>\n      <td>0.584242</td>\n      <td>0.862991</td>\n      <td>-0.504105</td>\n      <td>-0.234685</td>\n      <td>-0.371149</td>\n      <td>0.237889</td>\n      <td>0.230234</td>\n      <td>1.000000</td>\n    </tr>\n  </tbody>\n</table>\n<p>62 rows × 62 columns</p>\n</div>"
     },
     "execution_count": 142,
     "metadata": {},
     "output_type": "execute_result"
    }
   ],
   "source": [
    "corr_matrix = transformed_data[features].corr()\n",
    "corr_matrix"
   ],
   "metadata": {
    "collapsed": false,
    "pycharm": {
     "name": "#%%\n"
    }
   }
  },
  {
   "cell_type": "code",
   "execution_count": 13,
   "outputs": [
    {
     "data": {
      "text/plain": "['四之气',\n '二之气',\n '初之运',\n '终之气',\n '逆',\n '木运太过',\n '少羽',\n '弱土湿寒',\n '太阴湿土',\n '弱水燥火',\n '厥阴风木',\n '天刑',\n '初之气',\n '太商',\n '火运太过',\n '少阳相火',\n '水运不及',\n '三之运',\n '太宫',\n '强土火燥',\n '二之运',\n '火运不及',\n '太徵',\n '无',\n '无运气异化',\n '强火寒湿',\n '强水寒湿',\n '阳明燥金',\n '天符',\n '相得',\n '水运太过',\n '无运气同化',\n '顺化',\n '太一天符',\n '四之运',\n '强金火风',\n '弱火风火',\n '少徵',\n '少宫',\n '少角',\n '弱金湿寒',\n '不和',\n '太角',\n '强火火燥',\n '金运太过',\n '少商',\n '强水火风',\n '强木寒湿',\n '弱木风火',\n '土运太过',\n '土运不及',\n '太羽',\n '弱木燥火',\n '三之气',\n '不相得',\n '少阴君火',\n '顺',\n '金运不及',\n '太阳寒水',\n '五之气',\n '终之运',\n '木运不及']"
     },
     "execution_count": 13,
     "metadata": {},
     "output_type": "execute_result"
    }
   ],
   "source": [
    "features"
   ],
   "metadata": {
    "collapsed": false,
    "pycharm": {
     "name": "#%%\n"
    }
   }
  },
  {
   "cell_type": "markdown",
   "source": [
    "# 独热编码"
   ],
   "metadata": {
    "collapsed": false,
    "pycharm": {
     "name": "#%% md\n"
    }
   }
  },
  {
   "cell_type": "code",
   "execution_count": 26,
   "outputs": [],
   "source": [
    "transformed_data_encoded = pd.get_dummies(transformed_data, columns=features)"
   ],
   "metadata": {
    "collapsed": false,
    "pycharm": {
     "name": "#%%\n"
    }
   }
  },
  {
   "cell_type": "code",
   "execution_count": 27,
   "outputs": [
    {
     "data": {
      "text/plain": "        弱土风火  flag  四之气_0  四之气_1  二之气_0  二之气_1  初之运_0  初之运_1  终之气_0  终之气_1  \\\n0          0     0      1      0      1      0      1      0      1      0   \n1          0     0      1      0      1      0      1      0      1      0   \n2          0     0      1      0      1      0      1      0      1      0   \n3          0     0      1      0      1      0      1      0      1      0   \n4          0     0      1      0      1      0      1      0      1      0   \n...      ...   ...    ...    ...    ...    ...    ...    ...    ...    ...   \n218605     1     1      1      0      1      0      1      0      0      1   \n218606     1     1      1      0      1      0      1      0      0      1   \n218607     1     1      1      0      1      0      1      0      0      1   \n218608     1     1      1      0      1      0      1      0      0      1   \n218609     1     1      1      0      1      0      1      0      0      1   \n\n        ...  金运不及_0  金运不及_1  太阳寒水_0  太阳寒水_1  五之气_0  五之气_1  终之运_0  终之运_1  \\\n0       ...       1       0       0       1      0      1      0      1   \n1       ...       1       0       0       1      0      1      0      1   \n2       ...       1       0       0       1      0      1      0      1   \n3       ...       1       0       0       1      0      1      0      1   \n4       ...       1       0       0       1      0      1      0      1   \n...     ...     ...     ...     ...     ...    ...    ...    ...    ...   \n218605  ...       1       0       0       1      1      0      0      1   \n218606  ...       1       0       0       1      1      0      0      1   \n218607  ...       1       0       0       1      1      0      0      1   \n218608  ...       1       0       0       1      1      0      0      1   \n218609  ...       1       0       0       1      1      0      0      1   \n\n        木运不及_0  木运不及_1  \n0            1       0  \n1            1       0  \n2            1       0  \n3            1       0  \n4            1       0  \n...        ...     ...  \n218605       1       0  \n218606       1       0  \n218607       1       0  \n218608       1       0  \n218609       1       0  \n\n[218610 rows x 126 columns]",
      "text/html": "<div>\n<style scoped>\n    .dataframe tbody tr th:only-of-type {\n        vertical-align: middle;\n    }\n\n    .dataframe tbody tr th {\n        vertical-align: top;\n    }\n\n    .dataframe thead th {\n        text-align: right;\n    }\n</style>\n<table border=\"1\" class=\"dataframe\">\n  <thead>\n    <tr style=\"text-align: right;\">\n      <th></th>\n      <th>弱土风火</th>\n      <th>flag</th>\n      <th>四之气_0</th>\n      <th>四之气_1</th>\n      <th>二之气_0</th>\n      <th>二之气_1</th>\n      <th>初之运_0</th>\n      <th>初之运_1</th>\n      <th>终之气_0</th>\n      <th>终之气_1</th>\n      <th>...</th>\n      <th>金运不及_0</th>\n      <th>金运不及_1</th>\n      <th>太阳寒水_0</th>\n      <th>太阳寒水_1</th>\n      <th>五之气_0</th>\n      <th>五之气_1</th>\n      <th>终之运_0</th>\n      <th>终之运_1</th>\n      <th>木运不及_0</th>\n      <th>木运不及_1</th>\n    </tr>\n  </thead>\n  <tbody>\n    <tr>\n      <th>0</th>\n      <td>0</td>\n      <td>0</td>\n      <td>1</td>\n      <td>0</td>\n      <td>1</td>\n      <td>0</td>\n      <td>1</td>\n      <td>0</td>\n      <td>1</td>\n      <td>0</td>\n      <td>...</td>\n      <td>1</td>\n      <td>0</td>\n      <td>0</td>\n      <td>1</td>\n      <td>0</td>\n      <td>1</td>\n      <td>0</td>\n      <td>1</td>\n      <td>1</td>\n      <td>0</td>\n    </tr>\n    <tr>\n      <th>1</th>\n      <td>0</td>\n      <td>0</td>\n      <td>1</td>\n      <td>0</td>\n      <td>1</td>\n      <td>0</td>\n      <td>1</td>\n      <td>0</td>\n      <td>1</td>\n      <td>0</td>\n      <td>...</td>\n      <td>1</td>\n      <td>0</td>\n      <td>0</td>\n      <td>1</td>\n      <td>0</td>\n      <td>1</td>\n      <td>0</td>\n      <td>1</td>\n      <td>1</td>\n      <td>0</td>\n    </tr>\n    <tr>\n      <th>2</th>\n      <td>0</td>\n      <td>0</td>\n      <td>1</td>\n      <td>0</td>\n      <td>1</td>\n      <td>0</td>\n      <td>1</td>\n      <td>0</td>\n      <td>1</td>\n      <td>0</td>\n      <td>...</td>\n      <td>1</td>\n      <td>0</td>\n      <td>0</td>\n      <td>1</td>\n      <td>0</td>\n      <td>1</td>\n      <td>0</td>\n      <td>1</td>\n      <td>1</td>\n      <td>0</td>\n    </tr>\n    <tr>\n      <th>3</th>\n      <td>0</td>\n      <td>0</td>\n      <td>1</td>\n      <td>0</td>\n      <td>1</td>\n      <td>0</td>\n      <td>1</td>\n      <td>0</td>\n      <td>1</td>\n      <td>0</td>\n      <td>...</td>\n      <td>1</td>\n      <td>0</td>\n      <td>0</td>\n      <td>1</td>\n      <td>0</td>\n      <td>1</td>\n      <td>0</td>\n      <td>1</td>\n      <td>1</td>\n      <td>0</td>\n    </tr>\n    <tr>\n      <th>4</th>\n      <td>0</td>\n      <td>0</td>\n      <td>1</td>\n      <td>0</td>\n      <td>1</td>\n      <td>0</td>\n      <td>1</td>\n      <td>0</td>\n      <td>1</td>\n      <td>0</td>\n      <td>...</td>\n      <td>1</td>\n      <td>0</td>\n      <td>0</td>\n      <td>1</td>\n      <td>0</td>\n      <td>1</td>\n      <td>0</td>\n      <td>1</td>\n      <td>1</td>\n      <td>0</td>\n    </tr>\n    <tr>\n      <th>...</th>\n      <td>...</td>\n      <td>...</td>\n      <td>...</td>\n      <td>...</td>\n      <td>...</td>\n      <td>...</td>\n      <td>...</td>\n      <td>...</td>\n      <td>...</td>\n      <td>...</td>\n      <td>...</td>\n      <td>...</td>\n      <td>...</td>\n      <td>...</td>\n      <td>...</td>\n      <td>...</td>\n      <td>...</td>\n      <td>...</td>\n      <td>...</td>\n      <td>...</td>\n      <td>...</td>\n    </tr>\n    <tr>\n      <th>218605</th>\n      <td>1</td>\n      <td>1</td>\n      <td>1</td>\n      <td>0</td>\n      <td>1</td>\n      <td>0</td>\n      <td>1</td>\n      <td>0</td>\n      <td>0</td>\n      <td>1</td>\n      <td>...</td>\n      <td>1</td>\n      <td>0</td>\n      <td>0</td>\n      <td>1</td>\n      <td>1</td>\n      <td>0</td>\n      <td>0</td>\n      <td>1</td>\n      <td>1</td>\n      <td>0</td>\n    </tr>\n    <tr>\n      <th>218606</th>\n      <td>1</td>\n      <td>1</td>\n      <td>1</td>\n      <td>0</td>\n      <td>1</td>\n      <td>0</td>\n      <td>1</td>\n      <td>0</td>\n      <td>0</td>\n      <td>1</td>\n      <td>...</td>\n      <td>1</td>\n      <td>0</td>\n      <td>0</td>\n      <td>1</td>\n      <td>1</td>\n      <td>0</td>\n      <td>0</td>\n      <td>1</td>\n      <td>1</td>\n      <td>0</td>\n    </tr>\n    <tr>\n      <th>218607</th>\n      <td>1</td>\n      <td>1</td>\n      <td>1</td>\n      <td>0</td>\n      <td>1</td>\n      <td>0</td>\n      <td>1</td>\n      <td>0</td>\n      <td>0</td>\n      <td>1</td>\n      <td>...</td>\n      <td>1</td>\n      <td>0</td>\n      <td>0</td>\n      <td>1</td>\n      <td>1</td>\n      <td>0</td>\n      <td>0</td>\n      <td>1</td>\n      <td>1</td>\n      <td>0</td>\n    </tr>\n    <tr>\n      <th>218608</th>\n      <td>1</td>\n      <td>1</td>\n      <td>1</td>\n      <td>0</td>\n      <td>1</td>\n      <td>0</td>\n      <td>1</td>\n      <td>0</td>\n      <td>0</td>\n      <td>1</td>\n      <td>...</td>\n      <td>1</td>\n      <td>0</td>\n      <td>0</td>\n      <td>1</td>\n      <td>1</td>\n      <td>0</td>\n      <td>0</td>\n      <td>1</td>\n      <td>1</td>\n      <td>0</td>\n    </tr>\n    <tr>\n      <th>218609</th>\n      <td>1</td>\n      <td>1</td>\n      <td>1</td>\n      <td>0</td>\n      <td>1</td>\n      <td>0</td>\n      <td>1</td>\n      <td>0</td>\n      <td>0</td>\n      <td>1</td>\n      <td>...</td>\n      <td>1</td>\n      <td>0</td>\n      <td>0</td>\n      <td>1</td>\n      <td>1</td>\n      <td>0</td>\n      <td>0</td>\n      <td>1</td>\n      <td>1</td>\n      <td>0</td>\n    </tr>\n  </tbody>\n</table>\n<p>218610 rows × 126 columns</p>\n</div>"
     },
     "execution_count": 27,
     "metadata": {},
     "output_type": "execute_result"
    }
   ],
   "source": [
    "transformed_data_encoded"
   ],
   "metadata": {
    "collapsed": false,
    "pycharm": {
     "name": "#%%\n"
    }
   }
  },
  {
   "cell_type": "code",
   "execution_count": null,
   "outputs": [],
   "source": [
    "sub_transformed_data_encoded = transformed_data_encoded.sample(frac=0.1)"
   ],
   "metadata": {
    "collapsed": false,
    "pycharm": {
     "name": "#%%\n",
     "is_executing": true
    }
   }
  },
  {
   "cell_type": "code",
   "execution_count": null,
   "outputs": [],
   "source": [
    "sub_transformed_data_encoded.reset_index()"
   ],
   "metadata": {
    "collapsed": false,
    "pycharm": {
     "name": "#%%\n",
     "is_executing": true
    }
   }
  },
  {
   "cell_type": "code",
   "execution_count": 31,
   "outputs": [],
   "source": [
    "y = sub_transformed_data_encoded['flag']"
   ],
   "metadata": {
    "collapsed": false,
    "pycharm": {
     "name": "#%%\n"
    }
   }
  },
  {
   "cell_type": "code",
   "execution_count": 32,
   "outputs": [],
   "source": [
    "sub_transformed_data_encoded.drop('flag', axis=1, inplace=True)"
   ],
   "metadata": {
    "collapsed": false,
    "pycharm": {
     "name": "#%%\n"
    }
   }
  },
  {
   "cell_type": "code",
   "execution_count": 33,
   "outputs": [],
   "source": [
    "features = sub_transformed_data_encoded.columns"
   ],
   "metadata": {
    "collapsed": false,
    "pycharm": {
     "name": "#%%\n"
    }
   }
  },
  {
   "cell_type": "code",
   "execution_count": 34,
   "outputs": [],
   "source": [
    "X = sub_transformed_data_encoded[features]"
   ],
   "metadata": {
    "collapsed": false,
    "pycharm": {
     "name": "#%%\n"
    }
   }
  },
  {
   "cell_type": "code",
   "execution_count": 35,
   "outputs": [],
   "source": [
    "X_train, X_test, y_train, y_test = train_test_split(X, y, test_size=0.2, random_state=42)"
   ],
   "metadata": {
    "collapsed": false,
    "pycharm": {
     "name": "#%%\n"
    }
   }
  },
  {
   "cell_type": "markdown",
   "source": [
    "# 支持向量机(SVM)"
   ],
   "metadata": {
    "collapsed": false,
    "pycharm": {
     "name": "#%% md\n"
    }
   }
  },
  {
   "cell_type": "code",
   "execution_count": 47,
   "outputs": [],
   "source": [
    "from sklearn.metrics import f1_score\n",
    "from sklearn.metrics import precision_score, recall_score, f1_score\n",
    "from sklearn.model_selection import cross_val_predict"
   ],
   "metadata": {
    "collapsed": false,
    "pycharm": {
     "name": "#%%\n"
    }
   }
  },
  {
   "cell_type": "code",
   "execution_count": 37,
   "outputs": [],
   "source": [
    "scaler = StandardScaler()\n",
    "X_train_scaled = scaler.fit_transform(X_train)\n",
    "X_test_scaled = scaler.transform(X_test)"
   ],
   "metadata": {
    "collapsed": false,
    "pycharm": {
     "name": "#%%\n"
    }
   }
  },
  {
   "cell_type": "code",
   "execution_count": 38,
   "outputs": [
    {
     "data": {
      "text/plain": "SVC(gamma='auto')"
     },
     "execution_count": 38,
     "metadata": {},
     "output_type": "execute_result"
    }
   ],
   "source": [
    "svm_model = SVC(kernel='rbf', C=1.0, gamma='auto')\n",
    "svm_model.fit(X_train_scaled, y_train)"
   ],
   "metadata": {
    "collapsed": false,
    "pycharm": {
     "name": "#%%\n"
    }
   }
  },
  {
   "cell_type": "code",
   "execution_count": 39,
   "outputs": [],
   "source": [
    "y_pred = cross_val_predict(svm_model, X_test_scaled, y_test, cv=5)\n",
    "precision = precision_score(y_test, y_pred, average='binary')\n",
    "recall = recall_score(y_test, y_pred, average='binary')\n",
    "f1 = f1_score(y_test, y_pred, average='binary')"
   ],
   "metadata": {
    "collapsed": false,
    "pycharm": {
     "name": "#%%\n"
    }
   }
  },
  {
   "cell_type": "code",
   "execution_count": 40,
   "outputs": [
    {
     "name": "stdout",
     "output_type": "stream",
     "text": [
      "0.9710685954269715\n",
      "0.970615671641791\n",
      "0.9701631701631701\n",
      "0.9711868282643494\n"
     ]
    }
   ],
   "source": [
    "print(precision)\n",
    "print(f1)\n",
    "print(recall)\n",
    "print(accuracy_score(y_test, y_pred))"
   ],
   "metadata": {
    "collapsed": false,
    "pycharm": {
     "name": "#%%\n"
    }
   }
  },
  {
   "cell_type": "markdown",
   "source": [
    "# 支持向量机-Nu"
   ],
   "metadata": {
    "collapsed": false,
    "pycharm": {
     "name": "#%% md\n"
    }
   }
  },
  {
   "cell_type": "code",
   "execution_count": 41,
   "outputs": [
    {
     "data": {
      "text/plain": "NuSVC(nu=0.4)"
     },
     "execution_count": 41,
     "metadata": {},
     "output_type": "execute_result"
    }
   ],
   "source": [
    "nu_svc = NuSVC(nu=0.4)\n",
    "nu_svc.fit(X_train, y_train)"
   ],
   "metadata": {
    "collapsed": false,
    "pycharm": {
     "name": "#%%\n"
    }
   }
  },
  {
   "cell_type": "code",
   "execution_count": 71,
   "outputs": [],
   "source": [
    "y_pred = cross_val_predict(nu_svc, X_test, y_test, cv=5)\n",
    "precision = precision_score(y_test, y_pred, average='binary')\n",
    "recall = recall_score(y_test, y_pred, average='binary')\n",
    "f1 = f1_score(y_test, y_pred, average='binary')"
   ],
   "metadata": {
    "collapsed": false,
    "pycharm": {
     "name": "#%%\n"
    }
   }
  },
  {
   "cell_type": "code",
   "execution_count": 72,
   "outputs": [
    {
     "name": "stdout",
     "output_type": "stream",
     "text": [
      "0.9664335664335665\n",
      "0.9664335664335665\n",
      "0.9664335664335665\n",
      "0.9670706608735422\n"
     ]
    }
   ],
   "source": [
    "print(precision)\n",
    "print(f1)\n",
    "print(recall)\n",
    "print(accuracy_score(y_test, y_pred))"
   ],
   "metadata": {
    "collapsed": false,
    "pycharm": {
     "name": "#%%\n"
    }
   }
  },
  {
   "cell_type": "markdown",
   "source": [
    "# 支持向量机-Linear"
   ],
   "metadata": {
    "collapsed": false,
    "pycharm": {
     "name": "#%% md\n"
    }
   }
  },
  {
   "cell_type": "code",
   "execution_count": 44,
   "outputs": [
    {
     "name": "stderr",
     "output_type": "stream",
     "text": [
      "D:\\anaconda\\lib\\site-packages\\sklearn\\svm\\_base.py:1206: ConvergenceWarning: Liblinear failed to converge, increase the number of iterations.\n",
      "  warnings.warn(\n",
      "D:\\anaconda\\lib\\site-packages\\sklearn\\svm\\_base.py:1206: ConvergenceWarning: Liblinear failed to converge, increase the number of iterations.\n",
      "  warnings.warn(\n",
      "D:\\anaconda\\lib\\site-packages\\sklearn\\svm\\_base.py:1206: ConvergenceWarning: Liblinear failed to converge, increase the number of iterations.\n",
      "  warnings.warn(\n",
      "D:\\anaconda\\lib\\site-packages\\sklearn\\svm\\_base.py:1206: ConvergenceWarning: Liblinear failed to converge, increase the number of iterations.\n",
      "  warnings.warn(\n",
      "D:\\anaconda\\lib\\site-packages\\sklearn\\svm\\_base.py:1206: ConvergenceWarning: Liblinear failed to converge, increase the number of iterations.\n",
      "  warnings.warn(\n"
     ]
    },
    {
     "name": "stdout",
     "output_type": "stream",
     "text": [
      "0.9737458977965308\n",
      "0.9710144927536233\n",
      "0.9682983682983684\n",
      "0.9716441801966613\n"
     ]
    },
    {
     "name": "stderr",
     "output_type": "stream",
     "text": [
      "D:\\anaconda\\lib\\site-packages\\sklearn\\svm\\_base.py:1206: ConvergenceWarning: Liblinear failed to converge, increase the number of iterations.\n",
      "  warnings.warn(\n"
     ]
    }
   ],
   "source": [
    "linear_svc = LinearSVC(random_state=42)\n",
    "linear_svc.fit(X_train, y_train)\n",
    "\n",
    "y_pred = cross_val_predict(linear_svc, X_test, y_test, cv=5)\n",
    "precision = precision_score(y_test, y_pred, average='binary')\n",
    "recall = recall_score(y_test, y_pred, average='binary')\n",
    "f1 = f1_score(y_test, y_pred, average='binary')\n",
    "\n",
    "print(precision)\n",
    "print(f1)\n",
    "print(recall)\n",
    "print(accuracy_score(y_test, y_pred))"
   ],
   "metadata": {
    "collapsed": false,
    "pycharm": {
     "name": "#%%\n"
    }
   }
  },
  {
   "cell_type": "markdown",
   "source": [
    "# 人工神经网络"
   ],
   "metadata": {
    "collapsed": false,
    "pycharm": {
     "name": "#%% md\n"
    }
   }
  },
  {
   "cell_type": "code",
   "execution_count": 45,
   "outputs": [
    {
     "name": "stdout",
     "output_type": "stream",
     "text": [
      "0.9693308550185874\n",
      "0.9709099371654643\n",
      "0.9724941724941725\n",
      "0.9714155042305054\n"
     ]
    }
   ],
   "source": [
    "mlp = MLPClassifier(hidden_layer_sizes=(100,), max_iter=300, activation='relu', solver='adam', random_state=42)\n",
    "mlp.fit(X_train, y_train)\n",
    "\n",
    "y_pred = cross_val_predict(mlp, X_test, y_test, cv=5)\n",
    "precision = precision_score(y_test, y_pred, average='binary')\n",
    "recall = recall_score(y_test, y_pred, average='binary')\n",
    "f1 = f1_score(y_test, y_pred, average='binary')\n",
    "\n",
    "print(precision)\n",
    "print(f1)\n",
    "print(recall)\n",
    "print(accuracy_score(y_test, y_pred))"
   ],
   "metadata": {
    "collapsed": false,
    "pycharm": {
     "name": "#%%\n"
    }
   }
  },
  {
   "cell_type": "markdown",
   "source": [
    "# 随机森林"
   ],
   "metadata": {
    "collapsed": false,
    "pycharm": {
     "name": "#%% md\n"
    }
   }
  },
  {
   "cell_type": "code",
   "execution_count": 46,
   "outputs": [
    {
     "name": "stdout",
     "output_type": "stream",
     "text": [
      "0.9715485074626866\n",
      "0.9713219864770343\n",
      "0.9710955710955711\n",
      "0.9718728561628173\n"
     ]
    }
   ],
   "source": [
    "rf = RandomForestClassifier()\n",
    "rf.fit(X_train, y_train)\n",
    "\n",
    "y_pred = cross_val_predict(rf, X_test, y_test, cv=5)\n",
    "precision = precision_score(y_test, y_pred, average='binary')\n",
    "recall = recall_score(y_test, y_pred, average='binary')\n",
    "f1 = f1_score(y_test, y_pred, average='binary')\n",
    "\n",
    "print(precision)\n",
    "print(f1)\n",
    "print(recall)\n",
    "print(accuracy_score(y_test, y_pred))"
   ],
   "metadata": {
    "collapsed": false,
    "pycharm": {
     "name": "#%%\n"
    }
   }
  },
  {
   "cell_type": "markdown",
   "source": [],
   "metadata": {
    "collapsed": false,
    "pycharm": {
     "name": "#%% md\n"
    }
   }
  },
  {
   "cell_type": "code",
   "execution_count": 47,
   "outputs": [],
   "source": [
    "from sklearn.naive_bayes import MultinomialNB"
   ],
   "metadata": {
    "collapsed": false,
    "pycharm": {
     "name": "#%%\n"
    }
   }
  },
  {
   "cell_type": "code",
   "execution_count": 48,
   "outputs": [
    {
     "data": {
      "text/plain": "MultinomialNB()"
     },
     "execution_count": 48,
     "metadata": {},
     "output_type": "execute_result"
    }
   ],
   "source": [
    "Multinomial = MultinomialNB()\n",
    "Multinomial.fit(X_train, y_train)"
   ],
   "metadata": {
    "collapsed": false,
    "pycharm": {
     "name": "#%%\n"
    }
   }
  },
  {
   "cell_type": "code",
   "execution_count": 49,
   "outputs": [],
   "source": [
    "y_pred = cross_val_predict(Multinomial, X_test, y_test, cv=5)\n",
    "precision = precision_score(y_test, y_pred, average='binary')\n",
    "recall = recall_score(y_test, y_pred, average='binary')\n",
    "f1 = f1_score(y_test, y_pred, average='binary')"
   ],
   "metadata": {
    "collapsed": false,
    "pycharm": {
     "name": "#%%\n"
    }
   }
  },
  {
   "cell_type": "code",
   "execution_count": 50,
   "outputs": [
    {
     "name": "stdout",
     "output_type": "stream",
     "text": [
      "0.8970129291127954\n",
      "0.9170464904284412\n",
      "0.937995337995338\n",
      "0.9167619483192316\n"
     ]
    }
   ],
   "source": [
    "print(precision)\n",
    "print(f1)\n",
    "print(recall)\n",
    "print(accuracy_score(y_test, y_pred))"
   ],
   "metadata": {
    "collapsed": false,
    "pycharm": {
     "name": "#%%\n"
    }
   }
  },
  {
   "cell_type": "markdown",
   "source": [
    "# KNN"
   ],
   "metadata": {
    "collapsed": false,
    "pycharm": {
     "name": "#%% md\n"
    }
   }
  },
  {
   "cell_type": "code",
   "execution_count": 51,
   "outputs": [],
   "source": [
    "from sklearn.neighbors import KNeighborsClassifier"
   ],
   "metadata": {
    "collapsed": false,
    "pycharm": {
     "name": "#%%\n"
    }
   }
  },
  {
   "cell_type": "code",
   "execution_count": 52,
   "outputs": [
    {
     "data": {
      "text/plain": "KNeighborsClassifier()"
     },
     "execution_count": 52,
     "metadata": {},
     "output_type": "execute_result"
    }
   ],
   "source": [
    "knn_model = KNeighborsClassifier(n_neighbors=5)  # 使用5个邻居\n",
    "knn_model.fit(X_train, y_train)"
   ],
   "metadata": {
    "collapsed": false,
    "pycharm": {
     "name": "#%%\n"
    }
   }
  },
  {
   "cell_type": "code",
   "execution_count": 53,
   "outputs": [
    {
     "name": "stderr",
     "output_type": "stream",
     "text": [
      "D:\\anaconda\\lib\\site-packages\\sklearn\\neighbors\\_classification.py:228: FutureWarning: Unlike other reduction functions (e.g. `skew`, `kurtosis`), the default behavior of `mode` typically preserves the axis it acts along. In SciPy 1.11.0, this behavior will change: the default value of `keepdims` will become False, the `axis` over which the statistic is taken will be eliminated, and the value None will no longer be accepted. Set `keepdims` to True or False to avoid this warning.\n",
      "  mode, _ = stats.mode(_y[neigh_ind, k], axis=1)\n",
      "D:\\anaconda\\lib\\site-packages\\sklearn\\neighbors\\_classification.py:228: FutureWarning: Unlike other reduction functions (e.g. `skew`, `kurtosis`), the default behavior of `mode` typically preserves the axis it acts along. In SciPy 1.11.0, this behavior will change: the default value of `keepdims` will become False, the `axis` over which the statistic is taken will be eliminated, and the value None will no longer be accepted. Set `keepdims` to True or False to avoid this warning.\n",
      "  mode, _ = stats.mode(_y[neigh_ind, k], axis=1)\n",
      "D:\\anaconda\\lib\\site-packages\\sklearn\\neighbors\\_classification.py:228: FutureWarning: Unlike other reduction functions (e.g. `skew`, `kurtosis`), the default behavior of `mode` typically preserves the axis it acts along. In SciPy 1.11.0, this behavior will change: the default value of `keepdims` will become False, the `axis` over which the statistic is taken will be eliminated, and the value None will no longer be accepted. Set `keepdims` to True or False to avoid this warning.\n",
      "  mode, _ = stats.mode(_y[neigh_ind, k], axis=1)\n",
      "D:\\anaconda\\lib\\site-packages\\sklearn\\neighbors\\_classification.py:228: FutureWarning: Unlike other reduction functions (e.g. `skew`, `kurtosis`), the default behavior of `mode` typically preserves the axis it acts along. In SciPy 1.11.0, this behavior will change: the default value of `keepdims` will become False, the `axis` over which the statistic is taken will be eliminated, and the value None will no longer be accepted. Set `keepdims` to True or False to avoid this warning.\n",
      "  mode, _ = stats.mode(_y[neigh_ind, k], axis=1)\n",
      "D:\\anaconda\\lib\\site-packages\\sklearn\\neighbors\\_classification.py:228: FutureWarning: Unlike other reduction functions (e.g. `skew`, `kurtosis`), the default behavior of `mode` typically preserves the axis it acts along. In SciPy 1.11.0, this behavior will change: the default value of `keepdims` will become False, the `axis` over which the statistic is taken will be eliminated, and the value None will no longer be accepted. Set `keepdims` to True or False to avoid this warning.\n",
      "  mode, _ = stats.mode(_y[neigh_ind, k], axis=1)\n"
     ]
    }
   ],
   "source": [
    "y_pred = cross_val_predict(knn_model, X_test, y_test, cv=5)\n",
    "precision = precision_score(y_test, y_pred, average='binary')\n",
    "recall = recall_score(y_test, y_pred, average='binary')\n",
    "f1 = f1_score(y_test, y_pred, average='binary')"
   ],
   "metadata": {
    "collapsed": false,
    "pycharm": {
     "name": "#%%\n"
    }
   }
  },
  {
   "cell_type": "code",
   "execution_count": 54,
   "outputs": [
    {
     "name": "stdout",
     "output_type": "stream",
     "text": [
      "0.9700374531835206\n",
      "0.9679981312777388\n",
      "0.965967365967366\n",
      "0.9686713926366339\n"
     ]
    }
   ],
   "source": [
    "print(precision)\n",
    "print(f1)\n",
    "print(recall)\n",
    "print(accuracy_score(y_test, y_pred))"
   ],
   "metadata": {
    "collapsed": false,
    "pycharm": {
     "name": "#%%\n"
    }
   }
  },
  {
   "cell_type": "markdown",
   "source": [
    "# 朴素贝叶斯-Gaussian"
   ],
   "metadata": {
    "collapsed": false,
    "pycharm": {
     "name": "#%% md\n"
    }
   }
  },
  {
   "cell_type": "code",
   "execution_count": 55,
   "outputs": [],
   "source": [
    "from sklearn.naive_bayes import GaussianNB"
   ],
   "metadata": {
    "collapsed": false,
    "pycharm": {
     "name": "#%%\n"
    }
   }
  },
  {
   "cell_type": "code",
   "execution_count": 56,
   "outputs": [
    {
     "data": {
      "text/plain": "GaussianNB()"
     },
     "execution_count": 56,
     "metadata": {},
     "output_type": "execute_result"
    }
   ],
   "source": [
    "gnb_model = GaussianNB()\n",
    "gnb_model.fit(X_train, y_train)"
   ],
   "metadata": {
    "collapsed": false,
    "pycharm": {
     "name": "#%%\n"
    }
   }
  },
  {
   "cell_type": "code",
   "execution_count": 57,
   "outputs": [],
   "source": [
    "y_pred = cross_val_predict(gnb_model, X_test, y_test, cv=5)\n",
    "precision = precision_score(y_test, y_pred, average='binary')\n",
    "recall = recall_score(y_test, y_pred, average='binary')\n",
    "f1 = f1_score(y_test, y_pred, average='binary')"
   ],
   "metadata": {
    "collapsed": false,
    "pycharm": {
     "name": "#%%\n"
    }
   }
  },
  {
   "cell_type": "code",
   "execution_count": 58,
   "outputs": [
    {
     "name": "stdout",
     "output_type": "stream",
     "text": [
      "0.8931914893617021\n",
      "0.9339265850945495\n",
      "0.9785547785547786\n",
      "0.9320832380516808\n"
     ]
    }
   ],
   "source": [
    "print(precision)\n",
    "print(f1)\n",
    "print(recall)\n",
    "print(accuracy_score(y_test, y_pred))"
   ],
   "metadata": {
    "collapsed": false,
    "pycharm": {
     "name": "#%%\n"
    }
   }
  },
  {
   "cell_type": "markdown",
   "source": [
    "# 决策树"
   ],
   "metadata": {
    "collapsed": false,
    "pycharm": {
     "name": "#%% md\n"
    }
   }
  },
  {
   "cell_type": "code",
   "execution_count": 59,
   "outputs": [],
   "source": [
    "from sklearn.tree import DecisionTreeClassifier"
   ],
   "metadata": {
    "collapsed": false,
    "pycharm": {
     "name": "#%%\n"
    }
   }
  },
  {
   "cell_type": "code",
   "execution_count": 60,
   "outputs": [
    {
     "data": {
      "text/plain": "DecisionTreeClassifier(random_state=42)"
     },
     "execution_count": 60,
     "metadata": {},
     "output_type": "execute_result"
    }
   ],
   "source": [
    "dt_model = DecisionTreeClassifier(max_depth=None, random_state=42)\n",
    "dt_model.fit(X_train, y_train)"
   ],
   "metadata": {
    "collapsed": false,
    "pycharm": {
     "name": "#%%\n"
    }
   }
  },
  {
   "cell_type": "code",
   "execution_count": 61,
   "outputs": [],
   "source": [
    "y_pred = cross_val_predict(dt_model, X_test, y_test, cv=5)\n",
    "precision = precision_score(y_test, y_pred, average='binary')\n",
    "recall = recall_score(y_test, y_pred, average='binary')\n",
    "f1 = f1_score(y_test, y_pred, average='binary')"
   ],
   "metadata": {
    "collapsed": false,
    "pycharm": {
     "name": "#%%\n"
    }
   }
  },
  {
   "cell_type": "code",
   "execution_count": 62,
   "outputs": [
    {
     "name": "stdout",
     "output_type": "stream",
     "text": [
      "0.9720018665422305\n",
      "0.9715485074626866\n",
      "0.9710955710955711\n",
      "0.9721015321289732\n"
     ]
    }
   ],
   "source": [
    "print(precision)\n",
    "print(f1)\n",
    "print(recall)\n",
    "print(accuracy_score(y_test, y_pred))"
   ],
   "metadata": {
    "collapsed": false,
    "pycharm": {
     "name": "#%%\n"
    }
   }
  },
  {
   "cell_type": "markdown",
   "source": [
    "# 朴素贝叶斯-Bernoulli"
   ],
   "metadata": {
    "collapsed": false,
    "pycharm": {
     "name": "#%% md\n"
    }
   }
  },
  {
   "cell_type": "code",
   "execution_count": 63,
   "outputs": [],
   "source": [
    "from sklearn.naive_bayes import BernoulliNB"
   ],
   "metadata": {
    "collapsed": false,
    "pycharm": {
     "name": "#%%\n"
    }
   }
  },
  {
   "cell_type": "code",
   "execution_count": 64,
   "outputs": [
    {
     "data": {
      "text/plain": "BernoulliNB()"
     },
     "execution_count": 64,
     "metadata": {},
     "output_type": "execute_result"
    }
   ],
   "source": [
    "bnb_model = BernoulliNB()\n",
    "bnb_model.fit(X_train, y_train)"
   ],
   "metadata": {
    "collapsed": false,
    "pycharm": {
     "name": "#%%\n"
    }
   }
  },
  {
   "cell_type": "code",
   "execution_count": 65,
   "outputs": [],
   "source": [
    "y_pred = cross_val_predict(bnb_model, X_test, y_test, cv=5)\n",
    "precision = precision_score(y_test, y_pred, average='binary')\n",
    "recall = recall_score(y_test, y_pred, average='binary')\n",
    "f1 = f1_score(y_test, y_pred, average='binary')"
   ],
   "metadata": {
    "collapsed": false,
    "pycharm": {
     "name": "#%%\n"
    }
   }
  },
  {
   "cell_type": "code",
   "execution_count": 66,
   "outputs": [
    {
     "name": "stdout",
     "output_type": "stream",
     "text": [
      "0.8967052537845058\n",
      "0.9173309041220679\n",
      "0.938927738927739\n",
      "0.9169906242853876\n"
     ]
    }
   ],
   "source": [
    "print(precision)\n",
    "print(f1)\n",
    "print(recall)\n",
    "print(accuracy_score(y_test, y_pred))"
   ],
   "metadata": {
    "collapsed": false,
    "pycharm": {
     "name": "#%%\n"
    }
   }
  },
  {
   "cell_type": "markdown",
   "source": [
    "# 提取特征值决策树"
   ],
   "metadata": {
    "collapsed": false,
    "pycharm": {
     "name": "#%% md\n"
    }
   }
  },
  {
   "cell_type": "code",
   "execution_count": 110,
   "outputs": [],
   "source": [
    "from sklearn.tree import DecisionTreeClassifier\n",
    "\n",
    "dt_classifier = DecisionTreeClassifier(random_state=42)\n",
    "dt_classifier.fit(X_train, y_train)\n",
    "\n",
    "feature_importances = dt_classifier.feature_importances_\n",
    "\n",
    "features = list(X_train.columns)\n",
    "feature_importance_dict = dict(zip(features, feature_importances))\n",
    "\n",
    "sorted_feature_importance = sorted(feature_importance_dict.items(), key=lambda x: x[1], reverse=True)\n",
    "\n",
    "sorted_feature_importance = pd.DataFrame(sorted_feature_importance)\n",
    "sorted_feature_importance\n",
    "\n",
    "sorted_feature_importance.to_excel(\"data/washed_data/feature_tree.xlsx\")"
   ],
   "metadata": {
    "collapsed": false,
    "pycharm": {
     "name": "#%%\n"
    }
   }
  },
  {
   "cell_type": "markdown",
   "source": [
    "# 提取特征值随机森林"
   ],
   "metadata": {
    "collapsed": false,
    "pycharm": {
     "name": "#%% md\n"
    }
   }
  },
  {
   "cell_type": "code",
   "execution_count": 114,
   "outputs": [],
   "source": [
    "rf_classifier = RandomForestClassifier(random_state=42)\n",
    "rf_classifier.fit(X_train, y_train)\n",
    "\n",
    "feature_importances = rf_classifier.feature_importances_\n",
    "\n",
    "features = list(X_train.columns)\n",
    "feature_importance_dict = dict(zip(features, feature_importances))\n",
    "\n",
    "sorted_feature_importance = sorted(feature_importance_dict.items(), key=lambda x: x[1], reverse=True)\n",
    "\n",
    "sorted_feature_importance = pd.DataFrame(sorted_feature_importance)\n",
    "sorted_feature_importance\n",
    "\n",
    "sorted_feature_importance.to_excel(\"data/washed_data/feature_forest.xlsx\")"
   ],
   "metadata": {
    "collapsed": false,
    "pycharm": {
     "name": "#%%\n"
    }
   }
  },
  {
   "cell_type": "markdown",
   "source": [
    "# 提取特征值人工神经网络"
   ],
   "metadata": {
    "collapsed": false,
    "pycharm": {
     "name": "#%% md\n"
    }
   }
  },
  {
   "cell_type": "code",
   "execution_count": 113,
   "outputs": [],
   "source": [
    "mlp_classifier = MLPClassifier(random_state=42)\n",
    "mlp_classifier.fit(X_train, y_train)\n",
    "first_layer_weights = mlp_classifier.coefs_[0]\n",
    "feature_weights = np.mean(np.abs(first_layer_weights), axis=1)\n",
    "feature_weight_dict = dict(zip(features, feature_weights))\n",
    "sorted_feature_weights = sorted(feature_weight_dict.items(), key=lambda x: x[1], reverse=True)\n",
    "\n",
    "sorted_feature_importance = pd.DataFrame(sorted_feature_importance)\n",
    "sorted_feature_importance\n",
    "\n",
    "sorted_feature_importance.to_excel(\"data/washed_data/feature_ANN.xlsx\")"
   ],
   "metadata": {
    "collapsed": false,
    "pycharm": {
     "name": "#%%\n"
    }
   }
  },
  {
   "cell_type": "markdown",
   "source": [
    "# 五折交叉验证"
   ],
   "metadata": {
    "collapsed": false,
    "pycharm": {
     "name": "#%% md\n"
    }
   }
  },
  {
   "cell_type": "code",
   "execution_count": 7,
   "outputs": [],
   "source": [
    "from sklearn.model_selection import cross_val_score, KFold\n",
    "from sklearn.ensemble import RandomForestClassifier\n",
    "from sklearn.metrics import make_scorer, f1_score"
   ],
   "metadata": {
    "collapsed": false,
    "pycharm": {
     "name": "#%%\n"
    }
   }
  },
  {
   "cell_type": "code",
   "execution_count": 6,
   "outputs": [],
   "source": [
    "features = ['四之气', '二之气', '初之运', '终之气', '逆', '木运太过', '少羽', '弱土湿寒', '太阴湿土', '弱水燥火',\n",
    "       '厥阴风木', '天刑', '初之气', '太商', '火运太过', '少阳相火', '水运不及', '三之运', '太宫', '强土火燥',\n",
    "       '二之运', '火运不及', '太徵', '无', '无运气异化', '强火寒湿', '强水寒湿', '阳明燥金', '天符', '相得',\n",
    "       '水运太过', '无运气同化', '顺化', '太一天符', '四之运', '强金火风', '弱火风火', '少徵', '少宫', '少角',\n",
    "       '弱金湿寒', '不和', '太角', '强火火燥', '金运太过', '少商', '强水火风', '强木寒湿', '弱木风火',\n",
    "       '土运太过', '土运不及', '太羽', '弱木燥火', '三之气', '不相得', '少阴君火', '顺', '金运不及', '太阳寒水',\n",
    "       '五之气', '终之运', '木运不及']"
   ],
   "metadata": {
    "collapsed": false,
    "pycharm": {
     "name": "#%%\n"
    }
   }
  },
  {
   "cell_type": "markdown",
   "source": [
    "# 随机森林"
   ],
   "metadata": {
    "collapsed": false,
    "pycharm": {
     "name": "#%% md\n"
    }
   }
  },
  {
   "cell_type": "code",
   "execution_count": 11,
   "outputs": [
    {
     "name": "stdout",
     "output_type": "stream",
     "text": [
      "F1 Scores for each fold:  [0.97205068 0.97200236 0.97282817 0.97239334 0.97285115]\n",
      "Average F1 Score:  0.9724251389766586\n"
     ]
    }
   ],
   "source": [
    "classifier = RandomForestClassifier(random_state=42)\n",
    "kf = KFold(n_splits=5, shuffle=True, random_state=42)\n",
    "f1_scorer = make_scorer(f1_score, average='macro')\n",
    "cross_val_scores = cross_val_score(classifier, X, y, scoring=f1_scorer, cv=kf)\n",
    "print(\"F1 Scores for each fold: \", cross_val_scores)\n",
    "print(\"Average F1 Score: \", np.mean(cross_val_scores))"
   ],
   "metadata": {
    "collapsed": false,
    "pycharm": {
     "name": "#%%\n"
    }
   }
  },
  {
   "cell_type": "markdown",
   "source": [
    "# ANN"
   ],
   "metadata": {
    "collapsed": false,
    "pycharm": {
     "name": "#%% md\n"
    }
   }
  },
  {
   "cell_type": "code",
   "execution_count": 16,
   "outputs": [],
   "source": [
    "from sklearn.neural_network import MLPClassifier\n",
    "from sklearn.model_selection import cross_val_score, KFold\n",
    "from sklearn.metrics import make_scorer, f1_score\n",
    "from sklearn.preprocessing import StandardScaler\n",
    "from sklearn.pipeline import make_pipeline"
   ],
   "metadata": {
    "collapsed": false,
    "pycharm": {
     "name": "#%%\n"
    }
   }
  },
  {
   "cell_type": "code",
   "execution_count": 17,
   "outputs": [
    {
     "name": "stdout",
     "output_type": "stream",
     "text": [
      "F1 Scores for each fold:  [0.9716157  0.97177132 0.97289653 0.97173044 0.97250785]\n",
      "Average F1 Score:  0.972104367947787\n"
     ]
    }
   ],
   "source": [
    "mlp_classifier = MLPClassifier(random_state=42)\n",
    "pipeline = make_pipeline(StandardScaler(), mlp_classifier)\n",
    "kf = KFold(n_splits=5, shuffle=True, random_state=42)\n",
    "f1_scorer = make_scorer(f1_score, average='macro')\n",
    "\n",
    "cross_val_scores = cross_val_score(pipeline, X, y, scoring=f1_scorer, cv=kf)\n",
    "\n",
    "print(\"F1 Scores for each fold: \", cross_val_scores)\n",
    "print(\"Average F1 Score: \", np.mean(cross_val_scores))"
   ],
   "metadata": {
    "collapsed": false,
    "pycharm": {
     "name": "#%%\n"
    }
   }
  },
  {
   "cell_type": "markdown",
   "source": [
    "# 决策树"
   ],
   "metadata": {
    "collapsed": false,
    "pycharm": {
     "name": "#%% md\n"
    }
   }
  },
  {
   "cell_type": "code",
   "execution_count": 18,
   "outputs": [],
   "source": [
    "from sklearn.tree import DecisionTreeClassifier\n",
    "from sklearn.model_selection import cross_val_score, KFold\n",
    "from sklearn.metrics import make_scorer, f1_score"
   ],
   "metadata": {
    "collapsed": false,
    "pycharm": {
     "name": "#%%\n"
    }
   }
  },
  {
   "cell_type": "code",
   "execution_count": 19,
   "outputs": [
    {
     "name": "stdout",
     "output_type": "stream",
     "text": [
      "F1 Scores for each fold:  [0.97209642 0.97200236 0.97285105 0.97239334 0.97285115]\n",
      "Average F1 Score:  0.9724388628590578\n"
     ]
    }
   ],
   "source": [
    "dt_classifier = DecisionTreeClassifier(random_state=42)\n",
    "kf = KFold(n_splits=5, shuffle=True, random_state=42)\n",
    "f1_scorer = make_scorer(f1_score, average='macro')\n",
    "cross_val_scores = cross_val_score(dt_classifier, X, y, scoring=f1_scorer, cv=kf)\n",
    "\n",
    "print(\"F1 Scores for each fold: \", cross_val_scores)\n",
    "print(\"Average F1 Score: \", np.mean(cross_val_scores))"
   ],
   "metadata": {
    "collapsed": false,
    "pycharm": {
     "name": "#%%\n"
    }
   }
  },
  {
   "cell_type": "markdown",
   "source": [
    "# 测试集标签"
   ],
   "metadata": {
    "collapsed": false,
    "pycharm": {
     "name": "#%% md\n"
    }
   }
  },
  {
   "cell_type": "code",
   "execution_count": 13,
   "outputs": [
    {
     "name": "stdout",
     "output_type": "stream",
     "text": [
      "Training set label distribution: [87427 87461]\n",
      "Training set label distribution percentage: [0.49990279 0.50009721]\n",
      "Test set label distribution: [21878 21844]\n",
      "Test set label distribution percentage: [0.50038882 0.49961118]\n"
     ]
    }
   ],
   "source": [
    "from sklearn.model_selection import train_test_split\n",
    "import numpy as np\n",
    "\n",
    "X_train, X_test, y_train, y_test = train_test_split(X, y, test_size=0.2, random_state=42)\n",
    "\n",
    "train_label_distribution = np.bincount(y_train)\n",
    "test_label_distribution = np.bincount(y_test)\n",
    "\n",
    "train_label_distribution_percentage = train_label_distribution / train_label_distribution.sum()\n",
    "test_label_distribution_percentage = test_label_distribution / test_label_distribution.sum()\n",
    "\n",
    "print(\"Training set label distribution:\", train_label_distribution)\n",
    "print(\"Training set label distribution percentage:\", train_label_distribution_percentage)\n",
    "print(\"Test set label distribution:\", test_label_distribution)\n",
    "print(\"Test set label distribution percentage:\", test_label_distribution_percentage)"
   ],
   "metadata": {
    "collapsed": false,
    "pycharm": {
     "name": "#%%\n"
    }
   }
  },
  {
   "cell_type": "code",
   "execution_count": 5,
   "outputs": [],
   "source": [
    "from sklearn.model_selection import train_test_split\n",
    "from sklearn.neural_network import MLPClassifier\n",
    "from sklearn.tree import DecisionTreeClassifier\n",
    "from sklearn.ensemble import RandomForestClassifier\n",
    "import numpy as np\n",
    "import pandas as pd"
   ],
   "metadata": {
    "collapsed": false,
    "pycharm": {
     "name": "#%%\n"
    }
   }
  },
  {
   "cell_type": "code",
   "execution_count": 6,
   "outputs": [],
   "source": [
    "features = ['五之气', '三之气', '终之气', '初之气', '三之运', '土运不及', '初之运', '太阳寒水', '少角', '少羽',\n",
    " '弱土风火', '太阴湿土', '四之气', '太徵', '四之运', '太羽', '弱火风火', '无运气同化']"
   ],
   "metadata": {
    "collapsed": false,
    "pycharm": {
     "name": "#%%\n"
    }
   }
  },
  {
   "cell_type": "code",
   "execution_count": 27,
   "outputs": [
    {
     "data": {
      "text/plain": "{'五之气': 0,\n '三之气': 0,\n '终之气': 0,\n '初之气': 0,\n '三之运': 0,\n '土运不及': 0,\n '初之运': 0,\n '太阳寒水': 0,\n '少角': 0,\n '少羽': 0,\n '弱土风火': 0,\n '太阴湿土': 0,\n '四之气': 0,\n '太徵': 0,\n '四之运': 0,\n '太羽': 0,\n '弱火风火': 0,\n '无运气同化': 0}"
     },
     "execution_count": 27,
     "metadata": {},
     "output_type": "execute_result"
    }
   ],
   "source": [
    "feature_scores = {feature: 0 for feature in features}\n",
    "feature_scores"
   ],
   "metadata": {
    "collapsed": false,
    "pycharm": {
     "name": "#%%\n"
    }
   }
  },
  {
   "cell_type": "code",
   "execution_count": 4,
   "outputs": [],
   "source": [
    "sub_transformed_data = transformed_data.sample(frac=0.1);"
   ],
   "metadata": {
    "collapsed": false,
    "pycharm": {
     "name": "#%%\n"
    }
   }
  },
  {
   "cell_type": "code",
   "execution_count": 24,
   "outputs": [],
   "source": [
    "X = sub_transformed_data[features]\n",
    "y = sub_transformed_data['flag']"
   ],
   "metadata": {
    "collapsed": false,
    "pycharm": {
     "name": "#%%\n"
    }
   }
  },
  {
   "cell_type": "code",
   "execution_count": 30,
   "outputs": [
    {
     "name": "stdout",
     "output_type": "stream",
     "text": [
      "0\n",
      "1\n",
      "2\n",
      "3\n",
      "4\n",
      "5\n",
      "6\n",
      "7\n",
      "8\n",
      "9\n",
      "10\n",
      "11\n",
      "12\n",
      "13\n",
      "14\n",
      "15\n",
      "16\n",
      "17\n",
      "18\n",
      "19\n",
      "20\n",
      "21\n",
      "22\n",
      "23\n",
      "24\n",
      "25\n",
      "26\n",
      "27\n",
      "28\n",
      "29\n",
      "30\n",
      "31\n",
      "32\n",
      "33\n",
      "34\n",
      "35\n",
      "36\n",
      "37\n",
      "38\n",
      "39\n",
      "40\n",
      "41\n",
      "42\n",
      "43\n",
      "44\n",
      "45\n",
      "46\n",
      "47\n",
      "48\n",
      "49\n",
      "50\n",
      "51\n",
      "52\n",
      "53\n",
      "54\n",
      "55\n",
      "56\n",
      "57\n",
      "58\n",
      "59\n",
      "60\n",
      "61\n",
      "62\n",
      "63\n",
      "64\n",
      "65\n",
      "66\n",
      "67\n",
      "68\n",
      "69\n",
      "70\n",
      "71\n",
      "72\n",
      "73\n",
      "74\n",
      "75\n",
      "76\n",
      "77\n",
      "78\n",
      "79\n",
      "80\n",
      "81\n",
      "82\n",
      "83\n",
      "84\n",
      "85\n",
      "86\n",
      "87\n",
      "88\n",
      "89\n",
      "90\n",
      "91\n",
      "92\n",
      "93\n",
      "94\n",
      "95\n",
      "96\n",
      "97\n",
      "98\n",
      "99\n",
      "[('终之气', 3006), ('土运不及', 2089), ('少角', 1630), ('弱土风火', 1620), ('少羽', 1551), ('三之运', 1417), ('三之气', 1375), ('太阴湿土', 1213), ('弱火风火', 958), ('太羽', 900), ('初之气', 528), ('初之运', 504), ('太徵', 385), ('太阳寒水', 363), ('四之气', 219), ('四之运', 187), ('无运气同化', 116), ('五之气', 89)]\n"
     ]
    }
   ],
   "source": [
    "for i in range(100):\n",
    "    print(i)\n",
    "    X_train, X_test, y_train, y_test = train_test_split(X, y, test_size=0.2)\n",
    "\n",
    "    models = {\n",
    "        'ANN': MLPClassifier(random_state=i),\n",
    "        'DecisionTree': DecisionTreeClassifier(random_state=i),\n",
    "        'RandomForest': RandomForestClassifier(random_state=i)\n",
    "    }\n",
    "\n",
    "    for model_name, model in models.items():\n",
    "        model.fit(X_train, y_train)\n",
    "\n",
    "        if model_name == 'ANN':\n",
    "            weights = np.mean(np.abs(model.coefs_[0]), axis=1)\n",
    "        else:\n",
    "            weights = model.feature_importances_\n",
    "\n",
    "        ranked_features = np.argsort(weights)[::-1]\n",
    "\n",
    "        for rank, feature_index in enumerate(ranked_features[:10]):\n",
    "            feature_scores[features[feature_index]] += (10 - rank)\n",
    "\n",
    "sorted_features = sorted(feature_scores.items(), key=lambda x: x[1], reverse=True)\n",
    "\n",
    "print(sorted_features)"
   ],
   "metadata": {
    "collapsed": false,
    "pycharm": {
     "name": "#%%\n"
    }
   }
  },
  {
   "cell_type": "code",
   "execution_count": 32,
   "outputs": [
    {
     "data": {
      "text/plain": "{'五之气': 89,\n '三之气': 1375,\n '终之气': 3006,\n '初之气': 528,\n '三之运': 1417,\n '土运不及': 2089,\n '初之运': 504,\n '太阳寒水': 363,\n '少角': 1630,\n '少羽': 1551,\n '弱土风火': 1620,\n '太阴湿土': 1213,\n '四之气': 219,\n '太徵': 385,\n '四之运': 187,\n '太羽': 900,\n '弱火风火': 958,\n '无运气同化': 116}"
     },
     "execution_count": 32,
     "metadata": {},
     "output_type": "execute_result"
    }
   ],
   "source": [
    "feature_scores"
   ],
   "metadata": {
    "collapsed": false,
    "pycharm": {
     "name": "#%%\n"
    }
   }
  },
  {
   "cell_type": "code",
   "execution_count": 93,
   "outputs": [],
   "source": [
    "features = ['三之气', '终之气', '三之运', '土运不及', '少角', '少羽', '弱土风火']"
   ],
   "metadata": {
    "collapsed": false,
    "pycharm": {
     "name": "#%%\n"
    }
   }
  },
  {
   "cell_type": "code",
   "execution_count": 94,
   "outputs": [],
   "source": [
    "X = sub_transformed_data[features]\n",
    "y = sub_transformed_data['flag']"
   ],
   "metadata": {
    "collapsed": false,
    "pycharm": {
     "name": "#%%\n"
    }
   }
  },
  {
   "cell_type": "code",
   "execution_count": 95,
   "outputs": [
    {
     "name": "stdout",
     "output_type": "stream",
     "text": [
      "0.9515206951749371\n"
     ]
    }
   ],
   "source": [
    "from sklearn.tree import DecisionTreeClassifier\n",
    "\n",
    "X_train, X_test, y_train, y_test = train_test_split(X, y, test_size=0.2)\n",
    "dt_model = DecisionTreeClassifier(max_depth=None, random_state=42)\n",
    "dt_model.fit(X_train, y_train)\n",
    "y_pred = cross_val_predict(dt_model, X_test, y_test, cv=5)\n",
    "print(accuracy_score(y_test, y_pred))"
   ],
   "metadata": {
    "collapsed": false,
    "pycharm": {
     "name": "#%%\n"
    }
   }
  }
 ],
 "metadata": {
  "kernelspec": {
   "display_name": "Python 3",
   "language": "python",
   "name": "python3"
  },
  "language_info": {
   "codemirror_mode": {
    "name": "ipython",
    "version": 2
   },
   "file_extension": ".py",
   "mimetype": "text/x-python",
   "name": "python",
   "nbconvert_exporter": "python",
   "pygments_lexer": "ipython2",
   "version": "2.7.6"
  }
 },
 "nbformat": 4,
 "nbformat_minor": 0
}