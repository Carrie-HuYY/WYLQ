{
 "cells": [
  {
   "cell_type": "code",
   "execution_count": 42,
   "metadata": {
    "collapsed": true,
    "pycharm": {
     "name": "#%%\n"
    }
   },
   "outputs": [],
   "source": [
    "import pandas as pd\n",
    "from sklearn.model_selection import train_test_split\n",
    "from sklearn.preprocessing import StandardScaler, LabelEncoder\n",
    "from sklearn.svm import SVC, NuSVC, LinearSVC\n",
    "from sklearn.metrics import classification_report, accuracy_score\n",
    "from sklearn.neural_network import MLPClassifier"
   ]
  },
  {
   "cell_type": "markdown",
   "source": [
    "# 对数据进行标准化"
   ],
   "metadata": {
    "collapsed": false,
    "pycharm": {
     "name": "#%% md\n"
    }
   }
  },
  {
   "cell_type": "code",
   "execution_count": 4,
   "outputs": [
    {
     "data": {
      "text/plain": "   编号   发病前一年半的运气  运气相合  运气同化    岁运    司天    在泉 运气异化  主运  客运  属于几之运    主气  \\\n0   1  2016-10-06  强水火风     0  水运太过  少阳相火  厥阴风木   不和  太羽  少商      5  阳明燥金   \n1   1  2016-10-05  强水火风     0  水运太过  少阳相火  厥阴风木   不和  太羽  少商      5  阳明燥金   \n2   1  2016-10-04  强水火风     0  水运太过  少阳相火  厥阴风木   不和  太羽  少商      5  阳明燥金   \n3   1  2016-10-03  强水火风     0  水运太过  少阳相火  厥阴风木   不和  太羽  少商      5  阳明燥金   \n4   1  2016-10-02  强水火风     0  水运太过  少阳相火  厥阴风木   不和  太羽  少商      5  阳明燥金   \n5   1  2016-10-01  强水火风     0  水运太过  少阳相火  厥阴风木   不和  太羽  少商      5  阳明燥金   \n6   1  2016-09-30  强水火风     0  水运太过  少阳相火  厥阴风木   不和  少商  少宫      4  太阴湿土   \n7   2  2009-07-20  弱土湿寒  太一天符  土运不及  太阴湿土  太阳寒水    0  少宫  少羽      3  少阳相火   \n8   2  2009-07-19  弱土湿寒  太一天符  土运不及  太阴湿土  太阳寒水    0  少宫  少羽      3  少阳相火   \n9   2  2009-07-18  弱土湿寒  太一天符  土运不及  太阴湿土  太阳寒水    0  少宫  少羽      3  少阳相火   \n\n     客气  属于几之气 得/不得  逆/顺  \n0  太阳寒水      5   相得  NaN  \n1  太阳寒水      5   相得  NaN  \n2  太阳寒水      5   相得  NaN  \n3  太阳寒水      5   相得  NaN  \n4  太阳寒水      5   相得  NaN  \n5  太阳寒水      5   相得  NaN  \n6  阳明燥金      4   相得  NaN  \n7  太阴湿土      3   相得  NaN  \n8  太阴湿土      3   相得  NaN  \n9  太阴湿土      3   相得  NaN  ",
      "text/html": "<div>\n<style scoped>\n    .dataframe tbody tr th:only-of-type {\n        vertical-align: middle;\n    }\n\n    .dataframe tbody tr th {\n        vertical-align: top;\n    }\n\n    .dataframe thead th {\n        text-align: right;\n    }\n</style>\n<table border=\"1\" class=\"dataframe\">\n  <thead>\n    <tr style=\"text-align: right;\">\n      <th></th>\n      <th>编号</th>\n      <th>发病前一年半的运气</th>\n      <th>运气相合</th>\n      <th>运气同化</th>\n      <th>岁运</th>\n      <th>司天</th>\n      <th>在泉</th>\n      <th>运气异化</th>\n      <th>主运</th>\n      <th>客运</th>\n      <th>属于几之运</th>\n      <th>主气</th>\n      <th>客气</th>\n      <th>属于几之气</th>\n      <th>得/不得</th>\n      <th>逆/顺</th>\n    </tr>\n  </thead>\n  <tbody>\n    <tr>\n      <th>0</th>\n      <td>1</td>\n      <td>2016-10-06</td>\n      <td>强水火风</td>\n      <td>0</td>\n      <td>水运太过</td>\n      <td>少阳相火</td>\n      <td>厥阴风木</td>\n      <td>不和</td>\n      <td>太羽</td>\n      <td>少商</td>\n      <td>5</td>\n      <td>阳明燥金</td>\n      <td>太阳寒水</td>\n      <td>5</td>\n      <td>相得</td>\n      <td>NaN</td>\n    </tr>\n    <tr>\n      <th>1</th>\n      <td>1</td>\n      <td>2016-10-05</td>\n      <td>强水火风</td>\n      <td>0</td>\n      <td>水运太过</td>\n      <td>少阳相火</td>\n      <td>厥阴风木</td>\n      <td>不和</td>\n      <td>太羽</td>\n      <td>少商</td>\n      <td>5</td>\n      <td>阳明燥金</td>\n      <td>太阳寒水</td>\n      <td>5</td>\n      <td>相得</td>\n      <td>NaN</td>\n    </tr>\n    <tr>\n      <th>2</th>\n      <td>1</td>\n      <td>2016-10-04</td>\n      <td>强水火风</td>\n      <td>0</td>\n      <td>水运太过</td>\n      <td>少阳相火</td>\n      <td>厥阴风木</td>\n      <td>不和</td>\n      <td>太羽</td>\n      <td>少商</td>\n      <td>5</td>\n      <td>阳明燥金</td>\n      <td>太阳寒水</td>\n      <td>5</td>\n      <td>相得</td>\n      <td>NaN</td>\n    </tr>\n    <tr>\n      <th>3</th>\n      <td>1</td>\n      <td>2016-10-03</td>\n      <td>强水火风</td>\n      <td>0</td>\n      <td>水运太过</td>\n      <td>少阳相火</td>\n      <td>厥阴风木</td>\n      <td>不和</td>\n      <td>太羽</td>\n      <td>少商</td>\n      <td>5</td>\n      <td>阳明燥金</td>\n      <td>太阳寒水</td>\n      <td>5</td>\n      <td>相得</td>\n      <td>NaN</td>\n    </tr>\n    <tr>\n      <th>4</th>\n      <td>1</td>\n      <td>2016-10-02</td>\n      <td>强水火风</td>\n      <td>0</td>\n      <td>水运太过</td>\n      <td>少阳相火</td>\n      <td>厥阴风木</td>\n      <td>不和</td>\n      <td>太羽</td>\n      <td>少商</td>\n      <td>5</td>\n      <td>阳明燥金</td>\n      <td>太阳寒水</td>\n      <td>5</td>\n      <td>相得</td>\n      <td>NaN</td>\n    </tr>\n    <tr>\n      <th>5</th>\n      <td>1</td>\n      <td>2016-10-01</td>\n      <td>强水火风</td>\n      <td>0</td>\n      <td>水运太过</td>\n      <td>少阳相火</td>\n      <td>厥阴风木</td>\n      <td>不和</td>\n      <td>太羽</td>\n      <td>少商</td>\n      <td>5</td>\n      <td>阳明燥金</td>\n      <td>太阳寒水</td>\n      <td>5</td>\n      <td>相得</td>\n      <td>NaN</td>\n    </tr>\n    <tr>\n      <th>6</th>\n      <td>1</td>\n      <td>2016-09-30</td>\n      <td>强水火风</td>\n      <td>0</td>\n      <td>水运太过</td>\n      <td>少阳相火</td>\n      <td>厥阴风木</td>\n      <td>不和</td>\n      <td>少商</td>\n      <td>少宫</td>\n      <td>4</td>\n      <td>太阴湿土</td>\n      <td>阳明燥金</td>\n      <td>4</td>\n      <td>相得</td>\n      <td>NaN</td>\n    </tr>\n    <tr>\n      <th>7</th>\n      <td>2</td>\n      <td>2009-07-20</td>\n      <td>弱土湿寒</td>\n      <td>太一天符</td>\n      <td>土运不及</td>\n      <td>太阴湿土</td>\n      <td>太阳寒水</td>\n      <td>0</td>\n      <td>少宫</td>\n      <td>少羽</td>\n      <td>3</td>\n      <td>少阳相火</td>\n      <td>太阴湿土</td>\n      <td>3</td>\n      <td>相得</td>\n      <td>NaN</td>\n    </tr>\n    <tr>\n      <th>8</th>\n      <td>2</td>\n      <td>2009-07-19</td>\n      <td>弱土湿寒</td>\n      <td>太一天符</td>\n      <td>土运不及</td>\n      <td>太阴湿土</td>\n      <td>太阳寒水</td>\n      <td>0</td>\n      <td>少宫</td>\n      <td>少羽</td>\n      <td>3</td>\n      <td>少阳相火</td>\n      <td>太阴湿土</td>\n      <td>3</td>\n      <td>相得</td>\n      <td>NaN</td>\n    </tr>\n    <tr>\n      <th>9</th>\n      <td>2</td>\n      <td>2009-07-18</td>\n      <td>弱土湿寒</td>\n      <td>太一天符</td>\n      <td>土运不及</td>\n      <td>太阴湿土</td>\n      <td>太阳寒水</td>\n      <td>0</td>\n      <td>少宫</td>\n      <td>少羽</td>\n      <td>3</td>\n      <td>少阳相火</td>\n      <td>太阴湿土</td>\n      <td>3</td>\n      <td>相得</td>\n      <td>NaN</td>\n    </tr>\n  </tbody>\n</table>\n</div>"
     },
     "execution_count": 4,
     "metadata": {},
     "output_type": "execute_result"
    }
   ],
   "source": [
    "healthy_patient = pd.read_excel(\"data/washed_data/patient_year_data_washed.xlsx\")\n",
    "sick_patient = pd.read_excel(\"data/washed_data/patient_year_data_washed.xlsx\")\n",
    "\n",
    "healthy_patient.head(10)\n",
    "sick_patient.head(10)"
   ],
   "metadata": {
    "collapsed": false,
    "pycharm": {
     "name": "#%%\n"
    }
   }
  },
  {
   "cell_type": "code",
   "execution_count": 5,
   "outputs": [],
   "source": [
    "healthy_patient['flag'] = 0\n",
    "sick_patient['flag'] = 1"
   ],
   "metadata": {
    "collapsed": false,
    "pycharm": {
     "name": "#%%\n"
    }
   }
  },
  {
   "cell_type": "code",
   "execution_count": 6,
   "outputs": [
    {
     "data": {
      "text/plain": "   编号   发病前一年半的运气  运气相合  运气同化    岁运    司天    在泉 运气异化  主运  客运  属于几之运    主气  \\\n0   1  2016-10-06  强水火风     0  水运太过  少阳相火  厥阴风木   不和  太羽  少商      5  阳明燥金   \n1   1  2016-10-05  强水火风     0  水运太过  少阳相火  厥阴风木   不和  太羽  少商      5  阳明燥金   \n2   1  2016-10-04  强水火风     0  水运太过  少阳相火  厥阴风木   不和  太羽  少商      5  阳明燥金   \n3   1  2016-10-03  强水火风     0  水运太过  少阳相火  厥阴风木   不和  太羽  少商      5  阳明燥金   \n4   1  2016-10-02  强水火风     0  水运太过  少阳相火  厥阴风木   不和  太羽  少商      5  阳明燥金   \n5   1  2016-10-01  强水火风     0  水运太过  少阳相火  厥阴风木   不和  太羽  少商      5  阳明燥金   \n6   1  2016-09-30  强水火风     0  水运太过  少阳相火  厥阴风木   不和  少商  少宫      4  太阴湿土   \n7   2  2009-07-20  弱土湿寒  太一天符  土运不及  太阴湿土  太阳寒水    0  少宫  少羽      3  少阳相火   \n8   2  2009-07-19  弱土湿寒  太一天符  土运不及  太阴湿土  太阳寒水    0  少宫  少羽      3  少阳相火   \n9   2  2009-07-18  弱土湿寒  太一天符  土运不及  太阴湿土  太阳寒水    0  少宫  少羽      3  少阳相火   \n\n     客气  属于几之气 得/不得  逆/顺  flag  \n0  太阳寒水      5   相得  NaN     0  \n1  太阳寒水      5   相得  NaN     0  \n2  太阳寒水      5   相得  NaN     0  \n3  太阳寒水      5   相得  NaN     0  \n4  太阳寒水      5   相得  NaN     0  \n5  太阳寒水      5   相得  NaN     0  \n6  阳明燥金      4   相得  NaN     0  \n7  太阴湿土      3   相得  NaN     0  \n8  太阴湿土      3   相得  NaN     0  \n9  太阴湿土      3   相得  NaN     0  ",
      "text/html": "<div>\n<style scoped>\n    .dataframe tbody tr th:only-of-type {\n        vertical-align: middle;\n    }\n\n    .dataframe tbody tr th {\n        vertical-align: top;\n    }\n\n    .dataframe thead th {\n        text-align: right;\n    }\n</style>\n<table border=\"1\" class=\"dataframe\">\n  <thead>\n    <tr style=\"text-align: right;\">\n      <th></th>\n      <th>编号</th>\n      <th>发病前一年半的运气</th>\n      <th>运气相合</th>\n      <th>运气同化</th>\n      <th>岁运</th>\n      <th>司天</th>\n      <th>在泉</th>\n      <th>运气异化</th>\n      <th>主运</th>\n      <th>客运</th>\n      <th>属于几之运</th>\n      <th>主气</th>\n      <th>客气</th>\n      <th>属于几之气</th>\n      <th>得/不得</th>\n      <th>逆/顺</th>\n      <th>flag</th>\n    </tr>\n  </thead>\n  <tbody>\n    <tr>\n      <th>0</th>\n      <td>1</td>\n      <td>2016-10-06</td>\n      <td>强水火风</td>\n      <td>0</td>\n      <td>水运太过</td>\n      <td>少阳相火</td>\n      <td>厥阴风木</td>\n      <td>不和</td>\n      <td>太羽</td>\n      <td>少商</td>\n      <td>5</td>\n      <td>阳明燥金</td>\n      <td>太阳寒水</td>\n      <td>5</td>\n      <td>相得</td>\n      <td>NaN</td>\n      <td>0</td>\n    </tr>\n    <tr>\n      <th>1</th>\n      <td>1</td>\n      <td>2016-10-05</td>\n      <td>强水火风</td>\n      <td>0</td>\n      <td>水运太过</td>\n      <td>少阳相火</td>\n      <td>厥阴风木</td>\n      <td>不和</td>\n      <td>太羽</td>\n      <td>少商</td>\n      <td>5</td>\n      <td>阳明燥金</td>\n      <td>太阳寒水</td>\n      <td>5</td>\n      <td>相得</td>\n      <td>NaN</td>\n      <td>0</td>\n    </tr>\n    <tr>\n      <th>2</th>\n      <td>1</td>\n      <td>2016-10-04</td>\n      <td>强水火风</td>\n      <td>0</td>\n      <td>水运太过</td>\n      <td>少阳相火</td>\n      <td>厥阴风木</td>\n      <td>不和</td>\n      <td>太羽</td>\n      <td>少商</td>\n      <td>5</td>\n      <td>阳明燥金</td>\n      <td>太阳寒水</td>\n      <td>5</td>\n      <td>相得</td>\n      <td>NaN</td>\n      <td>0</td>\n    </tr>\n    <tr>\n      <th>3</th>\n      <td>1</td>\n      <td>2016-10-03</td>\n      <td>强水火风</td>\n      <td>0</td>\n      <td>水运太过</td>\n      <td>少阳相火</td>\n      <td>厥阴风木</td>\n      <td>不和</td>\n      <td>太羽</td>\n      <td>少商</td>\n      <td>5</td>\n      <td>阳明燥金</td>\n      <td>太阳寒水</td>\n      <td>5</td>\n      <td>相得</td>\n      <td>NaN</td>\n      <td>0</td>\n    </tr>\n    <tr>\n      <th>4</th>\n      <td>1</td>\n      <td>2016-10-02</td>\n      <td>强水火风</td>\n      <td>0</td>\n      <td>水运太过</td>\n      <td>少阳相火</td>\n      <td>厥阴风木</td>\n      <td>不和</td>\n      <td>太羽</td>\n      <td>少商</td>\n      <td>5</td>\n      <td>阳明燥金</td>\n      <td>太阳寒水</td>\n      <td>5</td>\n      <td>相得</td>\n      <td>NaN</td>\n      <td>0</td>\n    </tr>\n    <tr>\n      <th>5</th>\n      <td>1</td>\n      <td>2016-10-01</td>\n      <td>强水火风</td>\n      <td>0</td>\n      <td>水运太过</td>\n      <td>少阳相火</td>\n      <td>厥阴风木</td>\n      <td>不和</td>\n      <td>太羽</td>\n      <td>少商</td>\n      <td>5</td>\n      <td>阳明燥金</td>\n      <td>太阳寒水</td>\n      <td>5</td>\n      <td>相得</td>\n      <td>NaN</td>\n      <td>0</td>\n    </tr>\n    <tr>\n      <th>6</th>\n      <td>1</td>\n      <td>2016-09-30</td>\n      <td>强水火风</td>\n      <td>0</td>\n      <td>水运太过</td>\n      <td>少阳相火</td>\n      <td>厥阴风木</td>\n      <td>不和</td>\n      <td>少商</td>\n      <td>少宫</td>\n      <td>4</td>\n      <td>太阴湿土</td>\n      <td>阳明燥金</td>\n      <td>4</td>\n      <td>相得</td>\n      <td>NaN</td>\n      <td>0</td>\n    </tr>\n    <tr>\n      <th>7</th>\n      <td>2</td>\n      <td>2009-07-20</td>\n      <td>弱土湿寒</td>\n      <td>太一天符</td>\n      <td>土运不及</td>\n      <td>太阴湿土</td>\n      <td>太阳寒水</td>\n      <td>0</td>\n      <td>少宫</td>\n      <td>少羽</td>\n      <td>3</td>\n      <td>少阳相火</td>\n      <td>太阴湿土</td>\n      <td>3</td>\n      <td>相得</td>\n      <td>NaN</td>\n      <td>0</td>\n    </tr>\n    <tr>\n      <th>8</th>\n      <td>2</td>\n      <td>2009-07-19</td>\n      <td>弱土湿寒</td>\n      <td>太一天符</td>\n      <td>土运不及</td>\n      <td>太阴湿土</td>\n      <td>太阳寒水</td>\n      <td>0</td>\n      <td>少宫</td>\n      <td>少羽</td>\n      <td>3</td>\n      <td>少阳相火</td>\n      <td>太阴湿土</td>\n      <td>3</td>\n      <td>相得</td>\n      <td>NaN</td>\n      <td>0</td>\n    </tr>\n    <tr>\n      <th>9</th>\n      <td>2</td>\n      <td>2009-07-18</td>\n      <td>弱土湿寒</td>\n      <td>太一天符</td>\n      <td>土运不及</td>\n      <td>太阴湿土</td>\n      <td>太阳寒水</td>\n      <td>0</td>\n      <td>少宫</td>\n      <td>少羽</td>\n      <td>3</td>\n      <td>少阳相火</td>\n      <td>太阴湿土</td>\n      <td>3</td>\n      <td>相得</td>\n      <td>NaN</td>\n      <td>0</td>\n    </tr>\n  </tbody>\n</table>\n</div>"
     },
     "execution_count": 6,
     "metadata": {},
     "output_type": "execute_result"
    }
   ],
   "source": [
    "healthy_patient.head(10)"
   ],
   "metadata": {
    "collapsed": false,
    "pycharm": {
     "name": "#%%\n"
    }
   }
  },
  {
   "cell_type": "code",
   "execution_count": 7,
   "outputs": [
    {
     "data": {
      "text/plain": "   编号   发病前一年半的运气  运气相合  运气同化    岁运    司天    在泉 运气异化  主运  客运  属于几之运    主气  \\\n0   1  2016-10-06  强水火风     0  水运太过  少阳相火  厥阴风木   不和  太羽  少商      5  阳明燥金   \n1   1  2016-10-05  强水火风     0  水运太过  少阳相火  厥阴风木   不和  太羽  少商      5  阳明燥金   \n2   1  2016-10-04  强水火风     0  水运太过  少阳相火  厥阴风木   不和  太羽  少商      5  阳明燥金   \n3   1  2016-10-03  强水火风     0  水运太过  少阳相火  厥阴风木   不和  太羽  少商      5  阳明燥金   \n4   1  2016-10-02  强水火风     0  水运太过  少阳相火  厥阴风木   不和  太羽  少商      5  阳明燥金   \n5   1  2016-10-01  强水火风     0  水运太过  少阳相火  厥阴风木   不和  太羽  少商      5  阳明燥金   \n6   1  2016-09-30  强水火风     0  水运太过  少阳相火  厥阴风木   不和  少商  少宫      4  太阴湿土   \n7   2  2009-07-20  弱土湿寒  太一天符  土运不及  太阴湿土  太阳寒水    0  少宫  少羽      3  少阳相火   \n8   2  2009-07-19  弱土湿寒  太一天符  土运不及  太阴湿土  太阳寒水    0  少宫  少羽      3  少阳相火   \n9   2  2009-07-18  弱土湿寒  太一天符  土运不及  太阴湿土  太阳寒水    0  少宫  少羽      3  少阳相火   \n\n     客气  属于几之气 得/不得  逆/顺  flag  \n0  太阳寒水      5   相得  NaN     1  \n1  太阳寒水      5   相得  NaN     1  \n2  太阳寒水      5   相得  NaN     1  \n3  太阳寒水      5   相得  NaN     1  \n4  太阳寒水      5   相得  NaN     1  \n5  太阳寒水      5   相得  NaN     1  \n6  阳明燥金      4   相得  NaN     1  \n7  太阴湿土      3   相得  NaN     1  \n8  太阴湿土      3   相得  NaN     1  \n9  太阴湿土      3   相得  NaN     1  ",
      "text/html": "<div>\n<style scoped>\n    .dataframe tbody tr th:only-of-type {\n        vertical-align: middle;\n    }\n\n    .dataframe tbody tr th {\n        vertical-align: top;\n    }\n\n    .dataframe thead th {\n        text-align: right;\n    }\n</style>\n<table border=\"1\" class=\"dataframe\">\n  <thead>\n    <tr style=\"text-align: right;\">\n      <th></th>\n      <th>编号</th>\n      <th>发病前一年半的运气</th>\n      <th>运气相合</th>\n      <th>运气同化</th>\n      <th>岁运</th>\n      <th>司天</th>\n      <th>在泉</th>\n      <th>运气异化</th>\n      <th>主运</th>\n      <th>客运</th>\n      <th>属于几之运</th>\n      <th>主气</th>\n      <th>客气</th>\n      <th>属于几之气</th>\n      <th>得/不得</th>\n      <th>逆/顺</th>\n      <th>flag</th>\n    </tr>\n  </thead>\n  <tbody>\n    <tr>\n      <th>0</th>\n      <td>1</td>\n      <td>2016-10-06</td>\n      <td>强水火风</td>\n      <td>0</td>\n      <td>水运太过</td>\n      <td>少阳相火</td>\n      <td>厥阴风木</td>\n      <td>不和</td>\n      <td>太羽</td>\n      <td>少商</td>\n      <td>5</td>\n      <td>阳明燥金</td>\n      <td>太阳寒水</td>\n      <td>5</td>\n      <td>相得</td>\n      <td>NaN</td>\n      <td>1</td>\n    </tr>\n    <tr>\n      <th>1</th>\n      <td>1</td>\n      <td>2016-10-05</td>\n      <td>强水火风</td>\n      <td>0</td>\n      <td>水运太过</td>\n      <td>少阳相火</td>\n      <td>厥阴风木</td>\n      <td>不和</td>\n      <td>太羽</td>\n      <td>少商</td>\n      <td>5</td>\n      <td>阳明燥金</td>\n      <td>太阳寒水</td>\n      <td>5</td>\n      <td>相得</td>\n      <td>NaN</td>\n      <td>1</td>\n    </tr>\n    <tr>\n      <th>2</th>\n      <td>1</td>\n      <td>2016-10-04</td>\n      <td>强水火风</td>\n      <td>0</td>\n      <td>水运太过</td>\n      <td>少阳相火</td>\n      <td>厥阴风木</td>\n      <td>不和</td>\n      <td>太羽</td>\n      <td>少商</td>\n      <td>5</td>\n      <td>阳明燥金</td>\n      <td>太阳寒水</td>\n      <td>5</td>\n      <td>相得</td>\n      <td>NaN</td>\n      <td>1</td>\n    </tr>\n    <tr>\n      <th>3</th>\n      <td>1</td>\n      <td>2016-10-03</td>\n      <td>强水火风</td>\n      <td>0</td>\n      <td>水运太过</td>\n      <td>少阳相火</td>\n      <td>厥阴风木</td>\n      <td>不和</td>\n      <td>太羽</td>\n      <td>少商</td>\n      <td>5</td>\n      <td>阳明燥金</td>\n      <td>太阳寒水</td>\n      <td>5</td>\n      <td>相得</td>\n      <td>NaN</td>\n      <td>1</td>\n    </tr>\n    <tr>\n      <th>4</th>\n      <td>1</td>\n      <td>2016-10-02</td>\n      <td>强水火风</td>\n      <td>0</td>\n      <td>水运太过</td>\n      <td>少阳相火</td>\n      <td>厥阴风木</td>\n      <td>不和</td>\n      <td>太羽</td>\n      <td>少商</td>\n      <td>5</td>\n      <td>阳明燥金</td>\n      <td>太阳寒水</td>\n      <td>5</td>\n      <td>相得</td>\n      <td>NaN</td>\n      <td>1</td>\n    </tr>\n    <tr>\n      <th>5</th>\n      <td>1</td>\n      <td>2016-10-01</td>\n      <td>强水火风</td>\n      <td>0</td>\n      <td>水运太过</td>\n      <td>少阳相火</td>\n      <td>厥阴风木</td>\n      <td>不和</td>\n      <td>太羽</td>\n      <td>少商</td>\n      <td>5</td>\n      <td>阳明燥金</td>\n      <td>太阳寒水</td>\n      <td>5</td>\n      <td>相得</td>\n      <td>NaN</td>\n      <td>1</td>\n    </tr>\n    <tr>\n      <th>6</th>\n      <td>1</td>\n      <td>2016-09-30</td>\n      <td>强水火风</td>\n      <td>0</td>\n      <td>水运太过</td>\n      <td>少阳相火</td>\n      <td>厥阴风木</td>\n      <td>不和</td>\n      <td>少商</td>\n      <td>少宫</td>\n      <td>4</td>\n      <td>太阴湿土</td>\n      <td>阳明燥金</td>\n      <td>4</td>\n      <td>相得</td>\n      <td>NaN</td>\n      <td>1</td>\n    </tr>\n    <tr>\n      <th>7</th>\n      <td>2</td>\n      <td>2009-07-20</td>\n      <td>弱土湿寒</td>\n      <td>太一天符</td>\n      <td>土运不及</td>\n      <td>太阴湿土</td>\n      <td>太阳寒水</td>\n      <td>0</td>\n      <td>少宫</td>\n      <td>少羽</td>\n      <td>3</td>\n      <td>少阳相火</td>\n      <td>太阴湿土</td>\n      <td>3</td>\n      <td>相得</td>\n      <td>NaN</td>\n      <td>1</td>\n    </tr>\n    <tr>\n      <th>8</th>\n      <td>2</td>\n      <td>2009-07-19</td>\n      <td>弱土湿寒</td>\n      <td>太一天符</td>\n      <td>土运不及</td>\n      <td>太阴湿土</td>\n      <td>太阳寒水</td>\n      <td>0</td>\n      <td>少宫</td>\n      <td>少羽</td>\n      <td>3</td>\n      <td>少阳相火</td>\n      <td>太阴湿土</td>\n      <td>3</td>\n      <td>相得</td>\n      <td>NaN</td>\n      <td>1</td>\n    </tr>\n    <tr>\n      <th>9</th>\n      <td>2</td>\n      <td>2009-07-18</td>\n      <td>弱土湿寒</td>\n      <td>太一天符</td>\n      <td>土运不及</td>\n      <td>太阴湿土</td>\n      <td>太阳寒水</td>\n      <td>0</td>\n      <td>少宫</td>\n      <td>少羽</td>\n      <td>3</td>\n      <td>少阳相火</td>\n      <td>太阴湿土</td>\n      <td>3</td>\n      <td>相得</td>\n      <td>NaN</td>\n      <td>1</td>\n    </tr>\n  </tbody>\n</table>\n</div>"
     },
     "execution_count": 7,
     "metadata": {},
     "output_type": "execute_result"
    }
   ],
   "source": [
    "sick_patient.head(10)"
   ],
   "metadata": {
    "collapsed": false,
    "pycharm": {
     "name": "#%%\n"
    }
   }
  },
  {
   "cell_type": "code",
   "execution_count": 11,
   "outputs": [],
   "source": [
    "patient_data = pd.concat([healthy_patient, sick_patient], axis=0)"
   ],
   "metadata": {
    "collapsed": false,
    "pycharm": {
     "name": "#%%\n"
    }
   }
  },
  {
   "cell_type": "code",
   "execution_count": 13,
   "outputs": [
    {
     "data": {
      "text/plain": "   编号   发病前一年半的运气  运气相合  运气同化    岁运    司天    在泉 运气异化  主运  客运  属于几之运    主气  \\\n0   1  2016-10-06  强水火风     0  水运太过  少阳相火  厥阴风木   不和  太羽  少商      5  阳明燥金   \n1   1  2016-10-05  强水火风     0  水运太过  少阳相火  厥阴风木   不和  太羽  少商      5  阳明燥金   \n2   1  2016-10-04  强水火风     0  水运太过  少阳相火  厥阴风木   不和  太羽  少商      5  阳明燥金   \n3   1  2016-10-03  强水火风     0  水运太过  少阳相火  厥阴风木   不和  太羽  少商      5  阳明燥金   \n4   1  2016-10-02  强水火风     0  水运太过  少阳相火  厥阴风木   不和  太羽  少商      5  阳明燥金   \n5   1  2016-10-01  强水火风     0  水运太过  少阳相火  厥阴风木   不和  太羽  少商      5  阳明燥金   \n6   1  2016-09-30  强水火风     0  水运太过  少阳相火  厥阴风木   不和  少商  少宫      4  太阴湿土   \n7   2  2009-07-20  弱土湿寒  太一天符  土运不及  太阴湿土  太阳寒水    0  少宫  少羽      3  少阳相火   \n8   2  2009-07-19  弱土湿寒  太一天符  土运不及  太阴湿土  太阳寒水    0  少宫  少羽      3  少阳相火   \n9   2  2009-07-18  弱土湿寒  太一天符  土运不及  太阴湿土  太阳寒水    0  少宫  少羽      3  少阳相火   \n\n     客气  属于几之气 得/不得  逆/顺  flag  \n0  太阳寒水      5   相得  NaN     0  \n1  太阳寒水      5   相得  NaN     0  \n2  太阳寒水      5   相得  NaN     0  \n3  太阳寒水      5   相得  NaN     0  \n4  太阳寒水      5   相得  NaN     0  \n5  太阳寒水      5   相得  NaN     0  \n6  阳明燥金      4   相得  NaN     0  \n7  太阴湿土      3   相得  NaN     0  \n8  太阴湿土      3   相得  NaN     0  \n9  太阴湿土      3   相得  NaN     0  ",
      "text/html": "<div>\n<style scoped>\n    .dataframe tbody tr th:only-of-type {\n        vertical-align: middle;\n    }\n\n    .dataframe tbody tr th {\n        vertical-align: top;\n    }\n\n    .dataframe thead th {\n        text-align: right;\n    }\n</style>\n<table border=\"1\" class=\"dataframe\">\n  <thead>\n    <tr style=\"text-align: right;\">\n      <th></th>\n      <th>编号</th>\n      <th>发病前一年半的运气</th>\n      <th>运气相合</th>\n      <th>运气同化</th>\n      <th>岁运</th>\n      <th>司天</th>\n      <th>在泉</th>\n      <th>运气异化</th>\n      <th>主运</th>\n      <th>客运</th>\n      <th>属于几之运</th>\n      <th>主气</th>\n      <th>客气</th>\n      <th>属于几之气</th>\n      <th>得/不得</th>\n      <th>逆/顺</th>\n      <th>flag</th>\n    </tr>\n  </thead>\n  <tbody>\n    <tr>\n      <th>0</th>\n      <td>1</td>\n      <td>2016-10-06</td>\n      <td>强水火风</td>\n      <td>0</td>\n      <td>水运太过</td>\n      <td>少阳相火</td>\n      <td>厥阴风木</td>\n      <td>不和</td>\n      <td>太羽</td>\n      <td>少商</td>\n      <td>5</td>\n      <td>阳明燥金</td>\n      <td>太阳寒水</td>\n      <td>5</td>\n      <td>相得</td>\n      <td>NaN</td>\n      <td>0</td>\n    </tr>\n    <tr>\n      <th>1</th>\n      <td>1</td>\n      <td>2016-10-05</td>\n      <td>强水火风</td>\n      <td>0</td>\n      <td>水运太过</td>\n      <td>少阳相火</td>\n      <td>厥阴风木</td>\n      <td>不和</td>\n      <td>太羽</td>\n      <td>少商</td>\n      <td>5</td>\n      <td>阳明燥金</td>\n      <td>太阳寒水</td>\n      <td>5</td>\n      <td>相得</td>\n      <td>NaN</td>\n      <td>0</td>\n    </tr>\n    <tr>\n      <th>2</th>\n      <td>1</td>\n      <td>2016-10-04</td>\n      <td>强水火风</td>\n      <td>0</td>\n      <td>水运太过</td>\n      <td>少阳相火</td>\n      <td>厥阴风木</td>\n      <td>不和</td>\n      <td>太羽</td>\n      <td>少商</td>\n      <td>5</td>\n      <td>阳明燥金</td>\n      <td>太阳寒水</td>\n      <td>5</td>\n      <td>相得</td>\n      <td>NaN</td>\n      <td>0</td>\n    </tr>\n    <tr>\n      <th>3</th>\n      <td>1</td>\n      <td>2016-10-03</td>\n      <td>强水火风</td>\n      <td>0</td>\n      <td>水运太过</td>\n      <td>少阳相火</td>\n      <td>厥阴风木</td>\n      <td>不和</td>\n      <td>太羽</td>\n      <td>少商</td>\n      <td>5</td>\n      <td>阳明燥金</td>\n      <td>太阳寒水</td>\n      <td>5</td>\n      <td>相得</td>\n      <td>NaN</td>\n      <td>0</td>\n    </tr>\n    <tr>\n      <th>4</th>\n      <td>1</td>\n      <td>2016-10-02</td>\n      <td>强水火风</td>\n      <td>0</td>\n      <td>水运太过</td>\n      <td>少阳相火</td>\n      <td>厥阴风木</td>\n      <td>不和</td>\n      <td>太羽</td>\n      <td>少商</td>\n      <td>5</td>\n      <td>阳明燥金</td>\n      <td>太阳寒水</td>\n      <td>5</td>\n      <td>相得</td>\n      <td>NaN</td>\n      <td>0</td>\n    </tr>\n    <tr>\n      <th>5</th>\n      <td>1</td>\n      <td>2016-10-01</td>\n      <td>强水火风</td>\n      <td>0</td>\n      <td>水运太过</td>\n      <td>少阳相火</td>\n      <td>厥阴风木</td>\n      <td>不和</td>\n      <td>太羽</td>\n      <td>少商</td>\n      <td>5</td>\n      <td>阳明燥金</td>\n      <td>太阳寒水</td>\n      <td>5</td>\n      <td>相得</td>\n      <td>NaN</td>\n      <td>0</td>\n    </tr>\n    <tr>\n      <th>6</th>\n      <td>1</td>\n      <td>2016-09-30</td>\n      <td>强水火风</td>\n      <td>0</td>\n      <td>水运太过</td>\n      <td>少阳相火</td>\n      <td>厥阴风木</td>\n      <td>不和</td>\n      <td>少商</td>\n      <td>少宫</td>\n      <td>4</td>\n      <td>太阴湿土</td>\n      <td>阳明燥金</td>\n      <td>4</td>\n      <td>相得</td>\n      <td>NaN</td>\n      <td>0</td>\n    </tr>\n    <tr>\n      <th>7</th>\n      <td>2</td>\n      <td>2009-07-20</td>\n      <td>弱土湿寒</td>\n      <td>太一天符</td>\n      <td>土运不及</td>\n      <td>太阴湿土</td>\n      <td>太阳寒水</td>\n      <td>0</td>\n      <td>少宫</td>\n      <td>少羽</td>\n      <td>3</td>\n      <td>少阳相火</td>\n      <td>太阴湿土</td>\n      <td>3</td>\n      <td>相得</td>\n      <td>NaN</td>\n      <td>0</td>\n    </tr>\n    <tr>\n      <th>8</th>\n      <td>2</td>\n      <td>2009-07-19</td>\n      <td>弱土湿寒</td>\n      <td>太一天符</td>\n      <td>土运不及</td>\n      <td>太阴湿土</td>\n      <td>太阳寒水</td>\n      <td>0</td>\n      <td>少宫</td>\n      <td>少羽</td>\n      <td>3</td>\n      <td>少阳相火</td>\n      <td>太阴湿土</td>\n      <td>3</td>\n      <td>相得</td>\n      <td>NaN</td>\n      <td>0</td>\n    </tr>\n    <tr>\n      <th>9</th>\n      <td>2</td>\n      <td>2009-07-18</td>\n      <td>弱土湿寒</td>\n      <td>太一天符</td>\n      <td>土运不及</td>\n      <td>太阴湿土</td>\n      <td>太阳寒水</td>\n      <td>0</td>\n      <td>少宫</td>\n      <td>少羽</td>\n      <td>3</td>\n      <td>少阳相火</td>\n      <td>太阴湿土</td>\n      <td>3</td>\n      <td>相得</td>\n      <td>NaN</td>\n      <td>0</td>\n    </tr>\n  </tbody>\n</table>\n</div>"
     },
     "execution_count": 13,
     "metadata": {},
     "output_type": "execute_result"
    }
   ],
   "source": [
    "patient_data.head(10)"
   ],
   "metadata": {
    "collapsed": false,
    "pycharm": {
     "name": "#%%\n"
    }
   }
  },
  {
   "cell_type": "code",
   "execution_count": 15,
   "outputs": [
    {
     "data": {
      "text/plain": "Index(['编号', '发病前一年半的运气', '运气相合', '运气同化', '岁运', '司天', '在泉', '运气异化', '主运', '客运',\n       '属于几之运', '主气', '客气', '属于几之气', '得/不得', '逆/顺', 'flag'],\n      dtype='object')"
     },
     "execution_count": 15,
     "metadata": {},
     "output_type": "execute_result"
    }
   ],
   "source": [
    "patient_data.columns"
   ],
   "metadata": {
    "collapsed": false,
    "pycharm": {
     "name": "#%%\n"
    }
   }
  },
  {
   "cell_type": "code",
   "execution_count": 49,
   "outputs": [],
   "source": [
    "patient_sub_data = patient_data.sample(frac=0.1)"
   ],
   "metadata": {
    "collapsed": false,
    "pycharm": {
     "name": "#%%\n"
    }
   }
  },
  {
   "cell_type": "markdown",
   "source": [
    "# SVM"
   ],
   "metadata": {
    "collapsed": false,
    "pycharm": {
     "name": "#%% md\n"
    }
   }
  },
  {
   "cell_type": "code",
   "execution_count": 50,
   "outputs": [],
   "source": [
    "features = ['运气相合', '运气同化', '岁运', '司天', '在泉', '运气异化', '主运', '客运',\n",
    "       '属于几之运', '主气', '客气', '属于几之气', '得/不得', '逆/顺']\n",
    "\n",
    "target= ['flag']"
   ],
   "metadata": {
    "collapsed": false,
    "pycharm": {
     "name": "#%%\n"
    }
   }
  },
  {
   "cell_type": "code",
   "execution_count": 58,
   "outputs": [],
   "source": [
    "patient_sub_data[column] = le.fit_transform(patient_sub_data['沈天威'])"
   ],
   "metadata": {
    "collapsed": false,
    "pycharm": {
     "name": "#%%\n"
    }
   }
  },
  {
   "cell_type": "code",
   "execution_count": 59,
   "outputs": [
    {
     "data": {
      "text/plain": "           编号  发病前一年半的运气  运气相合  运气同化  岁运  司天  在泉  运气异化  主运  客运  属于几之运  主气  客气  \\\n27088    3017       1087     1     0   2   5   4     2   6   6      2   3   5   \n48074    5312        250     3     0   6   0   3     3   1   5      2   3   0   \n51751    5710       1358     9     0   7   1   2     2   6   0      2   3   1   \n17653    1973       1075     1     0   2   5   4     2   6   6      2   3   5   \n95930   10562       1078     1     0   2   5   4     2   6   6      2   3   5   \n...       ...        ...   ...   ...  ..  ..  ..   ...  ..  ..    ...  ..  ..   \n41818    4647       1081     1     0   2   5   4     2   6   6      2   3   5   \n69215    7626       1067     1     0   2   5   4     2   6   6      2   3   5   \n26346    2941       1046     1     0   2   5   4     2   6   6      2   3   5   \n97611   10748       1400     9     0   7   1   2     2   6   0      2   3   1   \n104030  11450       1391     9     0   7   1   2     2   6   0      2   3   1   \n\n        属于几之气  得/不得  逆/顺  flag  \n27088       2     0    0     1  \n48074       2     1    2     1  \n51751       2     0    1     0  \n17653       2     0    0     0  \n95930       2     0    0     1  \n...       ...   ...  ...   ...  \n41818       2     0    0     0  \n69215       2     0    0     0  \n26346       2     0    0     1  \n97611       2     0    1     0  \n104030      2     0    1     0  \n\n[21861 rows x 17 columns]",
      "text/html": "<div>\n<style scoped>\n    .dataframe tbody tr th:only-of-type {\n        vertical-align: middle;\n    }\n\n    .dataframe tbody tr th {\n        vertical-align: top;\n    }\n\n    .dataframe thead th {\n        text-align: right;\n    }\n</style>\n<table border=\"1\" class=\"dataframe\">\n  <thead>\n    <tr style=\"text-align: right;\">\n      <th></th>\n      <th>编号</th>\n      <th>发病前一年半的运气</th>\n      <th>运气相合</th>\n      <th>运气同化</th>\n      <th>岁运</th>\n      <th>司天</th>\n      <th>在泉</th>\n      <th>运气异化</th>\n      <th>主运</th>\n      <th>客运</th>\n      <th>属于几之运</th>\n      <th>主气</th>\n      <th>客气</th>\n      <th>属于几之气</th>\n      <th>得/不得</th>\n      <th>逆/顺</th>\n      <th>flag</th>\n    </tr>\n  </thead>\n  <tbody>\n    <tr>\n      <th>27088</th>\n      <td>3017</td>\n      <td>1087</td>\n      <td>1</td>\n      <td>0</td>\n      <td>2</td>\n      <td>5</td>\n      <td>4</td>\n      <td>2</td>\n      <td>6</td>\n      <td>6</td>\n      <td>2</td>\n      <td>3</td>\n      <td>5</td>\n      <td>2</td>\n      <td>0</td>\n      <td>0</td>\n      <td>1</td>\n    </tr>\n    <tr>\n      <th>48074</th>\n      <td>5312</td>\n      <td>250</td>\n      <td>3</td>\n      <td>0</td>\n      <td>6</td>\n      <td>0</td>\n      <td>3</td>\n      <td>3</td>\n      <td>1</td>\n      <td>5</td>\n      <td>2</td>\n      <td>3</td>\n      <td>0</td>\n      <td>2</td>\n      <td>1</td>\n      <td>2</td>\n      <td>1</td>\n    </tr>\n    <tr>\n      <th>51751</th>\n      <td>5710</td>\n      <td>1358</td>\n      <td>9</td>\n      <td>0</td>\n      <td>7</td>\n      <td>1</td>\n      <td>2</td>\n      <td>2</td>\n      <td>6</td>\n      <td>0</td>\n      <td>2</td>\n      <td>3</td>\n      <td>1</td>\n      <td>2</td>\n      <td>0</td>\n      <td>1</td>\n      <td>0</td>\n    </tr>\n    <tr>\n      <th>17653</th>\n      <td>1973</td>\n      <td>1075</td>\n      <td>1</td>\n      <td>0</td>\n      <td>2</td>\n      <td>5</td>\n      <td>4</td>\n      <td>2</td>\n      <td>6</td>\n      <td>6</td>\n      <td>2</td>\n      <td>3</td>\n      <td>5</td>\n      <td>2</td>\n      <td>0</td>\n      <td>0</td>\n      <td>0</td>\n    </tr>\n    <tr>\n      <th>95930</th>\n      <td>10562</td>\n      <td>1078</td>\n      <td>1</td>\n      <td>0</td>\n      <td>2</td>\n      <td>5</td>\n      <td>4</td>\n      <td>2</td>\n      <td>6</td>\n      <td>6</td>\n      <td>2</td>\n      <td>3</td>\n      <td>5</td>\n      <td>2</td>\n      <td>0</td>\n      <td>0</td>\n      <td>1</td>\n    </tr>\n    <tr>\n      <th>...</th>\n      <td>...</td>\n      <td>...</td>\n      <td>...</td>\n      <td>...</td>\n      <td>...</td>\n      <td>...</td>\n      <td>...</td>\n      <td>...</td>\n      <td>...</td>\n      <td>...</td>\n      <td>...</td>\n      <td>...</td>\n      <td>...</td>\n      <td>...</td>\n      <td>...</td>\n      <td>...</td>\n      <td>...</td>\n    </tr>\n    <tr>\n      <th>41818</th>\n      <td>4647</td>\n      <td>1081</td>\n      <td>1</td>\n      <td>0</td>\n      <td>2</td>\n      <td>5</td>\n      <td>4</td>\n      <td>2</td>\n      <td>6</td>\n      <td>6</td>\n      <td>2</td>\n      <td>3</td>\n      <td>5</td>\n      <td>2</td>\n      <td>0</td>\n      <td>0</td>\n      <td>0</td>\n    </tr>\n    <tr>\n      <th>69215</th>\n      <td>7626</td>\n      <td>1067</td>\n      <td>1</td>\n      <td>0</td>\n      <td>2</td>\n      <td>5</td>\n      <td>4</td>\n      <td>2</td>\n      <td>6</td>\n      <td>6</td>\n      <td>2</td>\n      <td>3</td>\n      <td>5</td>\n      <td>2</td>\n      <td>0</td>\n      <td>0</td>\n      <td>0</td>\n    </tr>\n    <tr>\n      <th>26346</th>\n      <td>2941</td>\n      <td>1046</td>\n      <td>1</td>\n      <td>0</td>\n      <td>2</td>\n      <td>5</td>\n      <td>4</td>\n      <td>2</td>\n      <td>6</td>\n      <td>6</td>\n      <td>2</td>\n      <td>3</td>\n      <td>5</td>\n      <td>2</td>\n      <td>0</td>\n      <td>0</td>\n      <td>1</td>\n    </tr>\n    <tr>\n      <th>97611</th>\n      <td>10748</td>\n      <td>1400</td>\n      <td>9</td>\n      <td>0</td>\n      <td>7</td>\n      <td>1</td>\n      <td>2</td>\n      <td>2</td>\n      <td>6</td>\n      <td>0</td>\n      <td>2</td>\n      <td>3</td>\n      <td>1</td>\n      <td>2</td>\n      <td>0</td>\n      <td>1</td>\n      <td>0</td>\n    </tr>\n    <tr>\n      <th>104030</th>\n      <td>11450</td>\n      <td>1391</td>\n      <td>9</td>\n      <td>0</td>\n      <td>7</td>\n      <td>1</td>\n      <td>2</td>\n      <td>2</td>\n      <td>6</td>\n      <td>0</td>\n      <td>2</td>\n      <td>3</td>\n      <td>1</td>\n      <td>2</td>\n      <td>0</td>\n      <td>1</td>\n      <td>0</td>\n    </tr>\n  </tbody>\n</table>\n<p>21861 rows × 17 columns</p>\n</div>"
     },
     "execution_count": 59,
     "metadata": {},
     "output_type": "execute_result"
    }
   ],
   "source": [
    "patient_sub_data"
   ],
   "metadata": {
    "collapsed": false,
    "pycharm": {
     "name": "#%%\n"
    }
   }
  },
  {
   "cell_type": "code",
   "execution_count": 60,
   "outputs": [],
   "source": [
    "X_train, X_test, y_train, y_test = \\\n",
    "    train_test_split(patient_sub_data[features], patient_sub_data[target], test_size=0.2, random_state=42)"
   ],
   "metadata": {
    "collapsed": false,
    "pycharm": {
     "name": "#%%\n"
    }
   }
  },
  {
   "cell_type": "code",
   "execution_count": 61,
   "outputs": [],
   "source": [
    "scaler = StandardScaler()\n",
    "X_train_scaled = scaler.fit_transform(X_train)\n",
    "X_test_scaled = scaler.transform(X_test)"
   ],
   "metadata": {
    "collapsed": false,
    "pycharm": {
     "name": "#%%\n"
    }
   }
  },
  {
   "cell_type": "code",
   "execution_count": 62,
   "outputs": [
    {
     "name": "stderr",
     "output_type": "stream",
     "text": [
      "D:\\anaconda\\lib\\site-packages\\sklearn\\utils\\validation.py:993: DataConversionWarning: A column-vector y was passed when a 1d array was expected. Please change the shape of y to (n_samples, ), for example using ravel().\n",
      "  y = column_or_1d(y, warn=True)\n"
     ]
    },
    {
     "data": {
      "text/plain": "SVC(gamma='auto')"
     },
     "execution_count": 62,
     "metadata": {},
     "output_type": "execute_result"
    }
   ],
   "source": [
    "svm_model = SVC(kernel='rbf', C=1.0, gamma='auto')\n",
    "svm_model.fit(X_train_scaled, y_train)"
   ],
   "metadata": {
    "collapsed": false,
    "pycharm": {
     "name": "#%%\n"
    }
   }
  },
  {
   "cell_type": "code",
   "execution_count": 63,
   "outputs": [
    {
     "name": "stdout",
     "output_type": "stream",
     "text": [
      "0.4870798079121884\n",
      "              precision    recall  f1-score   support\n",
      "\n",
      "           0       0.49      0.61      0.54      2207\n",
      "           1       0.48      0.37      0.41      2166\n",
      "\n",
      "    accuracy                           0.49      4373\n",
      "   macro avg       0.49      0.49      0.48      4373\n",
      "weighted avg       0.49      0.49      0.48      4373\n",
      "\n"
     ]
    }
   ],
   "source": [
    "y_pred = svm_model.predict(X_test_scaled)\n",
    "print(accuracy_score(y_test, y_pred))\n",
    "print(classification_report(y_test, y_pred))"
   ],
   "metadata": {
    "collapsed": false,
    "pycharm": {
     "name": "#%%\n"
    }
   }
  },
  {
   "cell_type": "markdown",
   "source": [
    "# NuSVC"
   ],
   "metadata": {
    "collapsed": false,
    "pycharm": {
     "name": "#%% md\n"
    }
   }
  },
  {
   "cell_type": "code",
   "execution_count": 56,
   "outputs": [
    {
     "name": "stderr",
     "output_type": "stream",
     "text": [
      "D:\\anaconda\\lib\\site-packages\\sklearn\\utils\\validation.py:993: DataConversionWarning: A column-vector y was passed when a 1d array was expected. Please change the shape of y to (n_samples, ), for example using ravel().\n",
      "  y = column_or_1d(y, warn=True)\n"
     ]
    }
   ],
   "source": [
    "nu_svc = NuSVC(nu=0.4)\n",
    "nu_svc.fit(X_train, y_train)\n",
    "y_pred = nu_svc.predict(X_test)"
   ],
   "metadata": {
    "collapsed": false,
    "pycharm": {
     "name": "#%%\n"
    }
   }
  },
  {
   "cell_type": "code",
   "execution_count": 57,
   "outputs": [
    {
     "name": "stdout",
     "output_type": "stream",
     "text": [
      "0.5124628401554997\n",
      "              precision    recall  f1-score   support\n",
      "\n",
      "           0       0.51      0.67      0.58      2207\n",
      "           1       0.51      0.35      0.42      2166\n",
      "\n",
      "    accuracy                           0.51      4373\n",
      "   macro avg       0.51      0.51      0.50      4373\n",
      "weighted avg       0.51      0.51      0.50      4373\n",
      "\n"
     ]
    }
   ],
   "source": [
    "print(accuracy_score(y_test, y_pred))\n",
    "print(classification_report(y_test, y_pred))"
   ],
   "metadata": {
    "collapsed": false,
    "pycharm": {
     "name": "#%%\n"
    }
   }
  },
  {
   "cell_type": "markdown",
   "source": [
    "# LinearSVC"
   ],
   "metadata": {
    "collapsed": false,
    "pycharm": {
     "name": "#%% md\n"
    }
   }
  },
  {
   "cell_type": "code",
   "execution_count": 48,
   "outputs": [
    {
     "name": "stdout",
     "output_type": "stream",
     "text": [
      "准确率: 0.49\n"
     ]
    },
    {
     "name": "stderr",
     "output_type": "stream",
     "text": [
      "D:\\anaconda\\lib\\site-packages\\sklearn\\utils\\validation.py:993: DataConversionWarning: A column-vector y was passed when a 1d array was expected. Please change the shape of y to (n_samples, ), for example using ravel().\n",
      "  y = column_or_1d(y, warn=True)\n"
     ]
    },
    {
     "name": "stdout",
     "output_type": "stream",
     "text": [
      "准确率: 0.50\n"
     ]
    },
    {
     "name": "stderr",
     "output_type": "stream",
     "text": [
      "D:\\anaconda\\lib\\site-packages\\sklearn\\svm\\_base.py:1206: ConvergenceWarning: Liblinear failed to converge, increase the number of iterations.\n",
      "  warnings.warn(\n",
      "D:\\anaconda\\lib\\site-packages\\sklearn\\utils\\validation.py:993: DataConversionWarning: A column-vector y was passed when a 1d array was expected. Please change the shape of y to (n_samples, ), for example using ravel().\n",
      "  y = column_or_1d(y, warn=True)\n"
     ]
    },
    {
     "name": "stdout",
     "output_type": "stream",
     "text": [
      "准确率: 0.49\n"
     ]
    }
   ],
   "source": [
    "linear_svc = LinearSVC(random_state=42, max_iter=10000)\n",
    "linear_svc.fit(X_train, y_train)\n",
    "\n",
    "y_pred = linear_svc.predict(X_test)\n",
    "\n",
    "accuracy = accuracy_score(y_test, y_pred)\n",
    "print(f'准确率: {accuracy:.2f}')"
   ],
   "metadata": {
    "collapsed": false,
    "pycharm": {
     "name": "#%%\n"
    }
   }
  },
  {
   "cell_type": "markdown",
   "source": [
    "# ANN"
   ],
   "metadata": {
    "collapsed": false,
    "pycharm": {
     "name": "#%% md\n"
    }
   }
  },
  {
   "cell_type": "code",
   "execution_count": 43,
   "outputs": [
    {
     "name": "stderr",
     "output_type": "stream",
     "text": [
      "D:\\anaconda\\lib\\site-packages\\sklearn\\neural_network\\_multilayer_perceptron.py:1109: DataConversionWarning: A column-vector y was passed when a 1d array was expected. Please change the shape of y to (n_samples, ), for example using ravel().\n",
      "  y = column_or_1d(y, warn=True)\n"
     ]
    },
    {
     "name": "stdout",
     "output_type": "stream",
     "text": [
      "准确率: 0.50\n"
     ]
    }
   ],
   "source": [
    "mlp = MLPClassifier(hidden_layer_sizes=(100,), max_iter=300, activation='relu', solver='adam', random_state=42)\n",
    "mlp.fit(X_train, y_train)\n",
    "\n",
    "y_pred = mlp.predict(X_test)\n",
    "\n",
    "accuracy = accuracy_score(y_test, y_pred)\n",
    "print(f'准确率: {accuracy:.2f}')"
   ],
   "metadata": {
    "collapsed": false,
    "pycharm": {
     "name": "#%%\n"
    }
   }
  },
  {
   "cell_type": "code",
   "execution_count": null,
   "outputs": [],
   "source": [],
   "metadata": {
    "collapsed": false,
    "pycharm": {
     "name": "#%%\n"
    }
   }
  }
 ],
 "metadata": {
  "kernelspec": {
   "display_name": "Python 3",
   "language": "python",
   "name": "python3"
  },
  "language_info": {
   "codemirror_mode": {
    "name": "ipython",
    "version": 2
   },
   "file_extension": ".py",
   "mimetype": "text/x-python",
   "name": "python",
   "nbconvert_exporter": "python",
   "pygments_lexer": "ipython2",
   "version": "2.7.6"
  }
 },
 "nbformat": 4,
 "nbformat_minor": 0
}